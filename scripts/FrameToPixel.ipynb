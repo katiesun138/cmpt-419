{
 "cells": [
  {
   "cell_type": "code",
   "execution_count": 19,
   "id": "0b64ea21",
   "metadata": {},
   "outputs": [],
   "source": [
    "from PIL import Image\n",
    "from openpyxl import Workbook\n",
    "import os\n",
    "import re\n",
    "\n",
    "# Natural sorting function\n",
    "def natural_sort_key(s):\n",
    "    return [int(text) if text.isdigit() else text.lower() for text in re.split(r'(\\d+)', s)]\n",
    "\n",
    "# Function to extract pixel values from an image\n",
    "def extract_pixels(image_path):\n",
    "    img = Image.open(image_path)\n",
    "    img_gray = img.convert('L')\n",
    "    img_resize = img_gray.resize((48, 48))\n",
    "    pixels = list(img_resize.getdata())\n",
    "    # Flatten the list of pixels into a single string\n",
    "    pixels_str = ' '.join(map(str, pixels))\n",
    "    return pixels_str\n",
    "\n",
    "# Folder containing the images\n",
    "folder_path = \"SarcasmFrames\"\n",
    "\n",
    "# Create a new Excel workbook\n",
    "wb = Workbook()\n",
    "ws = wb.active\n",
    "\n",
    "# Write headers\n",
    "ws.append(['Image 1', 'Image 2', 'Image 3'])\n",
    "\n",
    "# Initialize row index\n",
    "row_idx = 1\n",
    "\n",
    "# Get sorted list of image filenames\n",
    "image_filenames = sorted(os.listdir(folder_path), key=natural_sort_key)\n",
    "\n",
    "# Loop through the images in the folder\n",
    "for idx, filename in enumerate(image_filenames, start=1):\n",
    "    if filename.lower().endswith('.png') or filename.lower().endswith('.jpg') or filename.lower().endswith('.jpeg'):\n",
    "        image_path = os.path.join(folder_path, filename)\n",
    "        pixels_str = extract_pixels(image_path)\n",
    "        \n",
    "        # Determine column index based on image number\n",
    "        col_idx = (idx - 1) % 3 + 1\n",
    "        \n",
    "        # Write pixel values to the Excel sheet\n",
    "        ws.cell(row=row_idx, column=col_idx, value=pixels_str)\n",
    "        \n",
    "        # Move to next row after every third image\n",
    "        if idx % 3 == 0:\n",
    "            row_idx += 1\n",
    "\n",
    "# Save the Excel workbook\n",
    "excel_file = \"pixels_data.xlsx\"\n",
    "wb.save(excel_file)"
   ]
  },
  {
   "cell_type": "code",
   "execution_count": 23,
   "id": "79bd4acf",
   "metadata": {},
   "outputs": [
    {
     "data": {
      "image/png": "[encoded data removed]",
      "text/plain": [
       "<Figure size 640x480 with 1 Axes>"
      ]
     },
     "metadata": {},
     "output_type": "display_data"
    }
   ],
   "source": [
    "from skimage import io\n",
    "import numpy as np\n",
    "from openpyxl import load_workbook\n",
    "\n",
    "# Load workbook with pixel values\n",
    "wb = load_workbook('pixels_data.xlsx')\n",
    "ws = wb.active\n",
    "\n",
    "# Read serialized data from cell A1\n",
    "serialized_data = ws['A1'].value\n",
    "\n",
    "# Split the string by spaces to extract individual pixel values\n",
    "deserialized_list = serialized_data.split(' ')\n",
    "\n",
    "# Convert the list of strings to a list of integers\n",
    "deserialized_list = [int(pixel) for pixel in deserialized_list]\n",
    "\n",
    "# Convert the list to a numpy array\n",
    "image_array = np.array(deserialized_list, dtype=np.uint8)\n",
    "\n",
    "# Assuming the image is square, calculate the image shape\n",
    "image_size = int(np.sqrt(len(deserialized_list)))\n",
    "image_shape = (image_size, image_size)\n",
    "\n",
    "# Reshape the array into the image shape\n",
    "image_array = image_array.reshape(image_shape)\n",
    "\n",
    "# Display the image\n",
    "io.imshow(image_array)\n",
    "io.show()"
   ]
  },
  {
   "cell_type": "code",
   "execution_count": null,
   "id": "b7048dbd",
   "metadata": {},
   "outputs": [],
   "source": []
  }
 ],
 "metadata": {
  "kernelspec": {
   "display_name": "Python 3 (ipykernel)",
   "language": "python",
   "name": "python3"
  },
  "language_info": {
   "codemirror_mode": {
    "name": "ipython",
    "version": 3
   },
   "file_extension": ".py",
   "mimetype": "text/x-python",
   "name": "python",
   "nbconvert_exporter": "python",
   "pygments_lexer": "ipython3",
   "version": "3.11.5"
  }
 },
 "nbformat": 4,
 "nbformat_minor": 5
}
