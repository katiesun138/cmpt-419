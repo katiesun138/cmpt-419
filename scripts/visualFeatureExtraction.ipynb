import numpy as np
import pandas as pd
import tensorflow as tf
from tensorflow.keras.applications import VGG16
from tensorflow.keras.applications.vgg16 import preprocess_input
from tensorflow.keras.preprocessing import image
import matplotlib.pyplot as plt
from tensorflow.keras.models import Model
from PIL import Image
from skimage.transform import resize

from tensorflow.keras.applications import ResNet50
from tensorflow.keras.applications.resnet50 import preprocess_input
from skimage.color import gray2rgb
import sys
np.set_printoptions(threshold=sys.maxsize, suppress=True)
# np.set_printoptions(suppress=True)

# load the model
model = ResNet50(weights='imagenet', include_top=False)

#summary
# print(model.summary())

#load pixel data from excel file
excel_file = 'video_data/Sarcasm_Model_Dataset.xlsx'
df = pd.read_excel(excel_file)
# print(np.array(df['Image 1'][1]))
features_list = []


for i in range(len(df)):
    frame1 = np.array(df['frame_1'][i].split()).astype(int)
    frame2 = np.array(df['frame_2'][i].split()).astype(int)
    frame3 = np.array(df['frame_3'][i].split()).astype(int)
     #Stack the frames along the last axis to create a single array
    stacked_frames = np.concatenate([frame1, frame2, frame3], axis=-1)

    # Reshape the stacked frames to match the input shape expected by ResNet50
    stacked_frames = stacked_frames.reshape((1, 48, 48, 3)) 

    # Preprocess the input frames
    preprocessed_frames = preprocess_input(stacked_frames)

    # Extract features using the model
    frame_features = model.predict(preprocessed_frames)
    flattened_features = frame_features.reshape(frame_features.shape[0], -1)
    features_list.append(flattened_features)


features_strings = [np.array2string(features, separator=',') for features in features_list]

df['visual_extract'] = features_strings
df.to_excel(excel_file, index=False)

