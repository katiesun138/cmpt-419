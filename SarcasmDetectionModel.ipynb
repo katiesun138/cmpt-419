{
 "cells": [
  {
   "cell_type": "markdown",
   "id": "80d97467",
   "metadata": {},
   "source": [
    "# Load Data"
   ]
  },
  {
   "cell_type": "code",
   "execution_count": 40,
   "id": "f5df90e2",
   "metadata": {},
   "outputs": [],
   "source": [
    "# Libraries\n",
    "import pandas as pd\n",
    "import os\n",
    "import numpy as np\n",
    "import matplotlib.pyplot as plt\n",
    "from PIL import Image\n",
    "\n",
    "\n",
    "import librosa\n",
    "import librosa.display\n",
    "from IPython.display import Audio\n",
    "from skimage import color\n",
    "\n",
    "from transformers import TFAutoModelForSequenceClassification, AutoTokenizer, AutoConfig\n",
    "\n",
    "from sklearn.model_selection import train_test_split\n",
    "from sklearn.preprocessing import LabelEncoder\n",
    "from sklearn.feature_extraction.text import TfidfVectorizer\n",
    "from sklearn.metrics import accuracy_score, confusion_matrix, classification_report, ConfusionMatrixDisplay\n",
    "\n",
    "from scipy.special import softmax\n",
    "\n",
    "from tensorflow.keras.models import Sequential\n",
    "from tensorflow.keras.layers import Dense, Dropout\n",
    "from tensorflow.keras.applications import ResNet50\n",
    "from tensorflow.keras.applications.resnet50 import preprocess_input\n",
    "from tensorflow.keras.preprocessing.image import ImageDataGenerator\n",
    "\n",
    "from keras.models import Sequential\n",
    "from keras.layers import Conv2D, MaxPooling2D\n",
    "from keras.layers import Flatten, Dense, BatchNormalization, Dropout"
   ]
  },
  {
   "cell_type": "code",
   "execution_count": 41,
   "id": "6e1d337b",
   "metadata": {},
   "outputs": [],
   "source": [
    "# Loading data from csv\n",
    "df = pd.read_csv('Sarcasm_Model_Dataset.csv')\n",
    "df.head()\n",
    "\n",
    "# Splitting data into test and train (80:20 split)\n",
    "train_df, test_df = train_test_split(df, test_size=0.2, random_state=0)\n",
    "# print(len(train_df))"
   ]
  },
  {
   "cell_type": "markdown",
   "id": "46404d4a-afe6-42fa-8b04-37912b914408",
   "metadata": {},
   "source": [
    "Visual Classifier\n",
    "--"
   ]
  },
  {
   "cell_type": "code",
   "execution_count": 42,
   "id": "696be068-4444-455e-8cc1-22bcdeafead6",
   "metadata": {},
   "outputs": [],
   "source": [
    "\n",
    "\n",
    "train_df.reset_index(drop=True, inplace=True)\n",
    "test_df.reset_index(drop=True, inplace=True)\n",
    "\n",
    "#Create Directories for training images\n",
    "output_dir = 'train_images'\n",
    "\n",
    "# Create the output directory if it doesn't exist\n",
    "if not os.path.exists(output_dir):\n",
    "    os.makedirs(output_dir)\n",
    "\n",
    "columns_to_iterate = ['frame_1', 'frame_2', 'frame_3']\n",
    "\n",
    "# Iterate through each column\n",
    "for column in columns_to_iterate:\n",
    "    # Create a directory for the current column if it doesn't exist\n",
    "    column_dir = os.path.join(output_dir, column)\n",
    "    if not os.path.exists(column_dir):\n",
    "        os.makedirs(column_dir)\n",
    "        \n",
    "    sarcastic = os.path.join(column_dir, 'sarcastic')    \n",
    "    not_sarcastic = os.path.join(column_dir, 'not_sarcastic')\n",
    "    if not os.path.exists(sarcastic):\n",
    "        os.makedirs(sarcastic)\n",
    "    if not os.path.exists(not_sarcastic):\n",
    "        os.makedirs(not_sarcastic)\n",
    "        \n",
    "    for i in range(len(train_df)): \n",
    "        pixel_values = np.array(train_df[column][i].split(), dtype=np.uint8)\n",
    "        \n",
    "        # Reshape pixel values into image dimensions\n",
    "        image_array = pixel_values.reshape((48,48,1))\n",
    "        image_array = np.repeat(image_array, 3, axis=2)\n",
    "        # Create a PIL Image object\n",
    "        image = Image.fromarray(image_array)\n",
    "        \n",
    "        if train_df['sarcasm'][i] == True:\n",
    "            save_dir = sarcastic\n",
    "        else:\n",
    "            save_dir = not_sarcastic\n",
    "        image.save(os.path.join(save_dir, f'image_{i}.png'))  # Assuming you want to save images as PNG files"
   ]
  },
  {
   "cell_type": "code",
   "execution_count": 43,
   "id": "8abdfa65-350b-4b4e-8920-fdee5969ee18",
   "metadata": {},
   "outputs": [],
   "source": [
    "#Create Directories for test images\n",
    "output_dir = 'test_images'\n",
    "\n",
    "# Create the output directory if it doesn't exist\n",
    "if not os.path.exists(output_dir):\n",
    "    os.makedirs(output_dir)\n",
    "\n",
    "columns_to_iterate = ['frame_1', 'frame_2', 'frame_3']\n",
    "\n",
    "# Iterate through each column\n",
    "for column in columns_to_iterate:\n",
    "    # Create a directory for the current column if it doesn't exist\n",
    "    column_dir = os.path.join(output_dir, column)\n",
    "    if not os.path.exists(column_dir):\n",
    "        os.makedirs(column_dir)\n",
    "    \n",
    "    sarcastic = os.path.join(column_dir, 'sarcastic')    \n",
    "    not_sarcastic = os.path.join(column_dir, 'not_sarcastic')\n",
    "    if not os.path.exists(sarcastic):\n",
    "        os.makedirs(sarcastic)\n",
    "    if not os.path.exists(not_sarcastic):\n",
    "        os.makedirs(not_sarcastic)\n",
    "\n",
    "    for i in range(len(test_df)): \n",
    "        pixel_values = np.array(test_df[column][i].split(), dtype=np.uint8)\n",
    "        \n",
    "        # Reshape pixel values into image dimensions\n",
    "        image_array = pixel_values.reshape((48,48,1))\n",
    "        image_array = np.repeat(image_array, 3, axis=2)\n",
    "        \n",
    "        # Create a PIL Image object\n",
    "        image = Image.fromarray(image_array)\n",
    "\n",
    "        if train_df['sarcasm'][i] == True:\n",
    "            save_dir = sarcastic\n",
    "        else:\n",
    "            save_dir = not_sarcastic\n",
    "            \n",
    "        image.save(os.path.join(save_dir, f'image_{i}.png'))  # Assuming you want to save images as PNG files"
   ]
  },
  {
   "cell_type": "code",
   "execution_count": 44,
   "id": "b3daba0d-5f3f-4183-9978-29c3da92533e",
   "metadata": {},
   "outputs": [
    {
     "name": "stdout",
     "output_type": "stream",
     "text": [
      "Found 168 images belonging to 2 classes.\n",
      "Found 42 images belonging to 2 classes.\n"
     ]
    }
   ],
   "source": [
    "#Create generators\n",
    "train_datagen = ImageDataGenerator(\n",
    "    rescale=1./255,\n",
    "    rotation_range=20,\n",
    "    width_shift_range=0.2,\n",
    "    height_shift_range=0.2,\n",
    "    shear_range=0.2,\n",
    "    zoom_range=0.2,\n",
    "    horizontal_flip=True,\n",
    "    fill_mode='nearest'\n",
    ")\n",
    "\n",
    "train_generator_f1 = train_datagen.flow_from_directory(\n",
    "    'train_images/frame_1/',\n",
    "    target_size=(48,48),\n",
    "    batch_size=32,\n",
    "    class_mode='binary',\n",
    "    classes=['sarcastic', 'not_sarcastic']\n",
    ")\n",
    "\n",
    "test_datagen = ImageDataGenerator(rescale=1./255)\n",
    "\n",
    "test_generator_f1 = test_datagen.flow_from_directory(\n",
    "    'test_images/frame_1/',\n",
    "    target_size=(48, 48),\n",
    "    batch_size=32,\n",
    "    class_mode='binary',\n",
    "    classes=['sarcastic', 'not_sarcastic'],\n",
    "    shuffle=False\n",
    ")"
   ]
  },
  {
   "cell_type": "code",
   "execution_count": 45,
   "id": "c00c1d6f-e85c-413a-b295-c0a7c0ab9da4",
   "metadata": {},
   "outputs": [
    {
     "name": "stdout",
     "output_type": "stream",
     "text": [
      "Epoch 1/15\n",
      "6/6 [==============================] - 13s 426ms/step - loss: 0.7921 - accuracy: 0.5417\n",
      "Epoch 2/15\n",
      "6/6 [==============================] - 2s 234ms/step - loss: 0.7755 - accuracy: 0.5179\n",
      "Epoch 3/15\n",
      "6/6 [==============================] - 1s 220ms/step - loss: 0.8100 - accuracy: 0.4881\n",
      "Epoch 4/15\n",
      "6/6 [==============================] - 2s 220ms/step - loss: 0.7536 - accuracy: 0.4881\n",
      "Epoch 5/15\n",
      "6/6 [==============================] - 2s 226ms/step - loss: 0.7151 - accuracy: 0.5119\n",
      "Epoch 6/15\n",
      "6/6 [==============================] - 1s 215ms/step - loss: 0.7775 - accuracy: 0.4643\n",
      "Epoch 7/15\n",
      "6/6 [==============================] - 2s 222ms/step - loss: 0.7777 - accuracy: 0.5298\n",
      "Epoch 8/15\n",
      "6/6 [==============================] - 2s 225ms/step - loss: 0.7370 - accuracy: 0.5060\n",
      "Epoch 9/15\n",
      "6/6 [==============================] - 2s 263ms/step - loss: 0.7619 - accuracy: 0.5119\n",
      "Epoch 10/15\n",
      "6/6 [==============================] - 2s 224ms/step - loss: 0.7511 - accuracy: 0.5119\n",
      "Epoch 11/15\n",
      "6/6 [==============================] - 1s 221ms/step - loss: 0.7532 - accuracy: 0.5119\n",
      "Epoch 12/15\n",
      "6/6 [==============================] - 2s 231ms/step - loss: 0.7325 - accuracy: 0.4881\n",
      "Epoch 13/15\n",
      "6/6 [==============================] - 2s 226ms/step - loss: 0.7245 - accuracy: 0.5060\n",
      "Epoch 14/15\n",
      "6/6 [==============================] - 2s 216ms/step - loss: 0.6832 - accuracy: 0.5833\n",
      "Epoch 15/15\n",
      "6/6 [==============================] - 1s 217ms/step - loss: 0.7146 - accuracy: 0.5298\n"
     ]
    }
   ],
   "source": [
    "# Training parameters\n",
    "n_epochs = 15\n",
    "\n",
    "# Load pre-trained ResNet50 model\n",
    "base_model = ResNet50(weights='imagenet', include_top=False, input_shape=(48,48, 3))\n",
    "\n",
    "# Add custom classifier layers on top of ResNet50\n",
    "x = base_model.output\n",
    "#x = GlobalAveragePooling2D()(x)\n",
    "x = Dense(128, activation='relu')(x)\n",
    "x = Flatten()(x)\n",
    "output = Dense(1, activation='sigmoid')(x)\n",
    "\n",
    "# Create the full model\n",
    "resnet_model = Model(inputs=base_model.input, outputs=output)\n",
    "\n",
    "# Freeze layers of the base model\n",
    "for layer in base_model.layers:\n",
    "    layer.trainable = False\n",
    "\n",
    "# Compile the model\n",
    "resnet_model.compile(optimizer='adam', loss='binary_crossentropy', metrics=['accuracy'])\n",
    "\n",
    "# Train the model (assumes you have train and validation generators)\n",
    "history = resnet_model.fit(train_generator_f1, epochs=n_epochs)"
   ]
  },
  {
   "cell_type": "code",
   "execution_count": 46,
   "id": "15823c77",
   "metadata": {},
   "outputs": [
    {
     "name": "stdout",
     "output_type": "stream",
     "text": [
      "2/2 [==============================] - 3s 109ms/step - loss: 0.6944 - accuracy: 0.5714\n",
      "Test Accuracy: 0.5714285969734192\n"
     ]
    }
   ],
   "source": [
    "# Output the accuracy\n",
    "visual_loss, visual_accuracy = resnet_model.evaluate(test_generator_f1)\n",
    "\n",
    "print(\"Test Accuracy:\", visual_accuracy)"
   ]
  },
  {
   "cell_type": "code",
   "execution_count": 47,
   "id": "7e311a6f-e4f6-4f03-8c95-1b050623d0fe",
   "metadata": {},
   "outputs": [
    {
     "name": "stdout",
     "output_type": "stream",
     "text": [
      "2/2 [==============================] - 4s 117ms/step\n",
      "[[0.49843055]\n",
      " [0.43217582]\n",
      " [0.4959605 ]\n",
      " [0.4657651 ]\n",
      " [0.366039  ]\n",
      " [0.4009132 ]\n",
      " [0.34052154]\n",
      " [0.4386709 ]\n",
      " [0.45657828]\n",
      " [0.41229218]\n",
      " [0.4506959 ]\n",
      " [0.44241846]\n",
      " [0.4125816 ]\n",
      " [0.3920646 ]\n",
      " [0.44546998]\n",
      " [0.4162069 ]\n",
      " [0.44317317]\n",
      " [0.4927784 ]\n",
      " [0.42275655]\n",
      " [0.47074363]\n",
      " [0.4985928 ]\n",
      " [0.4715255 ]\n",
      " [0.4792515 ]\n",
      " [0.4747015 ]\n",
      " [0.41227373]\n",
      " [0.5285966 ]\n",
      " [0.45446014]\n",
      " [0.40067804]\n",
      " [0.38097873]\n",
      " [0.39075837]\n",
      " [0.43497887]\n",
      " [0.43703607]\n",
      " [0.50132304]\n",
      " [0.47805992]\n",
      " [0.4585438 ]\n",
      " [0.3812153 ]\n",
      " [0.4377294 ]\n",
      " [0.46401986]\n",
      " [0.50111765]\n",
      " [0.38778856]\n",
      " [0.4517801 ]\n",
      " [0.45446077]]\n"
     ]
    }
   ],
   "source": [
    "# Perform inference on test images\n",
    "visual_predictions = resnet_model.predict(test_generator_f1)\n",
    "\n",
    "# Output the percentage that each image is sarcastic\n",
    "print(visual_predictions)"
   ]
  },
  {
   "cell_type": "markdown",
   "id": "2636b8c8",
   "metadata": {},
   "source": [
    "# Audio Classifier"
   ]
  },
  {
   "cell_type": "code",
   "execution_count": 49,
   "id": "2d953c3e-7a67-4b93-a48f-acf5498d2e8d",
   "metadata": {},
   "outputs": [],
   "source": [
    "#Sources: https://medium.com/@hasithsura/audio-classification-d37a82d6715\n",
    "         #https://github.com/jeffprosise/Deep-Learning/blob/master/Audio%20Classification%20(CNN).ipynb\n",
    "\n",
    "#Define helper functions\n",
    "max_audio_length = 10 #seconds\n",
    "\n",
    "def get_melspectrogram_db(file_path, sr=None, n_fft=2048, hop_length=512, n_mels=128, fmin=20, fmax=8300, top_db=80):\n",
    "  wav,sr = librosa.load(file_path,sr=sr)\n",
    "  if wav.shape[0]<max_audio_length*sr:\n",
    "    wav=np.pad(wav,int(np.ceil((max_audio_length*sr-wav.shape[0])/2)),mode='reflect') #pad audio by reflecting\n",
    "  else:\n",
    "    wav=wav[:max_audio_length*sr]\n",
    "  spec=librosa.feature.melspectrogram(y=wav, sr=sr, n_fft=n_fft, hop_length=hop_length,n_mels=n_mels,fmin=fmin,fmax=fmax)\n",
    "  spec_db=librosa.power_to_db(spec,top_db=top_db)\n",
    "  return spec_db\n",
    "\n",
    "def spec_to_image(spec, eps=1e-6):\n",
    "  mean = spec.mean()\n",
    "  std = spec.std()\n",
    "  spec_norm = (spec - mean) / (std + eps) #z score normalization\n",
    "  spec_min, spec_max = spec_norm.min(), spec_norm.max()\n",
    "  spec_scaled = 255 * (spec_norm - spec_min) / (spec_max - spec_min)\n",
    "  spec_scaled = spec_scaled.astype(np.uint8)\n",
    "  return spec_scaled"
   ]
  },
  {
   "cell_type": "code",
   "execution_count": 50,
   "id": "32638f14-7355-4a1e-8afa-a237313fd5d3",
   "metadata": {},
   "outputs": [],
   "source": [
    "#Convert .wav files to spectrogram images\n",
    "audio_dir = 'audio_data'\n",
    "\n",
    "def get_spec_images(filenames, directory):\n",
    "    spec_images = []\n",
    "    for filename in filenames:\n",
    "        if filename.endswith(\".wav\"):\n",
    "            file_path = os.path.join(directory, filename)\n",
    "            spectrogram = get_melspectrogram_db(file_path)\n",
    "            spec_image = spec_to_image(spectrogram)\n",
    "            spec_images.append(spec_image)\n",
    "    return spec_images\n",
    "\n",
    "train_spec_images = get_spec_images(train_df['tone'], audio_dir)\n",
    "train_spec_labels = train_df['sarcasm']\n",
    "\n",
    "test_spec_images = get_spec_images(test_df['tone'], audio_dir)\n",
    "test_spec_labels = test_df['sarcasm']"
   ]
  },
  {
   "cell_type": "code",
   "execution_count": 51,
   "id": "657a2f8c-46f5-4ae2-800b-f42f9046b62e",
   "metadata": {},
   "outputs": [],
   "source": [
    "#divide the pixel values by 255\n",
    "tone_train_norm = np.array(train_spec_images) \n",
    "tone_test_norm = np.array(test_spec_images)\n",
    "\n",
    "#one-hot-encode the labels\n",
    "tone_train_encoded = to_categorical(train_spec_labels)\n",
    "tone_test_encoded = to_categorical(test_spec_labels)"
   ]
  },
  {
   "cell_type": "code",
   "execution_count": 52,
   "id": "0c5fe4fc-d7e1-419d-8a36-e49f8c496e35",
   "metadata": {
    "scrolled": true
   },
   "outputs": [],
   "source": [
    "#Build Model\n",
    "model = Sequential()\n",
    "model.add(Conv2D(32, (3, 3), activation='relu', input_shape=(128, 862, 1)))\n",
    "model.add(BatchNormalization())\n",
    "model.add(MaxPooling2D(2, 2))\n",
    "model.add(Conv2D(128, (3, 3), activation='relu'))\n",
    "model.add(BatchNormalization())\n",
    "model.add(MaxPooling2D(2, 2))\n",
    "model.add(Flatten())\n",
    "model.add(Dropout(0.25))\n",
    "model.add(Dense(64, activation='relu'))\n",
    "model.add(Dense(2, activation='sigmoid'))  # Output layer with 1 unit for binary classification\n",
    "\n",
    "model.compile(optimizer='adam', loss='binary_crossentropy', metrics=['accuracy'])\n",
    "#model.summary()"
   ]
  },
  {
   "cell_type": "code",
   "execution_count": 53,
   "id": "84c51f24-f206-47eb-88ee-5cd546883365",
   "metadata": {},
   "outputs": [
    {
     "name": "stdout",
     "output_type": "stream",
     "text": [
      "Epoch 1/10\n",
      "14/14 [==============================] - 46s 3s/step - loss: 57.4016 - accuracy: 0.5149 - val_loss: 23.2997 - val_accuracy: 0.5294\n",
      "Epoch 2/10\n",
      "14/14 [==============================] - 34s 2s/step - loss: 16.8159 - accuracy: 0.6493 - val_loss: 5.1144 - val_accuracy: 0.4412\n",
      "Epoch 3/10\n",
      "14/14 [==============================] - 33s 2s/step - loss: 2.4348 - accuracy: 0.8433 - val_loss: 12.0693 - val_accuracy: 0.4706\n",
      "Epoch 4/10\n",
      "14/14 [==============================] - 33s 2s/step - loss: 0.5184 - accuracy: 0.8881 - val_loss: 9.1634 - val_accuracy: 0.4118\n",
      "Epoch 5/10\n",
      "14/14 [==============================] - 33s 2s/step - loss: 0.5820 - accuracy: 0.8806 - val_loss: 9.3069 - val_accuracy: 0.4412\n",
      "Epoch 6/10\n",
      "14/14 [==============================] - 34s 2s/step - loss: 0.9272 - accuracy: 0.8582 - val_loss: 7.0174 - val_accuracy: 0.6176\n",
      "Epoch 7/10\n",
      "14/14 [==============================] - 35s 2s/step - loss: 0.7090 - accuracy: 0.8806 - val_loss: 8.3252 - val_accuracy: 0.5882\n",
      "Epoch 8/10\n",
      "14/14 [==============================] - 34s 2s/step - loss: 0.2270 - accuracy: 0.9179 - val_loss: 8.9948 - val_accuracy: 0.6471\n",
      "Epoch 9/10\n",
      "14/14 [==============================] - 33s 2s/step - loss: 0.2320 - accuracy: 0.9104 - val_loss: 10.0901 - val_accuracy: 0.5588\n",
      "Epoch 10/10\n",
      "14/14 [==============================] - 33s 2s/step - loss: 0.2067 - accuracy: 0.9030 - val_loss: 11.7783 - val_accuracy: 0.5294\n"
     ]
    }
   ],
   "source": [
    "batch = 10\n",
    "epochs = 10\n",
    "\n",
    "#Fit the model\n",
    "tone_model = model.fit(tone_train_norm, tone_train_encoded, batch_size=batch, epochs=epochs, validation_split = 0.2)"
   ]
  },
  {
   "cell_type": "code",
   "execution_count": 54,
   "id": "34c434ad-bdd8-42dd-a204-409b7ccbb298",
   "metadata": {},
   "outputs": [
    {
     "data": {
      "text/plain": [
       "[]"
      ]
     },
     "execution_count": 54,
     "metadata": {},
     "output_type": "execute_result"
    },
    {
     "data": {
      "image/png": "[encoded data removed]",
      "text/plain": [
       "<Figure size 640x480 with 1 Axes>"
      ]
     },
     "metadata": {},
     "output_type": "display_data"
    }
   ],
   "source": [
    "#Train and validation accuracy graph\n",
    "accuracy = tone_model.history['accuracy']\n",
    "validation_acc = tone_model.history['val_accuracy']\n",
    "epochs = range(1, len(accuracy) + 1)\n",
    "\n",
    "plt.plot(epochs, accuracy, '-', label='Training Accuracy')\n",
    "plt.plot(epochs, validation_acc, ':', label='Validation Accuracy')\n",
    "plt.title('Tone Model: Training and Validation Accuracy')\n",
    "plt.xlabel('Epoch')\n",
    "plt.ylabel('Accuracy')\n",
    "plt.legend(loc='lower right')\n",
    "plt.plot()"
   ]
  },
  {
   "cell_type": "code",
   "execution_count": 55,
   "id": "8e72fbff-66fd-44d4-b19b-9000dd9f6ac9",
   "metadata": {
    "scrolled": true
   },
   "outputs": [
    {
     "name": "stdout",
     "output_type": "stream",
     "text": [
      "WARNING:tensorflow:5 out of the last 9 calls to <function Model.make_predict_function.<locals>.predict_function at 0x000001E7E4216C10> triggered tf.function retracing. Tracing is expensive and the excessive number of tracings could be due to (1) creating @tf.function repeatedly in a loop, (2) passing tensors with different shapes, (3) passing Python objects instead of tensors. For (1), please define your @tf.function outside of the loop. For (2), @tf.function has reduce_retracing=True option that can avoid unnecessary retracing. For (3), please refer to https://www.tensorflow.org/guide/function#controlling_retracing and https://www.tensorflow.org/api_docs/python/tf/function for  more details.\n",
      "2/2 [==============================] - 2s 482ms/step\n",
      "[5.0835067e-01 5.0835067e-01 6.4819507e-02 5.0835067e-01 7.2744304e-01\n",
      " 1.0000000e+00 4.2687026e-07 3.4432450e-01 9.9896348e-01 9.9992919e-01\n",
      " 5.0835067e-01 9.9335086e-01 2.4579669e-05 9.9999899e-01 2.2961356e-01\n",
      " 7.9337436e-01 1.4448425e-04 9.9999982e-01 0.0000000e+00 8.7505448e-01\n",
      " 5.0835067e-01 5.0835067e-01 3.5214770e-01 0.0000000e+00 9.9974740e-01\n",
      " 5.0835067e-01 1.2669337e-01 3.8248457e-23 9.9999881e-01 5.5800206e-06\n",
      " 1.0000000e+00 1.0000000e+00 5.0835067e-01 5.0835067e-01 4.4965917e-01\n",
      " 9.9822682e-01 2.2457169e-01 9.9897200e-01 5.0835067e-01 9.4342613e-01\n",
      " 9.9995863e-01 1.0000000e+00]\n"
     ]
    }
   ],
   "source": [
    "#make predictions on test set\n",
    "tone_predictions = model.predict(tone_test_norm)\n",
    "\n",
    "#Filter to only positive class\n",
    "tone_predictions = tone_predictions[:, 1]\n",
    "print(tone_predictions)"
   ]
  },
  {
   "cell_type": "markdown",
   "id": "3dc3c534",
   "metadata": {},
   "source": [
    "# Text Classifer"
   ]
  },
  {
   "cell_type": "code",
   "execution_count": 56,
   "id": "4fcfd045",
   "metadata": {
    "scrolled": true
   },
   "outputs": [
    {
     "name": "stderr",
     "output_type": "stream",
     "text": [
      "All model checkpoint layers were used when initializing TFRobertaForSequenceClassification.\n",
      "\n",
      "Some layers of TFRobertaForSequenceClassification were not initialized from the model checkpoint at cardiffnlp/twitter-roberta-base-sentiment-latest and are newly initialized: ['classifier']\n",
      "You should probably TRAIN this model on a down-stream task to be able to use it for predictions and inference.\n"
     ]
    },
    {
     "name": "stdout",
     "output_type": "stream",
     "text": [
      "         video                                            frame_1  \\\n",
      "0    2_208.mp4  8 8 8 8 8 6 6 6 6 6 7 7 7 6 6 6 5 4 9 23 14 13...   \n",
      "1    2_575.mp4  8 8 6 3 8 12 14 33 44 58 54 24 37 29 35 38 38 ...   \n",
      "2    1_276.mp4  123 124 124 92 31 11 14 15 15 16 15 15 15 13 1...   \n",
      "3  1_10890.mp4  53 58 63 44 59 155 169 168 167 164 163 161 161...   \n",
      "4    2_514.mp4  72 97 132 169 162 136 81 155 191 175 194 195 2...   \n",
      "\n",
      "                                             frame_2  \\\n",
      "0  2 2 2 2 2 2 3 3 3 3 3 2 3 2 1 17 20 14 15 15 1...   \n",
      "1  2 1 5 15 20 19 13 30 49 33 23 32 33 29 24 29 2...   \n",
      "2  93 30 3 4 5 6 5 5 6 6 6 7 7 7 9 5 4 4 6 4 2 5 ...   \n",
      "3  59 57 33 59 70 39 40 46 148 166 161 163 164 16...   \n",
      "4  181 195 222 197 178 210 230 248 230 105 13 15 ...   \n",
      "\n",
      "                                             frame_3         tone  \\\n",
      "0  6 6 6 7 7 7 8 8 7 6 6 7 7 7 7 7 7 9 7 6 7 9 9 ...    2_208.wav   \n",
      "1  14 13 3 1 10 21 19 14 38 42 34 27 45 42 30 26 ...    2_575.wav   \n",
      "2  123 96 29 3 4 5 6 6 6 5 6 6 7 8 8 5 3 5 5 4 2 ...    1_276.wav   \n",
      "3  52 36 34 82 176 165 164 164 164 162 160 158 15...  1_10890.wav   \n",
      "4  40 40 40 40 40 41 41 41 41 40 40 41 40 40 38 3...    2_514.wav   \n",
      "\n",
      "                                                text  sarcasm sentiment  \\\n",
      "0                   It's that whole sensitive thing.    False  negative   \n",
      "1  Why? Because she can sing and play guitar and ...     True  negative   \n",
      "2  Yeah, my parents felt that naming me Leonard a...     True  negative   \n",
      "3  Boy, when you met Bernadette, the field of rob...     True  negative   \n",
      "4        What's going on?!  That's what's going on!!    False  negative   \n",
      "\n",
      "   sentiment_score  \n",
      "0           0.4105  \n",
      "1           0.4310  \n",
      "2           0.4129  \n",
      "3           0.4418  \n",
      "4           0.4096  \n",
      "         video                                            frame_1  \\\n",
      "0   1_1001.mp4  125 126 126 126 126 126 126 126 126 127 126 12...   \n",
      "1  1_11699.mp4  66 80 78 77 73 34 25 51 66 61 71 77 60 63 59 4...   \n",
      "2   1_2216.mp4  32 29 23 18 20 21 21 19 19 20 22 23 22 19 14 1...   \n",
      "3    1_410.mp4  179 180 178 177 177 168 111 82 86 95 98 84 76 ...   \n",
      "4     2_53.mp4  11 5 12 23 22 21 21 23 24 29 31 29 27 27 23 20...   \n",
      "\n",
      "                                             frame_2  \\\n",
      "0  125 126 126 126 126 126 126 127 127 126 126 12...   \n",
      "1  32 52 74 78 78 74 64 25 29 42 63 64 68 68 53 6...   \n",
      "2  17 17 17 16 15 16 17 19 19 16 13 11 9 8 7 7 8 ...   \n",
      "3  179 178 177 176 143 86 84 90 99 91 79 76 75 75...   \n",
      "4  29 25 16 16 8 14 70 82 25 9 11 13 16 21 27 28 ...   \n",
      "\n",
      "                                             frame_3         tone  \\\n",
      "0  125 126 126 126 126 125 124 124 124 125 125 12...   1_1001.wav   \n",
      "1  77 74 75 76 85 43 20 27 45 48 55 57 56 61 61 5...  1_11699.wav   \n",
      "2  125 122 122 126 129 129 124 78 44 35 33 34 34 ...   1_2216.wav   \n",
      "3  83 86 93 97 85 78 76 76 76 75 76 76 80 88 100 ...    1_410.wav   \n",
      "4  8 53 92 52 9 17 20 20 24 27 30 32 32 32 32 31 ...     2_53.wav   \n",
      "\n",
      "                                                text  sarcasm sentiment  \\\n",
      "0     What else? Sell it on eBay as \"slightly used.\"    False  negative   \n",
      "1  No, Stuart picked out those throw pillows all ...     True  negative   \n",
      "2  Excuse me, but what about me? Why don't I get ...    False  negative   \n",
      "3  Leonard, may I present, live from New Delhi, D...    False  negative   \n",
      "4     You're gonna have to tell me how you did that.    False  negative   \n",
      "\n",
      "   sentiment_score  \n",
      "0           0.4747  \n",
      "1           0.4432  \n",
      "2           0.4346  \n",
      "3           0.4613  \n",
      "4           0.4397  \n"
     ]
    }
   ],
   "source": [
    "# Load sentiment classifier\n",
    "MODEL = \"cardiffnlp/twitter-roberta-base-sentiment-latest\"\n",
    "tokenizer = AutoTokenizer.from_pretrained(MODEL)\n",
    "config = AutoConfig.from_pretrained(MODEL)\n",
    "model = TFAutoModelForSequenceClassification.from_pretrained(MODEL)\n",
    "\n",
    "# Classify text and add sentiment and score columns to DataFrame\n",
    "def classify_text(row):\n",
    "    text = row['text']\n",
    "    encoded_input = tokenizer(text, return_tensors='tf')\n",
    "    output = model(**encoded_input)\n",
    "    scores = output[0][0].numpy()  # Convert TensorFlow tensor to NumPy array\n",
    "    scores = softmax(scores)\n",
    "    ranking = np.argsort(scores)[::-1]\n",
    "    l = config.id2label[ranking[0]]  # Take the label with highest score\n",
    "    s = np.round(float(scores[ranking[0]]), 4)\n",
    "    return pd.Series({'sentiment': l, 'score': s})\n",
    "\n",
    "# Apply classifier to each row in the DataFrame\n",
    "train_df[['sentiment', 'sentiment_score']] = train_df.apply(classify_text, axis=1)\n",
    "test_df[['sentiment', 'sentiment_score']] = test_df.apply(classify_text, axis=1)\n",
    "\n",
    "# Display the DataFrame with new columns\n",
    "print(train_df.head())\n",
    "print(test_df.head())"
   ]
  },
  {
   "cell_type": "code",
   "execution_count": 57,
   "id": "3c44c85d",
   "metadata": {},
   "outputs": [],
   "source": [
    "# Encode labels\n",
    "label_encoder = LabelEncoder()\n",
    "train_df['sarcasm_encoded'] = label_encoder.fit_transform(train_df['sarcasm'])\n",
    "test_df['sarcasm_encoded'] = label_encoder.fit_transform(test_df['sarcasm'])\n",
    "\n",
    "# Text preprocessing\n",
    "tfidf_vectorizer = TfidfVectorizer(max_features=1000)\n",
    "X_text_train = tfidf_vectorizer.fit_transform(train_df['text']).toarray()\n",
    "X_text_test = tfidf_vectorizer.transform(test_df['text']).toarray()\n",
    "\n",
    "# Convert sentiment labels to numerical values\n",
    "sentiment_mapping = {'positive': 2, 'neutral': 1, 'negative': 0}\n",
    "train_df['sentiment_encoded'] = train_df['sentiment'].map(sentiment_mapping)\n",
    "test_df['sentiment_encoded'] = test_df['sentiment'].map(sentiment_mapping)\n",
    "\n",
    "# Combine text features with sentiment scores\n",
    "X_train = np.concatenate((X_text_train, train_df[['sentiment_encoded', 'sentiment_score']].values), axis=1)\n",
    "y_train = train_df['sarcasm_encoded']\n",
    "X_test = np.concatenate((X_text_test, test_df[['sentiment_encoded', 'sentiment_score']].values), axis=1)\n",
    "y_test = test_df['sarcasm_encoded']"
   ]
  },
  {
   "cell_type": "code",
   "execution_count": 58,
   "id": "b4984999",
   "metadata": {
    "scrolled": true
   },
   "outputs": [
    {
     "name": "stdout",
     "output_type": "stream",
     "text": [
      "Epoch 1/12\n",
      "9/9 [==============================] - 3s 49ms/step - loss: 0.6917 - accuracy: 0.5224 - val_loss: 0.6937 - val_accuracy: 0.5000\n",
      "Epoch 2/12\n",
      "9/9 [==============================] - 0s 9ms/step - loss: 0.6778 - accuracy: 0.6866 - val_loss: 0.6937 - val_accuracy: 0.4706\n",
      "Epoch 3/12\n",
      "9/9 [==============================] - 0s 9ms/step - loss: 0.6592 - accuracy: 0.8657 - val_loss: 0.6934 - val_accuracy: 0.4706\n",
      "Epoch 4/12\n",
      "9/9 [==============================] - 0s 11ms/step - loss: 0.6318 - accuracy: 0.8881 - val_loss: 0.6923 - val_accuracy: 0.4706\n",
      "Epoch 5/12\n",
      "9/9 [==============================] - 0s 12ms/step - loss: 0.5942 - accuracy: 0.9701 - val_loss: 0.6914 - val_accuracy: 0.4706\n",
      "Epoch 6/12\n",
      "9/9 [==============================] - 0s 12ms/step - loss: 0.5430 - accuracy: 0.9552 - val_loss: 0.6904 - val_accuracy: 0.4706\n",
      "Epoch 7/12\n",
      "9/9 [==============================] - 0s 16ms/step - loss: 0.4528 - accuracy: 0.9851 - val_loss: 0.6829 - val_accuracy: 0.5882\n",
      "Epoch 8/12\n",
      "9/9 [==============================] - 0s 20ms/step - loss: 0.3672 - accuracy: 0.9851 - val_loss: 0.6841 - val_accuracy: 0.5588\n",
      "Epoch 9/12\n",
      "9/9 [==============================] - 0s 12ms/step - loss: 0.2618 - accuracy: 0.9851 - val_loss: 0.6949 - val_accuracy: 0.5588\n",
      "Epoch 10/12\n",
      "9/9 [==============================] - 0s 12ms/step - loss: 0.1803 - accuracy: 0.9851 - val_loss: 0.6967 - val_accuracy: 0.6471\n",
      "Epoch 11/12\n",
      "9/9 [==============================] - 0s 11ms/step - loss: 0.1130 - accuracy: 1.0000 - val_loss: 0.7233 - val_accuracy: 0.6471\n",
      "Epoch 12/12\n",
      "9/9 [==============================] - 0s 22ms/step - loss: 0.0698 - accuracy: 1.0000 - val_loss: 0.7603 - val_accuracy: 0.6176\n",
      "2/2 [==============================] - 0s 8ms/step - loss: 0.6010 - accuracy: 0.7619\n",
      "Test Loss: 0.6009556651115417, Test Accuracy: 0.761904776096344\n"
     ]
    }
   ],
   "source": [
    "# Training parameters\n",
    "n_epochs = 12\n",
    "n_batch = 15\n",
    "\n",
    "# Define neural network architecture\n",
    "text_model = Sequential([\n",
    "    Dense(128, input_dim=X_train.shape[1], activation='relu'),\n",
    "    Dropout(0.25),\n",
    "    Dense(64, activation='relu'),\n",
    "    Dense(1, activation='sigmoid')\n",
    "])\n",
    "\n",
    "# Compile the model\n",
    "text_model.compile(loss='binary_crossentropy', optimizer='adam', metrics=['accuracy'])\n",
    "\n",
    "# Train the model\n",
    "text_model.fit(X_train, y_train, batch_size=n_batch, epochs=n_epochs, validation_split=0.2)\n",
    "\n",
    "# Evaluate the model\n",
    "loss, accuracy = text_model.evaluate(X_test, y_test)\n",
    "print(f'Test Loss: {loss}, Test Accuracy: {accuracy}')"
   ]
  },
  {
   "cell_type": "code",
   "execution_count": 59,
   "id": "9c44a304",
   "metadata": {},
   "outputs": [
    {
     "name": "stdout",
     "output_type": "stream",
     "text": [
      "WARNING:tensorflow:6 out of the last 11 calls to <function Model.make_predict_function.<locals>.predict_function at 0x000001E7A9414F70> triggered tf.function retracing. Tracing is expensive and the excessive number of tracings could be due to (1) creating @tf.function repeatedly in a loop, (2) passing tensors with different shapes, (3) passing Python objects instead of tensors. For (1), please define your @tf.function outside of the loop. For (2), @tf.function has reduce_retracing=True option that can avoid unnecessary retracing. For (3), please refer to https://www.tensorflow.org/guide/function#controlling_retracing and https://www.tensorflow.org/api_docs/python/tf/function for  more details.\n",
      "2/2 [==============================] - 0s 8ms/step\n",
      "Predicted Values:\n",
      "[[0.07117232]\n",
      " [0.40638113]\n",
      " [0.05850108]\n",
      " [0.4574919 ]\n",
      " [0.08766611]\n",
      " [0.11748996]\n",
      " [0.9317648 ]\n",
      " [0.89679664]\n",
      " [0.8767747 ]\n",
      " [0.5534074 ]\n",
      " [0.8280008 ]\n",
      " [0.9497784 ]\n",
      " [0.05333539]\n",
      " [0.54635787]\n",
      " [0.19227506]\n",
      " [0.7835198 ]\n",
      " [0.05020279]\n",
      " [0.4009477 ]\n",
      " [0.9233926 ]\n",
      " [0.9159591 ]\n",
      " [0.537343  ]\n",
      " [0.8279395 ]\n",
      " [0.04509963]\n",
      " [0.25039786]\n",
      " [0.5975885 ]\n",
      " [0.21689168]\n",
      " [0.21260855]\n",
      " [0.09061932]\n",
      " [0.72888345]\n",
      " [0.05039753]\n",
      " [0.04173953]\n",
      " [0.91726834]\n",
      " [0.8582536 ]\n",
      " [0.6360074 ]\n",
      " [0.19257495]\n",
      " [0.19282609]\n",
      " [0.5757875 ]\n",
      " [0.8884074 ]\n",
      " [0.9824572 ]\n",
      " [0.10487633]\n",
      " [0.1956329 ]\n",
      " [0.21830036]]\n"
     ]
    }
   ],
   "source": [
    "# Predict values for the test set\n",
    "text_predictions = text_model.predict(X_test)\n",
    "\n",
    "# Predicted values are the percentage chance that the sample is sarcastic\n",
    "print(\"Predicted Values:\")\n",
    "print(text_predictions)"
   ]
  },
  {
   "cell_type": "markdown",
   "id": "2efe38f9",
   "metadata": {},
   "source": [
    "# Sarcasm Detection Model Using Late Fusion"
   ]
  },
  {
   "cell_type": "code",
   "execution_count": 61,
   "id": "c56caee8",
   "metadata": {},
   "outputs": [
    {
     "data": {
      "image/png": "[encoded data removed]",
      "text/plain": [
       "<Figure size 640x480 with 2 Axes>"
      ]
     },
     "metadata": {},
     "output_type": "display_data"
    },
    {
     "name": "stdout",
     "output_type": "stream",
     "text": [
      "Statistics:\n",
      "               precision    recall  f1-score   support\n",
      "\n",
      "Not Sarcastic       0.83      0.75      0.79        20\n",
      "    Sarcastic       0.79      0.86      0.83        22\n",
      "\n",
      "     accuracy                           0.81        42\n",
      "    macro avg       0.81      0.81      0.81        42\n",
      " weighted avg       0.81      0.81      0.81        42\n",
      "\n"
     ]
    }
   ],
   "source": [
    "# Weights\n",
    "w_visual = 0.1\n",
    "w_tone = 0.45\n",
    "w_text = 0.45\n",
    "\n",
    "# Value threshold - 50%\n",
    "threshold = 0.50\n",
    "\n",
    "num_rows = len(tone_predictions)\n",
    "\n",
    "# Initialize lists to store the combined scores and predicted values\n",
    "combined_scores = []\n",
    "predicted_values = []\n",
    "real_values = []\n",
    "\n",
    "# Calculate combined scores and predicted values\n",
    "for i in range(num_rows):\n",
    "    combined_score = (w_tone * tone_predictions[i]) + (w_text * text_predictions[i]) + (w_visual * visual_predictions[i])\n",
    "    combined_scores.append(combined_score)\n",
    "    \n",
    "    # Store the label value for that row, True if above the threshold\n",
    "    predicted_value = combined_score > threshold\n",
    "    predicted_values.append(predicted_value)\n",
    "    \n",
    "\n",
    "\n",
    "# Create a DataFrame to store the results\n",
    "results_df = pd.DataFrame({\n",
    "    'combined_score': combined_scores,\n",
    "    'predicted_value': [item for sublist in predicted_values for item in sublist],\n",
    "    'real_value': test_df['sarcasm']\n",
    "})\n",
    "\n",
    "# print(results_df)\n",
    "\n",
    "# Create and display confusion matrix\n",
    "cm = confusion_matrix(results_df['real_value'].astype(int), results_df['predicted_value'].astype(int))\n",
    "disp = ConfusionMatrixDisplay(confusion_matrix=cm, display_labels=['Not Sarcastic', 'Sarcastic'])\n",
    "disp.plot()\n",
    "plt.show()\n",
    "\n",
    "# Create and display statistics\n",
    "report = classification_report(results_df['real_value'].astype(int), results_df['predicted_value'].astype(int), target_names=['Not Sarcastic', 'Sarcastic'])\n",
    "\n",
    "print(\"Statistics:\")\n",
    "print(report)"
   ]
  },
  {
   "cell_type": "code",
   "execution_count": null,
   "id": "b466461f",
   "metadata": {},
   "outputs": [],
   "source": []
  }
 ],
 "metadata": {
  "kernelspec": {
   "display_name": "Python 3 (ipykernel)",
   "language": "python",
   "name": "python3"
  },
  "language_info": {
   "codemirror_mode": {
    "name": "ipython",
    "version": 3
   },
   "file_extension": ".py",
   "mimetype": "text/x-python",
   "name": "python",
   "nbconvert_exporter": "python",
   "pygments_lexer": "ipython3",
   "version": "3.8.7"
  }
 },
 "nbformat": 4,
 "nbformat_minor": 5
}
