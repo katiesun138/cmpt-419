{
 "cells": [
  {
   "cell_type": "markdown",
   "id": "80d97467",
   "metadata": {},
   "source": [
    "# Load Data"
   ]
  },
  {
   "cell_type": "code",
   "execution_count": 110,
   "id": "f5df90e2",
   "metadata": {},
   "outputs": [],
   "source": [
    "# Libraries\n",
    "import pandas as pd\n",
    "from sklearn.model_selection import train_test_split\n",
    "from transformers import TFAutoModelForSequenceClassification, AutoTokenizer, AutoConfig\n",
    "import numpy as np\n",
    "from scipy.special import softmax\n",
    "from sklearn.preprocessing import LabelEncoder\n",
    "from sklearn.feature_extraction.text import TfidfVectorizer\n",
    "from tensorflow.keras.models import Sequential\n",
    "from tensorflow.keras.layers import Dense, Dropout\n",
    "from sklearn.metrics import confusion_matrix, classification_report, ConfusionMatrixDisplay\n",
    "import matplotlib.pyplot as plt"
   ]
  },
  {
   "cell_type": "code",
   "execution_count": 66,
   "id": "6e1d337b",
   "metadata": {},
   "outputs": [],
   "source": [
    "# Loading data from csv\n",
    "df = pd.read_csv('Sarcasm_Model_Dataset.csv')\n",
    "df.head()\n",
    "\n",
    "# Splitting data into test and train (80:20 split)\n",
    "train_df, test_df = train_test_split(df, test_size=0.2, random_state=0)"
   ]
  },
  {
   "cell_type": "markdown",
   "id": "1064286e",
   "metadata": {},
   "source": [
    "# Frame Classifier"
   ]
  },
  {
   "cell_type": "code",
   "execution_count": null,
   "id": "268d363c",
   "metadata": {},
   "outputs": [],
   "source": []
  },
  {
   "cell_type": "markdown",
   "id": "2636b8c8",
   "metadata": {},
   "source": [
    "# Audio Classifier"
   ]
  },
  {
   "cell_type": "code",
   "execution_count": 68,
   "id": "85cd0606",
   "metadata": {},
   "outputs": [],
   "source": [
    "import os\n",
    "import numpy as np\n",
    "import librosa\n",
    "import librosa.display\n",
    "import matplotlib.pyplot as plt\n",
    "from tensorflow.keras.utils import to_categorical\n",
    "from IPython.display import Audio\n",
    "from skimage import color"
   ]
  },
  {
   "cell_type": "code",
   "execution_count": 69,
   "id": "2d953c3e-7a67-4b93-a48f-acf5498d2e8d",
   "metadata": {},
   "outputs": [],
   "source": [
    "#Sources: https://medium.com/@hasithsura/audio-classification-d37a82d6715\n",
    "         #https://github.com/jeffprosise/Deep-Learning/blob/master/Audio%20Classification%20(CNN).ipynb\n",
    "\n",
    "#Define helper functions\n",
    "max_audio_length = 10 #seconds\n",
    "\n",
    "def get_melspectrogram_db(file_path, sr=None, n_fft=2048, hop_length=512, n_mels=128, fmin=20, fmax=8300, top_db=80):\n",
    "  wav,sr = librosa.load(file_path,sr=sr)\n",
    "  if wav.shape[0]<max_audio_length*sr:\n",
    "    wav=np.pad(wav,int(np.ceil((max_audio_length*sr-wav.shape[0])/2)),mode='reflect') #pad audio by reflecting\n",
    "  else:\n",
    "    wav=wav[:max_audio_length*sr]\n",
    "  spec=librosa.feature.melspectrogram(y=wav, sr=sr, n_fft=n_fft, hop_length=hop_length,n_mels=n_mels,fmin=fmin,fmax=fmax)\n",
    "  spec_db=librosa.power_to_db(spec,top_db=top_db)\n",
    "  return spec_db\n",
    "\n",
    "def spec_to_image(spec, eps=1e-6):\n",
    "  mean = spec.mean()\n",
    "  std = spec.std()\n",
    "  spec_norm = (spec - mean) / (std + eps) #z score normalization\n",
    "  spec_min, spec_max = spec_norm.min(), spec_norm.max()\n",
    "  spec_scaled = 255 * (spec_norm - spec_min) / (spec_max - spec_min)\n",
    "  spec_scaled = spec_scaled.astype(np.uint8)\n",
    "  return spec_scaled"
   ]
  },
  {
   "cell_type": "code",
   "execution_count": 70,
   "id": "32638f14-7355-4a1e-8afa-a237313fd5d3",
   "metadata": {},
   "outputs": [
    {
     "name": "stderr",
     "output_type": "stream",
     "text": [
      "huggingface/tokenizers: The current process just got forked, after parallelism has already been used. Disabling parallelism to avoid deadlocks...\n",
      "To disable this warning, you can either:\n",
      "\t- Avoid using `tokenizers` before the fork if possible\n",
      "\t- Explicitly set the environment variable TOKENIZERS_PARALLELISM=(true | false)\n",
      "huggingface/tokenizers: The current process just got forked, after parallelism has already been used. Disabling parallelism to avoid deadlocks...\n",
      "To disable this warning, you can either:\n",
      "\t- Avoid using `tokenizers` before the fork if possible\n",
      "\t- Explicitly set the environment variable TOKENIZERS_PARALLELISM=(true | false)\n"
     ]
    }
   ],
   "source": [
    "#Convert .wav files to spectrogram images\n",
    "audio_dir = 'audio_data'\n",
    "\n",
    "def get_spec_images(filenames, directory):\n",
    "    spec_images = []\n",
    "    for filename in filenames:\n",
    "        if filename.endswith(\".wav\"):\n",
    "            file_path = os.path.join(directory, filename)\n",
    "            spectrogram = get_melspectrogram_db(file_path)\n",
    "            spec_image = spec_to_image(spectrogram)\n",
    "            spec_images.append(spec_image)\n",
    "    return spec_images\n",
    "\n",
    "train_spec_images = get_spec_images(train_df['tone'], audio_dir)\n",
    "train_spec_labels = train_df['sarcasm']\n",
    "\n",
    "test_spec_images = get_spec_images(test_df['tone'], audio_dir)\n",
    "test_spec_labels = test_df['sarcasm']"
   ]
  },
  {
   "cell_type": "code",
   "execution_count": 83,
   "id": "657a2f8c-46f5-4ae2-800b-f42f9046b62e",
   "metadata": {},
   "outputs": [],
   "source": [
    "#divide the pixel values by 255\n",
    "tone_train_norm = np.array(train_spec_images) \n",
    "tone_test_norm = np.array(test_spec_images)\n",
    "\n",
    "#one-hot-encode the labels\n",
    "tone_train_encoded = to_categorical(train_spec_labels)\n",
    "tone_test_encoded = to_categorical(test_spec_labels)"
   ]
  },
  {
   "cell_type": "code",
   "execution_count": 81,
   "id": "0c5fe4fc-d7e1-419d-8a36-e49f8c496e35",
   "metadata": {
    "scrolled": true
   },
   "outputs": [
    {
     "name": "stderr",
     "output_type": "stream",
     "text": [
      "/Users/alyssarusk/anaconda3/lib/python3.11/site-packages/keras/src/layers/convolutional/base_conv.py:99: UserWarning: Do not pass an `input_shape`/`input_dim` argument to a layer. When using Sequential models, prefer using an `Input(shape)` object as the first layer in the model instead.\n",
      "  super().__init__(\n"
     ]
    }
   ],
   "source": [
    "from keras.models import Sequential\n",
    "from keras.layers import Conv2D, MaxPooling2D\n",
    "from keras.layers import Flatten, Dense, BatchNormalization, Dropout\n",
    "\n",
    "#Build Model\n",
    "model = Sequential()\n",
    "model.add(Conv2D(32, (3, 3), activation='relu', input_shape=(128, 862, 1)))\n",
    "model.add(BatchNormalization())\n",
    "model.add(MaxPooling2D(2, 2))\n",
    "model.add(Conv2D(128, (3, 3), activation='relu'))\n",
    "model.add(BatchNormalization())\n",
    "model.add(MaxPooling2D(2, 2))\n",
    "model.add(Flatten())\n",
    "model.add(Dropout(0.25))\n",
    "model.add(Dense(64, activation='relu'))\n",
    "model.add(Dense(2, activation='sigmoid'))  # Output layer with 1 unit for binary classification\n",
    "\n",
    "model.compile(optimizer='adam', loss='binary_crossentropy', metrics=['accuracy'])\n",
    "#model.summary()"
   ]
  },
  {
   "cell_type": "code",
   "execution_count": 82,
   "id": "84c51f24-f206-47eb-88ee-5cd546883365",
   "metadata": {},
   "outputs": [
    {
     "name": "stdout",
     "output_type": "stream",
     "text": [
      "Epoch 1/15\n",
      "\u001b[1m27/27\u001b[0m \u001b[32m━━━━━━━━━━━━━━━━━━━━\u001b[0m\u001b[37m\u001b[0m \u001b[1m39s\u001b[0m 1s/step - accuracy: 0.5990 - loss: 80.1463 - val_accuracy: 0.5294 - val_loss: 39.2278\n",
      "Epoch 2/15\n",
      "\u001b[1m27/27\u001b[0m \u001b[32m━━━━━━━━━━━━━━━━━━━━\u001b[0m\u001b[37m\u001b[0m \u001b[1m32s\u001b[0m 1s/step - accuracy: 0.7498 - loss: 5.6261 - val_accuracy: 0.5294 - val_loss: 25.7818\n",
      "Epoch 3/15\n",
      "\u001b[1m27/27\u001b[0m \u001b[32m━━━━━━━━━━━━━━━━━━━━\u001b[0m\u001b[37m\u001b[0m \u001b[1m31s\u001b[0m 1s/step - accuracy: 0.6519 - loss: 1.0206 - val_accuracy: 0.5588 - val_loss: 4.9860\n",
      "Epoch 4/15\n",
      "\u001b[1m27/27\u001b[0m \u001b[32m━━━━━━━━━━━━━━━━━━━━\u001b[0m\u001b[37m\u001b[0m \u001b[1m31s\u001b[0m 1s/step - accuracy: 0.6063 - loss: 0.6147 - val_accuracy: 0.5294 - val_loss: 2.0631\n",
      "Epoch 5/15\n",
      "\u001b[1m27/27\u001b[0m \u001b[32m━━━━━━━━━━━━━━━━━━━━\u001b[0m\u001b[37m\u001b[0m \u001b[1m31s\u001b[0m 1s/step - accuracy: 0.6407 - loss: 0.5002 - val_accuracy: 0.3824 - val_loss: 1.3825\n",
      "Epoch 6/15\n",
      "\u001b[1m27/27\u001b[0m \u001b[32m━━━━━━━━━━━━━━━━━━━━\u001b[0m\u001b[37m\u001b[0m \u001b[1m31s\u001b[0m 1s/step - accuracy: 0.6470 - loss: 0.5120 - val_accuracy: 0.4412 - val_loss: 1.1057\n",
      "Epoch 7/15\n",
      "\u001b[1m27/27\u001b[0m \u001b[32m━━━━━━━━━━━━━━━━━━━━\u001b[0m\u001b[37m\u001b[0m \u001b[1m30s\u001b[0m 1s/step - accuracy: 0.6919 - loss: 0.4363 - val_accuracy: 0.4706 - val_loss: 1.2107\n",
      "Epoch 8/15\n",
      "\u001b[1m27/27\u001b[0m \u001b[32m━━━━━━━━━━━━━━━━━━━━\u001b[0m\u001b[37m\u001b[0m \u001b[1m30s\u001b[0m 1s/step - accuracy: 0.7534 - loss: 0.4491 - val_accuracy: 0.5000 - val_loss: 1.5440\n",
      "Epoch 9/15\n",
      "\u001b[1m27/27\u001b[0m \u001b[32m━━━━━━━━━━━━━━━━━━━━\u001b[0m\u001b[37m\u001b[0m \u001b[1m31s\u001b[0m 1s/step - accuracy: 0.7794 - loss: 0.4291 - val_accuracy: 0.5294 - val_loss: 2.6270\n",
      "Epoch 10/15\n",
      "\u001b[1m27/27\u001b[0m \u001b[32m━━━━━━━━━━━━━━━━━━━━\u001b[0m\u001b[37m\u001b[0m \u001b[1m31s\u001b[0m 1s/step - accuracy: 0.8008 - loss: 0.4272 - val_accuracy: 0.4412 - val_loss: 2.0515\n",
      "Epoch 11/15\n",
      "\u001b[1m27/27\u001b[0m \u001b[32m━━━━━━━━━━━━━━━━━━━━\u001b[0m\u001b[37m\u001b[0m \u001b[1m31s\u001b[0m 1s/step - accuracy: 0.7007 - loss: 0.4513 - val_accuracy: 0.4706 - val_loss: 2.7297\n",
      "Epoch 12/15\n",
      "\u001b[1m27/27\u001b[0m \u001b[32m━━━━━━━━━━━━━━━━━━━━\u001b[0m\u001b[37m\u001b[0m \u001b[1m30s\u001b[0m 1s/step - accuracy: 0.7458 - loss: 0.4518 - val_accuracy: 0.5882 - val_loss: 4.0303\n",
      "Epoch 13/15\n",
      "\u001b[1m27/27\u001b[0m \u001b[32m━━━━━━━━━━━━━━━━━━━━\u001b[0m\u001b[37m\u001b[0m \u001b[1m31s\u001b[0m 1s/step - accuracy: 0.7751 - loss: 0.5166 - val_accuracy: 0.4706 - val_loss: 3.8534\n",
      "Epoch 14/15\n",
      "\u001b[1m27/27\u001b[0m \u001b[32m━━━━━━━━━━━━━━━━━━━━\u001b[0m\u001b[37m\u001b[0m \u001b[1m31s\u001b[0m 1s/step - accuracy: 0.7764 - loss: 0.4213 - val_accuracy: 0.4706 - val_loss: 5.8539\n",
      "Epoch 15/15\n",
      "\u001b[1m27/27\u001b[0m \u001b[32m━━━━━━━━━━━━━━━━━━━━\u001b[0m\u001b[37m\u001b[0m \u001b[1m31s\u001b[0m 1s/step - accuracy: 0.7522 - loss: 0.4066 - val_accuracy: 0.5882 - val_loss: 8.0144\n"
     ]
    }
   ],
   "source": [
    "batch = 5\n",
    "epochs = 15\n",
    "\n",
    "#Fit the model\n",
    "tone_model = model.fit(tone_train_norm, tone_train_encoded, batch_size=batch, epochs=epochs, validation_split = 0.2)"
   ]
  },
  {
   "cell_type": "code",
   "execution_count": 84,
   "id": "34c434ad-bdd8-42dd-a204-409b7ccbb298",
   "metadata": {},
   "outputs": [
    {
     "data": {
      "text/plain": [
       "[]"
      ]
     },
     "execution_count": 84,
     "metadata": {},
     "output_type": "execute_result"
    },
    {
     "data": {
      "image/png": "[encoded data removed]",
      "text/plain": [
       "<Figure size 640x480 with 1 Axes>"
      ]
     },
     "metadata": {},
     "output_type": "display_data"
    }
   ],
   "source": [
    "#Train and validation accuracy graph\n",
    "accuracy = tone_model.history['accuracy']\n",
    "validation_acc = tone_model.history['val_accuracy']\n",
    "epochs = range(1, len(accuracy) + 1)\n",
    "\n",
    "plt.plot(epochs, accuracy, '-', label='Training Accuracy')\n",
    "plt.plot(epochs, validation_acc, ':', label='Validation Accuracy')\n",
    "plt.title('Tone Model: Training and Validation Accuracy')\n",
    "plt.xlabel('Epoch')\n",
    "plt.ylabel('Accuracy')\n",
    "plt.legend(loc='lower right')\n",
    "plt.plot()"
   ]
  },
  {
   "cell_type": "code",
   "execution_count": 85,
   "id": "8e72fbff-66fd-44d4-b19b-9000dd9f6ac9",
   "metadata": {
    "scrolled": true
   },
   "outputs": [
    {
     "name": "stdout",
     "output_type": "stream",
     "text": [
      "\u001b[1m2/2\u001b[0m \u001b[32m━━━━━━━━━━━━━━━━━━━━\u001b[0m\u001b[37m\u001b[0m \u001b[1m2s\u001b[0m 404ms/step\n",
      "[4.8550591e-01 4.8550591e-01 4.8550591e-01 4.8550591e-01 4.8550591e-01\n",
      " 1.0000000e+00 6.7082143e-01 1.0000000e+00 4.8550591e-01 4.8550591e-01\n",
      " 1.0000000e+00 9.7497231e-01 4.8550591e-01 4.8550591e-01 4.1074035e-01\n",
      " 9.9988657e-01 4.8550591e-01 9.9998194e-01 3.8229679e-21 9.9996781e-01\n",
      " 9.9604589e-01 1.0000000e+00 1.2721486e-02 0.0000000e+00 4.8550591e-01\n",
      " 4.8550591e-01 4.8550591e-01 1.4074730e-17 9.9999905e-01 4.8550591e-01\n",
      " 9.9999970e-01 9.9999946e-01 4.8550591e-01 9.9999928e-01 4.8550591e-01\n",
      " 4.8550591e-01 4.8550591e-01 9.9958545e-01 4.8550591e-01 4.8550591e-01\n",
      " 4.8550588e-01 9.9999458e-01]\n"
     ]
    }
   ],
   "source": [
    "#make predictions on test set\n",
    "tone_predictions = model.predict(tone_test_norm)\n",
    "\n",
    "#Filter to only positive class\n",
    "tone_predictions = tone_predictions[:, 1]\n",
    "print(tone_predictions)"
   ]
  },
  {
   "cell_type": "markdown",
   "id": "3dc3c534",
   "metadata": {},
   "source": [
    "# Text Classifer"
   ]
  },
  {
   "cell_type": "code",
   "execution_count": 76,
   "id": "4fcfd045",
   "metadata": {
    "scrolled": true
   },
   "outputs": [
    {
     "name": "stderr",
     "output_type": "stream",
     "text": [
      "All model checkpoint layers were used when initializing TFRobertaForSequenceClassification.\n",
      "\n",
      "Some layers of TFRobertaForSequenceClassification were not initialized from the model checkpoint at cardiffnlp/twitter-roberta-base-sentiment-latest and are newly initialized: ['classifier']\n",
      "You should probably TRAIN this model on a down-stream task to be able to use it for predictions and inference.\n"
     ]
    },
    {
     "name": "stdout",
     "output_type": "stream",
     "text": [
      "           video                                            frame_1  \\\n",
      "104    2_208.mp4  8 8 8 8 8 6 6 6 6 6 7 7 7 6 6 6 5 4 9 23 14 13...   \n",
      "141    2_575.mp4  8 8 6 3 8 12 14 33 44 58 54 24 37 29 35 38 38 ...   \n",
      "4      1_276.mp4  123 124 124 92 31 11 14 15 15 16 15 15 15 13 1...   \n",
      "74   1_10890.mp4  53 58 63 44 59 155 169 168 167 164 163 161 161...   \n",
      "136    2_514.mp4  72 97 132 169 162 136 81 155 191 175 194 195 2...   \n",
      "\n",
      "                                               frame_2  \\\n",
      "104  2 2 2 2 2 2 3 3 3 3 3 2 3 2 1 17 20 14 15 15 1...   \n",
      "141  2 1 5 15 20 19 13 30 49 33 23 32 33 29 24 29 2...   \n",
      "4    93 30 3 4 5 6 5 5 6 6 6 7 7 7 9 5 4 4 6 4 2 5 ...   \n",
      "74   59 57 33 59 70 39 40 46 148 166 161 163 164 16...   \n",
      "136  181 195 222 197 178 210 230 248 230 105 13 15 ...   \n",
      "\n",
      "                                               frame_3         tone  \\\n",
      "104  6 6 6 7 7 7 8 8 7 6 6 7 7 7 7 7 7 9 7 6 7 9 9 ...    2_208.wav   \n",
      "141  14 13 3 1 10 21 19 14 38 42 34 27 45 42 30 26 ...    2_575.wav   \n",
      "4    123 96 29 3 4 5 6 6 6 5 6 6 7 8 8 5 3 5 5 4 2 ...    1_276.wav   \n",
      "74   52 36 34 82 176 165 164 164 164 162 160 158 15...  1_10890.wav   \n",
      "136  40 40 40 40 40 41 41 41 41 40 40 41 40 40 38 3...    2_514.wav   \n",
      "\n",
      "                                                  text  sarcasm sentiment  \\\n",
      "104                   It's that whole sensitive thing.    False  negative   \n",
      "141  Why? Because she can sing and play guitar and ...     True  negative   \n",
      "4    Yeah, my parents felt that naming me Leonard a...     True  negative   \n",
      "74   Boy, when you met Bernadette, the field of rob...     True  negative   \n",
      "136        What's going on?!  That's what's going on!!    False  negative   \n",
      "\n",
      "     sentiment_score  \n",
      "104           0.4600  \n",
      "141           0.4192  \n",
      "4             0.4148  \n",
      "74            0.4426  \n",
      "136           0.4096  \n",
      "           video                                            frame_1  \\\n",
      "12    1_1001.mp4  125 126 126 126 126 126 126 126 126 127 126 12...   \n",
      "80   1_11699.mp4  66 80 78 77 73 34 25 51 66 61 71 77 60 63 59 4...   \n",
      "33    1_2216.mp4  32 29 23 18 20 21 21 19 19 20 22 23 22 19 14 1...   \n",
      "5      1_410.mp4  179 180 178 177 177 168 111 82 86 95 98 84 76 ...   \n",
      "188     2_53.mp4  11 5 12 23 22 21 21 23 24 29 31 29 27 27 23 20...   \n",
      "\n",
      "                                               frame_2  \\\n",
      "12   125 126 126 126 126 126 126 127 127 126 126 12...   \n",
      "80   32 52 74 78 78 74 64 25 29 42 63 64 68 68 53 6...   \n",
      "33   17 17 17 16 15 16 17 19 19 16 13 11 9 8 7 7 8 ...   \n",
      "5    179 178 177 176 143 86 84 90 99 91 79 76 75 75...   \n",
      "188  29 25 16 16 8 14 70 82 25 9 11 13 16 21 27 28 ...   \n",
      "\n",
      "                                               frame_3         tone  \\\n",
      "12   125 126 126 126 126 125 124 124 124 125 125 12...   1_1001.wav   \n",
      "80   77 74 75 76 85 43 20 27 45 48 55 57 56 61 61 5...  1_11699.wav   \n",
      "33   125 122 122 126 129 129 124 78 44 35 33 34 34 ...   1_2216.wav   \n",
      "5    83 86 93 97 85 78 76 76 76 75 76 76 80 88 100 ...    1_410.wav   \n",
      "188  8 53 92 52 9 17 20 20 24 27 30 32 32 32 32 31 ...     2_53.wav   \n",
      "\n",
      "                                                  text  sarcasm sentiment  \\\n",
      "12      What else? Sell it on eBay as \"slightly used.\"    False  negative   \n",
      "80   No, Stuart picked out those throw pillows all ...     True  negative   \n",
      "33   Excuse me, but what about me? Why don't I get ...    False  negative   \n",
      "5    Leonard, may I present, live from New Delhi, D...    False  negative   \n",
      "188     You're gonna have to tell me how you did that.    False  negative   \n",
      "\n",
      "     sentiment_score  \n",
      "12            0.4577  \n",
      "80            0.4628  \n",
      "33            0.4100  \n",
      "5             0.4343  \n",
      "188           0.4112  \n"
     ]
    }
   ],
   "source": [
    "# Load sentiment classifier\n",
    "MODEL = \"cardiffnlp/twitter-roberta-base-sentiment-latest\"\n",
    "tokenizer = AutoTokenizer.from_pretrained(MODEL)\n",
    "config = AutoConfig.from_pretrained(MODEL)\n",
    "model = TFAutoModelForSequenceClassification.from_pretrained(MODEL)\n",
    "\n",
    "# Classify text and add sentiment and score columns to DataFrame\n",
    "def classify_text(row):\n",
    "    text = row['text']\n",
    "    encoded_input = tokenizer(text, return_tensors='tf')\n",
    "    output = model(**encoded_input)\n",
    "    scores = output[0][0].numpy()  # Convert TensorFlow tensor to NumPy array\n",
    "    scores = softmax(scores)\n",
    "    ranking = np.argsort(scores)[::-1]\n",
    "    l = config.id2label[ranking[0]]  # Take the label with highest score\n",
    "    s = np.round(float(scores[ranking[0]]), 4)\n",
    "    return pd.Series({'sentiment': l, 'score': s})\n",
    "\n",
    "# Apply classifier to each row in the DataFrame\n",
    "train_df[['sentiment', 'sentiment_score']] = train_df.apply(classify_text, axis=1)\n",
    "test_df[['sentiment', 'sentiment_score']] = test_df.apply(classify_text, axis=1)\n",
    "\n",
    "# Display the DataFrame with new columns\n",
    "print(train_df.head())\n",
    "print(test_df.head())"
   ]
  },
  {
   "cell_type": "code",
   "execution_count": 86,
   "id": "3c44c85d",
   "metadata": {},
   "outputs": [],
   "source": [
    "# Encode labels\n",
    "label_encoder = LabelEncoder()\n",
    "train_df['sarcasm_encoded'] = label_encoder.fit_transform(train_df['sarcasm'])\n",
    "test_df['sarcasm_encoded'] = label_encoder.fit_transform(test_df['sarcasm'])\n",
    "\n",
    "# Text preprocessing\n",
    "tfidf_vectorizer = TfidfVectorizer(max_features=1000)\n",
    "X_text_train = tfidf_vectorizer.fit_transform(train_df['text']).toarray()\n",
    "X_text_test = tfidf_vectorizer.transform(test_df['text']).toarray()\n",
    "\n",
    "# Convert sentiment labels to numerical values\n",
    "sentiment_mapping = {'positive': 2, 'neutral': 1, 'negative': 0}\n",
    "train_df['sentiment_encoded'] = train_df['sentiment'].map(sentiment_mapping)\n",
    "test_df['sentiment_encoded'] = test_df['sentiment'].map(sentiment_mapping)\n",
    "\n",
    "# Combine text features with sentiment scores\n",
    "X_train = np.concatenate((X_text_train, train_df[['sentiment_encoded', 'sentiment_score']].values), axis=1)\n",
    "y_train = train_df['sarcasm_encoded']\n",
    "X_test = np.concatenate((X_text_test, test_df[['sentiment_encoded', 'sentiment_score']].values), axis=1)\n",
    "y_test = test_df['sarcasm_encoded']"
   ]
  },
  {
   "cell_type": "code",
   "execution_count": 61,
   "id": "b4984999",
   "metadata": {
    "scrolled": true
   },
   "outputs": [
    {
     "name": "stdout",
     "output_type": "stream",
     "text": [
      "Epoch 1/24\n",
      "\u001b[1m6/6\u001b[0m \u001b[32m━━━━━━━━━━━━━━━━━━━━\u001b[0m\u001b[37m\u001b[0m \u001b[1m1s\u001b[0m 28ms/step - accuracy: 0.4606 - loss: 0.6942 - val_accuracy: 0.4706 - val_loss: 0.6942\n",
      "Epoch 2/24\n",
      "\u001b[1m6/6\u001b[0m \u001b[32m━━━━━━━━━━━━━━━━━━━━\u001b[0m\u001b[37m\u001b[0m \u001b[1m0s\u001b[0m 7ms/step - accuracy: 0.6342 - loss: 0.6851 - val_accuracy: 0.5000 - val_loss: 0.6940\n",
      "Epoch 3/24\n",
      "\u001b[1m6/6\u001b[0m \u001b[32m━━━━━━━━━━━━━━━━━━━━\u001b[0m\u001b[37m\u001b[0m \u001b[1m0s\u001b[0m 7ms/step - accuracy: 0.7731 - loss: 0.6767 - val_accuracy: 0.4706 - val_loss: 0.6926\n",
      "Epoch 4/24\n",
      "\u001b[1m6/6\u001b[0m \u001b[32m━━━━━━━━━━━━━━━━━━━━\u001b[0m\u001b[37m\u001b[0m \u001b[1m0s\u001b[0m 6ms/step - accuracy: 0.7974 - loss: 0.6698 - val_accuracy: 0.5000 - val_loss: 0.6912\n",
      "Epoch 5/24\n",
      "\u001b[1m6/6\u001b[0m \u001b[32m━━━━━━━━━━━━━━━━━━━━\u001b[0m\u001b[37m\u001b[0m \u001b[1m0s\u001b[0m 7ms/step - accuracy: 0.8943 - loss: 0.6532 - val_accuracy: 0.5294 - val_loss: 0.6881\n",
      "Epoch 6/24\n",
      "\u001b[1m6/6\u001b[0m \u001b[32m━━━━━━━━━━━━━━━━━━━━\u001b[0m\u001b[37m\u001b[0m \u001b[1m0s\u001b[0m 7ms/step - accuracy: 0.8933 - loss: 0.6320 - val_accuracy: 0.5588 - val_loss: 0.6851\n",
      "Epoch 7/24\n",
      "\u001b[1m6/6\u001b[0m \u001b[32m━━━━━━━━━━━━━━━━━━━━\u001b[0m\u001b[37m\u001b[0m \u001b[1m0s\u001b[0m 6ms/step - accuracy: 0.9377 - loss: 0.6110 - val_accuracy: 0.6176 - val_loss: 0.6813\n",
      "Epoch 8/24\n",
      "\u001b[1m6/6\u001b[0m \u001b[32m━━━━━━━━━━━━━━━━━━━━\u001b[0m\u001b[37m\u001b[0m \u001b[1m0s\u001b[0m 6ms/step - accuracy: 0.9803 - loss: 0.5722 - val_accuracy: 0.6471 - val_loss: 0.6753\n",
      "Epoch 9/24\n",
      "\u001b[1m6/6\u001b[0m \u001b[32m━━━━━━━━━━━━━━━━━━━━\u001b[0m\u001b[37m\u001b[0m \u001b[1m0s\u001b[0m 6ms/step - accuracy: 0.9861 - loss: 0.5194 - val_accuracy: 0.6471 - val_loss: 0.6686\n",
      "Epoch 10/24\n",
      "\u001b[1m6/6\u001b[0m \u001b[32m━━━━━━━━━━━━━━━━━━━━\u001b[0m\u001b[37m\u001b[0m \u001b[1m0s\u001b[0m 6ms/step - accuracy: 0.9561 - loss: 0.4764 - val_accuracy: 0.6765 - val_loss: 0.6624\n",
      "Epoch 11/24\n",
      "\u001b[1m6/6\u001b[0m \u001b[32m━━━━━━━━━━━━━━━━━━━━\u001b[0m\u001b[37m\u001b[0m \u001b[1m0s\u001b[0m 6ms/step - accuracy: 0.9738 - loss: 0.3968 - val_accuracy: 0.6471 - val_loss: 0.6553\n",
      "Epoch 12/24\n",
      "\u001b[1m6/6\u001b[0m \u001b[32m━━━━━━━━━━━━━━━━━━━━\u001b[0m\u001b[37m\u001b[0m \u001b[1m0s\u001b[0m 6ms/step - accuracy: 0.9766 - loss: 0.3353 - val_accuracy: 0.6471 - val_loss: 0.6564\n",
      "Epoch 13/24\n",
      "\u001b[1m6/6\u001b[0m \u001b[32m━━━━━━━━━━━━━━━━━━━━\u001b[0m\u001b[37m\u001b[0m \u001b[1m0s\u001b[0m 6ms/step - accuracy: 0.9919 - loss: 0.2681 - val_accuracy: 0.6765 - val_loss: 0.6528\n",
      "Epoch 14/24\n",
      "\u001b[1m6/6\u001b[0m \u001b[32m━━━━━━━━━━━━━━━━━━━━\u001b[0m\u001b[37m\u001b[0m \u001b[1m0s\u001b[0m 6ms/step - accuracy: 0.9899 - loss: 0.1901 - val_accuracy: 0.6471 - val_loss: 0.6589\n",
      "Epoch 15/24\n",
      "\u001b[1m6/6\u001b[0m \u001b[32m━━━━━━━━━━━━━━━━━━━━\u001b[0m\u001b[37m\u001b[0m \u001b[1m0s\u001b[0m 6ms/step - accuracy: 1.0000 - loss: 0.1352 - val_accuracy: 0.6765 - val_loss: 0.6715\n",
      "Epoch 16/24\n",
      "\u001b[1m6/6\u001b[0m \u001b[32m━━━━━━━━━━━━━━━━━━━━\u001b[0m\u001b[37m\u001b[0m \u001b[1m0s\u001b[0m 7ms/step - accuracy: 0.9843 - loss: 0.1084 - val_accuracy: 0.6471 - val_loss: 0.6920\n",
      "Epoch 17/24\n",
      "\u001b[1m6/6\u001b[0m \u001b[32m━━━━━━━━━━━━━━━━━━━━\u001b[0m\u001b[37m\u001b[0m \u001b[1m0s\u001b[0m 5ms/step - accuracy: 1.0000 - loss: 0.0781 - val_accuracy: 0.6471 - val_loss: 0.7216\n",
      "Epoch 18/24\n",
      "\u001b[1m6/6\u001b[0m \u001b[32m━━━━━━━━━━━━━━━━━━━━\u001b[0m\u001b[37m\u001b[0m \u001b[1m0s\u001b[0m 6ms/step - accuracy: 1.0000 - loss: 0.0581 - val_accuracy: 0.6471 - val_loss: 0.7355\n",
      "Epoch 19/24\n",
      "\u001b[1m6/6\u001b[0m \u001b[32m━━━━━━━━━━━━━━━━━━━━\u001b[0m\u001b[37m\u001b[0m \u001b[1m0s\u001b[0m 5ms/step - accuracy: 1.0000 - loss: 0.0457 - val_accuracy: 0.6176 - val_loss: 0.7595\n",
      "Epoch 20/24\n",
      "\u001b[1m6/6\u001b[0m \u001b[32m━━━━━━━━━━━━━━━━━━━━\u001b[0m\u001b[37m\u001b[0m \u001b[1m0s\u001b[0m 6ms/step - accuracy: 1.0000 - loss: 0.0324 - val_accuracy: 0.6765 - val_loss: 0.7779\n",
      "Epoch 21/24\n",
      "\u001b[1m6/6\u001b[0m \u001b[32m━━━━━━━━━━━━━━━━━━━━\u001b[0m\u001b[37m\u001b[0m \u001b[1m0s\u001b[0m 6ms/step - accuracy: 1.0000 - loss: 0.0246 - val_accuracy: 0.6471 - val_loss: 0.7944\n",
      "Epoch 22/24\n",
      "\u001b[1m6/6\u001b[0m \u001b[32m━━━━━━━━━━━━━━━━━━━━\u001b[0m\u001b[37m\u001b[0m \u001b[1m0s\u001b[0m 6ms/step - accuracy: 1.0000 - loss: 0.0220 - val_accuracy: 0.6471 - val_loss: 0.8113\n",
      "Epoch 23/24\n",
      "\u001b[1m6/6\u001b[0m \u001b[32m━━━━━━━━━━━━━━━━━━━━\u001b[0m\u001b[37m\u001b[0m \u001b[1m0s\u001b[0m 6ms/step - accuracy: 1.0000 - loss: 0.0171 - val_accuracy: 0.6765 - val_loss: 0.8265\n",
      "Epoch 24/24\n",
      "\u001b[1m6/6\u001b[0m \u001b[32m━━━━━━━━━━━━━━━━━━━━\u001b[0m\u001b[37m\u001b[0m \u001b[1m0s\u001b[0m 6ms/step - accuracy: 1.0000 - loss: 0.0169 - val_accuracy: 0.6765 - val_loss: 0.8422\n",
      "\u001b[1m2/2\u001b[0m \u001b[32m━━━━━━━━━━━━━━━━━━━━\u001b[0m\u001b[37m\u001b[0m \u001b[1m0s\u001b[0m 3ms/step - accuracy: 0.7946 - loss: 0.6951 \n",
      "Test Loss: 0.7864593863487244, Test Accuracy: 0.7857142686843872\n"
     ]
    }
   ],
   "source": [
    "# Training parameters\n",
    "n_epochs = 24\n",
    "n_batch = 24\n",
    "\n",
    "# Define neural network architecture\n",
    "text_model = Sequential([\n",
    "    Dense(128, input_dim=X_train.shape[1], activation='relu'),\n",
    "    Dropout(0.25),\n",
    "    Dense(64, activation='relu'),\n",
    "    Dense(1, activation='sigmoid')\n",
    "])\n",
    "\n",
    "# Compile the model\n",
    "text_model.compile(loss='binary_crossentropy', optimizer='adam', metrics=['accuracy'])\n",
    "\n",
    "# Train the model\n",
    "text_model.fit(X_train, y_train, batch_size=n_batch, epochs=n_epochs, validation_split=0.2)\n",
    "\n",
    "# Evaluate the model\n",
    "loss, accuracy = text_model.evaluate(X_test, y_test)\n",
    "print(f'Test Loss: {loss}, Test Accuracy: {accuracy}')"
   ]
  },
  {
   "cell_type": "code",
   "execution_count": 87,
   "id": "9c44a304",
   "metadata": {},
   "outputs": [
    {
     "name": "stdout",
     "output_type": "stream",
     "text": [
      "\u001b[1m2/2\u001b[0m \u001b[32m━━━━━━━━━━━━━━━━━━━━\u001b[0m\u001b[37m\u001b[0m \u001b[1m0s\u001b[0m 4ms/step \n",
      "Predicted Values:\n",
      "[[0.02519945]\n",
      " [0.5931331 ]\n",
      " [0.00810156]\n",
      " [0.48864883]\n",
      " [0.01565026]\n",
      " [0.14724757]\n",
      " [0.9566336 ]\n",
      " [0.95199746]\n",
      " [0.960626  ]\n",
      " [0.67426014]\n",
      " [0.82825863]\n",
      " [0.99118817]\n",
      " [0.01571717]\n",
      " [0.636201  ]\n",
      " [0.12741303]\n",
      " [0.7880492 ]\n",
      " [0.0137335 ]\n",
      " [0.3915706 ]\n",
      " [0.97181565]\n",
      " [0.9810082 ]\n",
      " [0.7186353 ]\n",
      " [0.94472766]\n",
      " [0.01907962]\n",
      " [0.15569925]\n",
      " [0.35452366]\n",
      " [0.07624636]\n",
      " [0.20972832]\n",
      " [0.0746403 ]\n",
      " [0.79874235]\n",
      " [0.04918833]\n",
      " [0.03150563]\n",
      " [0.9840539 ]\n",
      " [0.9802321 ]\n",
      " [0.88404876]\n",
      " [0.42437214]\n",
      " [0.08996818]\n",
      " [0.6070235 ]\n",
      " [0.8921716 ]\n",
      " [0.9948001 ]\n",
      " [0.08756152]\n",
      " [0.0745492 ]\n",
      " [0.2664633 ]]\n"
     ]
    }
   ],
   "source": [
    "# Predict values for the test set\n",
    "text_predictions = text_model.predict(X_test)\n",
    "\n",
    "# Predicted values are the percentage chance that the sample is sarcastic\n",
    "print(\"Predicted Values:\")\n",
    "print(text_predictions)"
   ]
  },
  {
   "cell_type": "markdown",
   "id": "2efe38f9",
   "metadata": {},
   "source": [
    "# Sarcasm Detection Model Using Late Fusion"
   ]
  },
  {
   "cell_type": "code",
   "execution_count": 113,
   "id": "c56caee8",
   "metadata": {},
   "outputs": [
    {
     "data": {
      "image/png": "[encoded data removed]",
      "text/plain": [
       "<Figure size 640x480 with 2 Axes>"
      ]
     },
     "metadata": {},
     "output_type": "display_data"
    },
    {
     "name": "stdout",
     "output_type": "stream",
     "text": [
      "Statistics:\n",
      "               precision    recall  f1-score   support\n",
      "\n",
      "Not Sarcastic       0.81      0.85      0.83        20\n",
      "    Sarcastic       0.86      0.82      0.84        22\n",
      "\n",
      "     accuracy                           0.83        42\n",
      "    macro avg       0.83      0.83      0.83        42\n",
      " weighted avg       0.83      0.83      0.83        42\n",
      "\n"
     ]
    }
   ],
   "source": [
    "# Weights\n",
    "w_visual = 0\n",
    "w_tone = 0.30\n",
    "w_text = 0.70\n",
    "\n",
    "# Value threshold - 50%\n",
    "threshold = 0.5\n",
    "\n",
    "num_rows = len(tone_predictions)\n",
    "\n",
    "# Initialize lists to store the combined scores and predicted values\n",
    "combined_scores = []\n",
    "predicted_values = []\n",
    "real_values = []\n",
    "\n",
    "# Calculate combined scores and predicted values\n",
    "for i in range(num_rows):\n",
    "    combined_score = (w_tone * tone_predictions[i]) + (w_text * text_predictions[i])\n",
    "    combined_scores.append(combined_score)\n",
    "    \n",
    "    # Store the label value for that row, True if above the threshold\n",
    "    predicted_value = combined_score > threshold\n",
    "    predicted_values.append(predicted_value)\n",
    "    \n",
    "\n",
    "\n",
    "# Create a DataFrame to store the results\n",
    "results_df = pd.DataFrame({\n",
    "    'combined_score': combined_scores,\n",
    "    'predicted_value': [item for sublist in predicted_values for item in sublist],\n",
    "    'real_value': test_df['sarcasm']\n",
    "})\n",
    "\n",
    "# print(results_df)\n",
    "\n",
    "# Create and display confusion matrix\n",
    "cm = confusion_matrix(results_df['real_value'].astype(int), results_df['predicted_value'].astype(int))\n",
    "disp = ConfusionMatrixDisplay(confusion_matrix=cm, display_labels=['Not Sarcastic', 'Sarcastic'])\n",
    "disp.plot()\n",
    "plt.show()\n",
    "\n",
    "# Create and display statistics\n",
    "report = classification_report(results_df['real_value'].astype(int), results_df['predicted_value'].astype(int), target_names=['Not Sarcastic', 'Sarcastic'])\n",
    "\n",
    "print(\"Statistics:\")\n",
    "print(report)"
   ]
  }
 ],
 "metadata": {
  "kernelspec": {
   "display_name": "Python 3 (ipykernel)",
   "language": "python",
   "name": "python3"
  },
  "language_info": {
   "codemirror_mode": {
    "name": "ipython",
    "version": 3
   },
   "file_extension": ".py",
   "mimetype": "text/x-python",
   "name": "python",
   "nbconvert_exporter": "python",
   "pygments_lexer": "ipython3",
   "version": "3.11.5"
  }
 },
 "nbformat": 4,
 "nbformat_minor": 5
}
