{
 "cells": [
  {
   "cell_type": "markdown",
   "id": "cf32e5da",
   "metadata": {},
   "source": [
    "# Load Data"
   ]
  },
  {
   "cell_type": "code",
   "execution_count": 19,
   "id": "69c7b0b8",
   "metadata": {},
   "outputs": [],
   "source": [
    "# Libraries\n",
    "import pandas as pd\n",
    "from sklearn.model_selection import train_test_split\n",
    "from transformers import TFAutoModelForSequenceClassification, AutoTokenizer, AutoConfig\n",
    "import numpy as np\n",
    "from scipy.special import softmax\n",
    "from sklearn.preprocessing import LabelEncoder\n",
    "from sklearn.feature_extraction.text import TfidfVectorizer\n",
    "from tensorflow.keras.models import Sequential\n",
    "from tensorflow.keras.layers import Dense, Dropout"
   ]
  },
  {
   "cell_type": "code",
   "execution_count": 2,
   "id": "ca3c8a5d",
   "metadata": {},
   "outputs": [],
   "source": [
    "# Loading data from csv\n",
    "df = pd.read_csv('Sarcasm_Model_Dataset.csv')\n",
    "df.head()\n",
    "\n",
    "# Splitting data into test and train (80:20 split)\n",
    "train_df, test_df = train_test_split(df, test_size=0.2, random_state=0)"
   ]
  },
  {
   "cell_type": "markdown",
   "id": "6765c39b",
   "metadata": {},
   "source": [
    "# Frame Classifier"
   ]
  },
  {
   "cell_type": "code",
   "execution_count": null,
   "id": "b675b43e",
   "metadata": {},
   "outputs": [],
   "source": []
  },
  {
   "cell_type": "markdown",
   "id": "a118df1e",
   "metadata": {},
   "source": [
    "# Audio Classifier"
   ]
  },
  {
   "cell_type": "code",
   "execution_count": null,
   "id": "50e68982",
   "metadata": {},
   "outputs": [],
   "source": []
  },
  {
   "cell_type": "markdown",
   "id": "b55497ef",
   "metadata": {},
   "source": [
    "# Text Classifer"
   ]
  },
  {
   "cell_type": "code",
   "execution_count": 14,
   "id": "d33d3c18",
   "metadata": {
    "scrolled": true
   },
   "outputs": [
    {
     "name": "stderr",
     "output_type": "stream",
     "text": [
      "All model checkpoint layers were used when initializing TFRobertaForSequenceClassification.\n",
      "\n",
      "Some layers of TFRobertaForSequenceClassification were not initialized from the model checkpoint at cardiffnlp/twitter-roberta-base-sentiment-latest and are newly initialized: ['classifier']\n",
      "You should probably TRAIN this model on a down-stream task to be able to use it for predictions and inference.\n"
     ]
    },
    {
     "name": "stdout",
     "output_type": "stream",
     "text": [
      "           video                                            frame_1  \\\n",
      "104    2_208.mp4  8 8 8 8 8 6 6 6 6 6 7 7 7 6 6 6 5 4 9 23 14 13...   \n",
      "141    2_575.mp4  8 8 6 3 8 12 14 33 44 58 54 24 37 29 35 38 38 ...   \n",
      "4      1_276.mp4  123 124 124 92 31 11 14 15 15 16 15 15 15 13 1...   \n",
      "74   1_10890.mp4  53 58 63 44 59 155 169 168 167 164 163 161 161...   \n",
      "136    2_514.mp4  72 97 132 169 162 136 81 155 191 175 194 195 2...   \n",
      "\n",
      "                                               frame_2  \\\n",
      "104  2 2 2 2 2 2 3 3 3 3 3 2 3 2 1 17 20 14 15 15 1...   \n",
      "141  2 1 5 15 20 19 13 30 49 33 23 32 33 29 24 29 2...   \n",
      "4    93 30 3 4 5 6 5 5 6 6 6 7 7 7 9 5 4 4 6 4 2 5 ...   \n",
      "74   59 57 33 59 70 39 40 46 148 166 161 163 164 16...   \n",
      "136  181 195 222 197 178 210 230 248 230 105 13 15 ...   \n",
      "\n",
      "                                               frame_3         tone  \\\n",
      "104  6 6 6 7 7 7 8 8 7 6 6 7 7 7 7 7 7 9 7 6 7 9 9 ...    2_208.wav   \n",
      "141  14 13 3 1 10 21 19 14 38 42 34 27 45 42 30 26 ...    2_575.wav   \n",
      "4    123 96 29 3 4 5 6 6 6 5 6 6 7 8 8 5 3 5 5 4 2 ...    1_276.wav   \n",
      "74   52 36 34 82 176 165 164 164 164 162 160 158 15...  1_10890.wav   \n",
      "136  40 40 40 40 40 41 41 41 41 40 40 41 40 40 38 3...    2_514.wav   \n",
      "\n",
      "                                                  text  sarcasm sentiment  \\\n",
      "104                   It's that whole sensitive thing.    False   neutral   \n",
      "141  Why? Because she can sing and play guitar and ...     True   neutral   \n",
      "4    Yeah, my parents felt that naming me Leonard a...     True  positive   \n",
      "74   Boy, when you met Bernadette, the field of rob...     True   neutral   \n",
      "136        What's going on?!  That's what's going on!!    False   neutral   \n",
      "\n",
      "      score  sentiment_score  \n",
      "104  0.3712           0.3581  \n",
      "141  0.4350           0.3827  \n",
      "4    0.4099           0.3552  \n",
      "74   0.3734           0.3831  \n",
      "136  0.4166           0.3721  \n",
      "           video                                            frame_1  \\\n",
      "12    1_1001.mp4  125 126 126 126 126 126 126 126 126 127 126 12...   \n",
      "80   1_11699.mp4  66 80 78 77 73 34 25 51 66 61 71 77 60 63 59 4...   \n",
      "33    1_2216.mp4  32 29 23 18 20 21 21 19 19 20 22 23 22 19 14 1...   \n",
      "5      1_410.mp4  179 180 178 177 177 168 111 82 86 95 98 84 76 ...   \n",
      "188     2_53.mp4  11 5 12 23 22 21 21 23 24 29 31 29 27 27 23 20...   \n",
      "\n",
      "                                               frame_2  \\\n",
      "12   125 126 126 126 126 126 126 127 127 126 126 12...   \n",
      "80   32 52 74 78 78 74 64 25 29 42 63 64 68 68 53 6...   \n",
      "33   17 17 17 16 15 16 17 19 19 16 13 11 9 8 7 7 8 ...   \n",
      "5    179 178 177 176 143 86 84 90 99 91 79 76 75 75...   \n",
      "188  29 25 16 16 8 14 70 82 25 9 11 13 16 21 27 28 ...   \n",
      "\n",
      "                                               frame_3         tone  \\\n",
      "12   125 126 126 126 126 125 124 124 124 125 125 12...   1_1001.wav   \n",
      "80   77 74 75 76 85 43 20 27 45 48 55 57 56 61 61 5...  1_11699.wav   \n",
      "33   125 122 122 126 129 129 124 78 44 35 33 34 34 ...   1_2216.wav   \n",
      "5    83 86 93 97 85 78 76 76 76 75 76 76 80 88 100 ...    1_410.wav   \n",
      "188  8 53 92 52 9 17 20 20 24 27 30 32 32 32 32 31 ...     2_53.wav   \n",
      "\n",
      "                                                  text  sarcasm sentiment  \\\n",
      "12      What else? Sell it on eBay as \"slightly used.\"    False  positive   \n",
      "80   No, Stuart picked out those throw pillows all ...     True  positive   \n",
      "33   Excuse me, but what about me? Why don't I get ...    False  positive   \n",
      "5    Leonard, may I present, live from New Delhi, D...    False   neutral   \n",
      "188     You're gonna have to tell me how you did that.    False   neutral   \n",
      "\n",
      "      score  sentiment_score  \n",
      "12   0.4163           0.3660  \n",
      "80   0.3796           0.3578  \n",
      "33   0.3867           0.3413  \n",
      "5    0.4676           0.3981  \n",
      "188  0.3874           0.3785  \n"
     ]
    }
   ],
   "source": [
    "# Load sentiment classifier\n",
    "MODEL = \"cardiffnlp/twitter-roberta-base-sentiment-latest\"\n",
    "tokenizer = AutoTokenizer.from_pretrained(MODEL)\n",
    "config = AutoConfig.from_pretrained(MODEL)\n",
    "model = TFAutoModelForSequenceClassification.from_pretrained(MODEL)\n",
    "\n",
    "# Classify text and add sentiment and score columns to DataFrame\n",
    "def classify_text(row):\n",
    "    text = row['text']\n",
    "    encoded_input = tokenizer(text, return_tensors='tf')\n",
    "    output = model(**encoded_input)\n",
    "    scores = output[0][0].numpy()  # Convert TensorFlow tensor to NumPy array\n",
    "    scores = softmax(scores)\n",
    "    ranking = np.argsort(scores)[::-1]\n",
    "    l = config.id2label[ranking[0]]  # Take the label with highest score\n",
    "    s = np.round(float(scores[ranking[0]]), 4)\n",
    "    return pd.Series({'sentiment': l, 'score': s})\n",
    "\n",
    "# Apply classifier to each row in the DataFrame\n",
    "train_df[['sentiment', 'sentiment_score']] = train_df.apply(classify_text, axis=1)\n",
    "test_df[['sentiment', 'sentiment_score']] = test_df.apply(classify_text, axis=1)\n",
    "\n",
    "# Display the DataFrame with new columns\n",
    "print(train_df.head())\n",
    "print(test_df.head())"
   ]
  },
  {
   "cell_type": "code",
   "execution_count": 42,
   "id": "2d73e0f2",
   "metadata": {},
   "outputs": [],
   "source": [
    "# Encode labels\n",
    "label_encoder = LabelEncoder()\n",
    "train_df['sarcasm_encoded'] = label_encoder.fit_transform(train_df['sarcasm'])\n",
    "test_df['sarcasm_encoded'] = label_encoder.fit_transform(test_df['sarcasm'])\n",
    "\n",
    "# Text preprocessing\n",
    "tfidf_vectorizer = TfidfVectorizer(max_features=1000)\n",
    "X_text_train = tfidf_vectorizer.fit_transform(train_df['text']).toarray()\n",
    "X_text_test = tfidf_vectorizer.transform(test_df['text']).toarray()\n",
    "\n",
    "# Convert sentiment labels to numerical values\n",
    "sentiment_mapping = {'positive': 2, 'neutral': 1, 'negative': 0}\n",
    "train_df['sentiment_encoded'] = train_df['sentiment'].map(sentiment_mapping)\n",
    "test_df['sentiment_encoded'] = test_df['sentiment'].map(sentiment_mapping)\n",
    "\n",
    "# Combine text features with sentiment scores\n",
    "X_train = np.concatenate((X_text_train, train_df[['sentiment_encoded', 'sentiment_score']].values), axis=1)\n",
    "y_train = train_df['sarcasm_encoded']\n",
    "X_test = np.concatenate((X_text_test, test_df[['sentiment_encoded', 'sentiment_score']].values), axis=1)\n",
    "y_test = test_df['sarcasm_encoded']"
   ]
  },
  {
   "cell_type": "code",
   "execution_count": 43,
   "id": "c0e3e730",
   "metadata": {
    "scrolled": true
   },
   "outputs": [
    {
     "name": "stdout",
     "output_type": "stream",
     "text": [
      "Epoch 1/20\n"
     ]
    },
    {
     "name": "stderr",
     "output_type": "stream",
     "text": [
      "/Users/alyssarusk/anaconda3/lib/python3.11/site-packages/keras/src/layers/core/dense.py:85: UserWarning: Do not pass an `input_shape`/`input_dim` argument to a layer. When using Sequential models, prefer using an `Input(shape)` object as the first layer in the model instead.\n",
      "  super().__init__(activity_regularizer=activity_regularizer, **kwargs)\n"
     ]
    },
    {
     "name": "stdout",
     "output_type": "stream",
     "text": [
      "\u001b[1m5/5\u001b[0m \u001b[32m━━━━━━━━━━━━━━━━━━━━\u001b[0m\u001b[37m\u001b[0m \u001b[1m1s\u001b[0m 36ms/step - accuracy: 0.4179 - loss: 0.6961 - val_accuracy: 0.5294 - val_loss: 0.6984\n",
      "Epoch 2/20\n",
      "\u001b[1m5/5\u001b[0m \u001b[32m━━━━━━━━━━━━━━━━━━━━\u001b[0m\u001b[37m\u001b[0m \u001b[1m0s\u001b[0m 10ms/step - accuracy: 0.5460 - loss: 0.6906 - val_accuracy: 0.5882 - val_loss: 0.6978\n",
      "Epoch 3/20\n",
      "\u001b[1m5/5\u001b[0m \u001b[32m━━━━━━━━━━━━━━━━━━━━\u001b[0m\u001b[37m\u001b[0m \u001b[1m0s\u001b[0m 9ms/step - accuracy: 0.7222 - loss: 0.6809 - val_accuracy: 0.5588 - val_loss: 0.6985\n",
      "Epoch 4/20\n",
      "\u001b[1m5/5\u001b[0m \u001b[32m━━━━━━━━━━━━━━━━━━━━\u001b[0m\u001b[37m\u001b[0m \u001b[1m0s\u001b[0m 12ms/step - accuracy: 0.6406 - loss: 0.6800 - val_accuracy: 0.4706 - val_loss: 0.6995\n",
      "Epoch 5/20\n",
      "\u001b[1m5/5\u001b[0m \u001b[32m━━━━━━━━━━━━━━━━━━━━\u001b[0m\u001b[37m\u001b[0m \u001b[1m0s\u001b[0m 9ms/step - accuracy: 0.6891 - loss: 0.6705 - val_accuracy: 0.5294 - val_loss: 0.6989\n",
      "Epoch 6/20\n",
      "\u001b[1m5/5\u001b[0m \u001b[32m━━━━━━━━━━━━━━━━━━━━\u001b[0m\u001b[37m\u001b[0m \u001b[1m0s\u001b[0m 9ms/step - accuracy: 0.8466 - loss: 0.6586 - val_accuracy: 0.5294 - val_loss: 0.6964\n",
      "Epoch 7/20\n",
      "\u001b[1m5/5\u001b[0m \u001b[32m━━━━━━━━━━━━━━━━━━━━\u001b[0m\u001b[37m\u001b[0m \u001b[1m0s\u001b[0m 10ms/step - accuracy: 0.9351 - loss: 0.6465 - val_accuracy: 0.5000 - val_loss: 0.6920\n",
      "Epoch 8/20\n",
      "\u001b[1m5/5\u001b[0m \u001b[32m━━━━━━━━━━━━━━━━━━━━\u001b[0m\u001b[37m\u001b[0m \u001b[1m0s\u001b[0m 9ms/step - accuracy: 0.8790 - loss: 0.6404 - val_accuracy: 0.5294 - val_loss: 0.6893\n",
      "Epoch 9/20\n",
      "\u001b[1m5/5\u001b[0m \u001b[32m━━━━━━━━━━━━━━━━━━━━\u001b[0m\u001b[37m\u001b[0m \u001b[1m0s\u001b[0m 8ms/step - accuracy: 0.9346 - loss: 0.6200 - val_accuracy: 0.4706 - val_loss: 0.6895\n",
      "Epoch 10/20\n",
      "\u001b[1m5/5\u001b[0m \u001b[32m━━━━━━━━━━━━━━━━━━━━\u001b[0m\u001b[37m\u001b[0m \u001b[1m0s\u001b[0m 7ms/step - accuracy: 0.9067 - loss: 0.5997 - val_accuracy: 0.5588 - val_loss: 0.6924\n",
      "Epoch 11/20\n",
      "\u001b[1m5/5\u001b[0m \u001b[32m━━━━━━━━━━━━━━━━━━━━\u001b[0m\u001b[37m\u001b[0m \u001b[1m0s\u001b[0m 8ms/step - accuracy: 0.8866 - loss: 0.5804 - val_accuracy: 0.5294 - val_loss: 0.6880\n",
      "Epoch 12/20\n",
      "\u001b[1m5/5\u001b[0m \u001b[32m━━━━━━━━━━━━━━━━━━━━\u001b[0m\u001b[37m\u001b[0m \u001b[1m0s\u001b[0m 7ms/step - accuracy: 0.8972 - loss: 0.5618 - val_accuracy: 0.5294 - val_loss: 0.6811\n",
      "Epoch 13/20\n",
      "\u001b[1m5/5\u001b[0m \u001b[32m━━━━━━━━━━━━━━━━━━━━\u001b[0m\u001b[37m\u001b[0m \u001b[1m0s\u001b[0m 7ms/step - accuracy: 0.9144 - loss: 0.5355 - val_accuracy: 0.5882 - val_loss: 0.6721\n",
      "Epoch 14/20\n",
      "\u001b[1m5/5\u001b[0m \u001b[32m━━━━━━━━━━━━━━━━━━━━\u001b[0m\u001b[37m\u001b[0m \u001b[1m0s\u001b[0m 7ms/step - accuracy: 0.9663 - loss: 0.5014 - val_accuracy: 0.5000 - val_loss: 0.6602\n",
      "Epoch 15/20\n",
      "\u001b[1m5/5\u001b[0m \u001b[32m━━━━━━━━━━━━━━━━━━━━\u001b[0m\u001b[37m\u001b[0m \u001b[1m0s\u001b[0m 8ms/step - accuracy: 0.9730 - loss: 0.4661 - val_accuracy: 0.5294 - val_loss: 0.6487\n",
      "Epoch 16/20\n",
      "\u001b[1m5/5\u001b[0m \u001b[32m━━━━━━━━━━━━━━━━━━━━\u001b[0m\u001b[37m\u001b[0m \u001b[1m0s\u001b[0m 8ms/step - accuracy: 0.9371 - loss: 0.4478 - val_accuracy: 0.6176 - val_loss: 0.6353\n",
      "Epoch 17/20\n",
      "\u001b[1m5/5\u001b[0m \u001b[32m━━━━━━━━━━━━━━━━━━━━\u001b[0m\u001b[37m\u001b[0m \u001b[1m0s\u001b[0m 7ms/step - accuracy: 0.9756 - loss: 0.4264 - val_accuracy: 0.6471 - val_loss: 0.6151\n",
      "Epoch 18/20\n",
      "\u001b[1m5/5\u001b[0m \u001b[32m━━━━━━━━━━━━━━━━━━━━\u001b[0m\u001b[37m\u001b[0m \u001b[1m0s\u001b[0m 8ms/step - accuracy: 0.9695 - loss: 0.3770 - val_accuracy: 0.6176 - val_loss: 0.6006\n",
      "Epoch 19/20\n",
      "\u001b[1m5/5\u001b[0m \u001b[32m━━━━━━━━━━━━━━━━━━━━\u001b[0m\u001b[37m\u001b[0m \u001b[1m0s\u001b[0m 7ms/step - accuracy: 0.9863 - loss: 0.3187 - val_accuracy: 0.6176 - val_loss: 0.5930\n",
      "Epoch 20/20\n",
      "\u001b[1m5/5\u001b[0m \u001b[32m━━━━━━━━━━━━━━━━━━━━\u001b[0m\u001b[37m\u001b[0m \u001b[1m0s\u001b[0m 7ms/step - accuracy: 0.9889 - loss: 0.2947 - val_accuracy: 0.6176 - val_loss: 0.5899\n",
      "\u001b[1m2/2\u001b[0m \u001b[32m━━━━━━━━━━━━━━━━━━━━\u001b[0m\u001b[37m\u001b[0m \u001b[1m0s\u001b[0m 3ms/step - accuracy: 0.6577 - loss: 0.6056 \n",
      "Test Loss: 0.6331121921539307, Test Accuracy: 0.6428571343421936\n"
     ]
    }
   ],
   "source": [
    "# Training parameters\n",
    "n_epochs = 20\n",
    "n_batch = 32\n",
    "\n",
    "# Define neural network architecture\n",
    "text_model = Sequential([\n",
    "    Dense(64, input_dim=X_train.shape[1], activation='relu'),\n",
    "    Dropout(0.25),\n",
    "    Dense(32, activation='relu'),\n",
    "    Dense(1, activation='sigmoid')\n",
    "])\n",
    "\n",
    "# Compile the model\n",
    "text_model.compile(loss='binary_crossentropy', optimizer='adam', metrics=['accuracy'])\n",
    "\n",
    "# Train the model\n",
    "text_model.fit(X_train, y_train, batch_size=n_batch, epochs=n_epochs, validation_split=0.2)\n",
    "\n",
    "# Evaluate the model\n",
    "loss, accuracy = text_model.evaluate(X_test, y_test)\n",
    "print(f'Test Loss: {loss}, Test Accuracy: {accuracy}')"
   ]
  },
  {
   "cell_type": "code",
   "execution_count": 44,
   "id": "183ee229",
   "metadata": {},
   "outputs": [
    {
     "name": "stdout",
     "output_type": "stream",
     "text": [
      "\u001b[1m2/2\u001b[0m \u001b[32m━━━━━━━━━━━━━━━━━━━━\u001b[0m\u001b[37m\u001b[0m \u001b[1m0s\u001b[0m 34ms/step\n",
      "Predicted Values:\n",
      "[[0.26481426]\n",
      " [0.44587934]\n",
      " [0.21210124]\n",
      " [0.48192853]\n",
      " [0.27117366]\n",
      " [0.25039634]\n",
      " [0.72702086]\n",
      " [0.7342012 ]\n",
      " [0.586081  ]\n",
      " [0.49969736]\n",
      " [0.58512634]\n",
      " [0.74650764]\n",
      " [0.22810024]\n",
      " [0.5528277 ]\n",
      " [0.3733225 ]\n",
      " [0.5861342 ]\n",
      " [0.16946304]\n",
      " [0.38853127]\n",
      " [0.68439186]\n",
      " [0.72866553]\n",
      " [0.42747384]\n",
      " [0.5923272 ]\n",
      " [0.17361885]\n",
      " [0.36331174]\n",
      " [0.5767516 ]\n",
      " [0.28934792]\n",
      " [0.31974253]\n",
      " [0.19313169]\n",
      " [0.46339047]\n",
      " [0.19743203]\n",
      " [0.25354373]\n",
      " [0.6837827 ]\n",
      " [0.69847083]\n",
      " [0.49974117]\n",
      " [0.3186751 ]\n",
      " [0.32532614]\n",
      " [0.45638475]\n",
      " [0.6400878 ]\n",
      " [0.7657035 ]\n",
      " [0.24513705]\n",
      " [0.32134756]\n",
      " [0.2876822 ]]\n"
     ]
    }
   ],
   "source": [
    "# Predict values for the test set\n",
    "predictions = text_model.predict(X_test)\n",
    "\n",
    "# Print the predicted values\n",
    "print(\"Predicted Values:\")\n",
    "print(predictions)"
   ]
  },
  {
   "cell_type": "markdown",
   "id": "933797e8",
   "metadata": {},
   "source": [
    "# Sarcasm Detection Model Using Late Fusion"
   ]
  },
  {
   "cell_type": "code",
   "execution_count": null,
   "id": "ad2d70cb",
   "metadata": {},
   "outputs": [],
   "source": []
  }
 ],
 "metadata": {
  "kernelspec": {
   "display_name": "Python 3 (ipykernel)",
   "language": "python",
   "name": "python3"
  },
  "language_info": {
   "codemirror_mode": {
    "name": "ipython",
    "version": 3
   },
   "file_extension": ".py",
   "mimetype": "text/x-python",
   "name": "python",
   "nbconvert_exporter": "python",
   "pygments_lexer": "ipython3",
   "version": "3.11.5"
  }
 },
 "nbformat": 4,
 "nbformat_minor": 5
}
