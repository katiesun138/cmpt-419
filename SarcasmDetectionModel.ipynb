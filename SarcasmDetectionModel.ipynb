{
 "cells": [
  {
   "cell_type": "markdown",
   "id": "69b07888",
   "metadata": {},
   "source": [
    "# Load Data"
   ]
  },
  {
   "cell_type": "code",
   "execution_count": 3,
   "id": "7dbf0ec1",
   "metadata": {},
   "outputs": [],
   "source": [
    "# Libraries\n",
    "import pandas as pd\n",
    "from sklearn.model_selection import train_test_split"
   ]
  },
  {
   "cell_type": "code",
   "execution_count": 4,
   "id": "ae89ce08",
   "metadata": {},
   "outputs": [],
   "source": [
    "# Loading data from csv\n",
    "df = pd.read_csv('Sarcasm_Model_Dataset.csv')\n",
    "df.head()\n",
    "\n",
    "# Splitting data into test and train (80:20 split)\n",
    "train_df, test_df = train_test_split(df, test_size=0.2, random_state=0)"
   ]
  },
  {
   "cell_type": "markdown",
   "id": "e565479f",
   "metadata": {},
   "source": [
    "# Frame Classifier"
   ]
  },
  {
   "cell_type": "code",
   "execution_count": null,
   "id": "400fbb0f",
   "metadata": {},
   "outputs": [],
   "source": []
  },
  {
   "cell_type": "markdown",
   "id": "aab045af",
   "metadata": {},
   "source": [
    "# Audio Classifier"
   ]
  },
  {
   "cell_type": "code",
   "execution_count": 9,
   "id": "b7d561d1",
   "metadata": {},
   "outputs": [
    {
     "data": {
      "text/html": [
       "<div>\n",
       "<style scoped>\n",
       "    .dataframe tbody tr th:only-of-type {\n",
       "        vertical-align: middle;\n",
       "    }\n",
       "\n",
       "    .dataframe tbody tr th {\n",
       "        vertical-align: top;\n",
       "    }\n",
       "\n",
       "    .dataframe thead th {\n",
       "        text-align: right;\n",
       "    }\n",
       "</style>\n",
       "<table border=\"1\" class=\"dataframe\">\n",
       "  <thead>\n",
       "    <tr style=\"text-align: right;\">\n",
       "      <th></th>\n",
       "      <th>tone</th>\n",
       "      <th>sarcasm</th>\n",
       "    </tr>\n",
       "  </thead>\n",
       "  <tbody>\n",
       "    <tr>\n",
       "      <th>104</th>\n",
       "      <td>2_208.wav</td>\n",
       "      <td>False</td>\n",
       "    </tr>\n",
       "    <tr>\n",
       "      <th>141</th>\n",
       "      <td>2_575.wav</td>\n",
       "      <td>True</td>\n",
       "    </tr>\n",
       "    <tr>\n",
       "      <th>4</th>\n",
       "      <td>1_276.wav</td>\n",
       "      <td>True</td>\n",
       "    </tr>\n",
       "    <tr>\n",
       "      <th>74</th>\n",
       "      <td>1_10890.wav</td>\n",
       "      <td>True</td>\n",
       "    </tr>\n",
       "    <tr>\n",
       "      <th>136</th>\n",
       "      <td>2_514.wav</td>\n",
       "      <td>False</td>\n",
       "    </tr>\n",
       "  </tbody>\n",
       "</table>\n",
       "</div>"
      ],
      "text/plain": [
       "            tone  sarcasm\n",
       "104    2_208.wav    False\n",
       "141    2_575.wav     True\n",
       "4      1_276.wav     True\n",
       "74   1_10890.wav     True\n",
       "136    2_514.wav    False"
      ]
     },
     "execution_count": 9,
     "metadata": {},
     "output_type": "execute_result"
    }
   ],
   "source": [
    "from pathlib import Path\n",
    "import os\n",
    "import numpy as np\n",
    "import librosa\n",
    "import librosa.display\n",
    "import matplotlib.pyplot as plt\n",
    "from IPython.display import Audio\n",
    "\n",
    "#Extract relevant columns\n",
    "tone_df = train_df[['tone', 'sarcasm']]\n",
    "tone_df.head()"
   ]
  },
  {
   "cell_type": "code",
   "execution_count": 10,
   "id": "788e59e4-fb97-4be2-8dd4-e40411bfb3a7",
   "metadata": {},
   "outputs": [],
   "source": [
    "#Format and standardize \n",
    "audio_array = []\n",
    "sample_rate = 44100  #standardize each file to 44100 HZ\n",
    "max_length = 10*sample_rate  #maxmimum length an audio file can be\n",
    "audio_file_path = 'audio_data'\n",
    "\n",
    "for filename in os.listdir(audio_file_path):\n",
    "    if filename.endswith(\".wav\"):\n",
    "        file_path = os.path.join(audio_file_path, filename)\n",
    "        # Load the audio file and append the array to the list\n",
    "        x, sr = librosa.load(file_path, sr=sample_rate)\n",
    "        if len(x) > max_length:\n",
    "            x = x[:max_length] #Trim the audio\n",
    "        else:\n",
    "            x = np.pad(x, (0, max_length - len(x)), mode='constant') #pad the audio\n",
    "        audio_array.append(x)\n",
    "\n",
    "# Convert audio array to a NumPy array\n",
    "audio_np_array = np.array(audio_array)"
   ]
  },
  {
   "cell_type": "code",
   "execution_count": 11,
   "id": "fea01a1d-ac6b-4b71-8278-f00a3a6e0e18",
   "metadata": {},
   "outputs": [],
   "source": [
    "spectrograms = []\n",
    "\n",
    "for audio in audio_np_array:\n",
    "    spectrogram = librosa.feature.melspectrogram(y=audio, sr=sample_rate)\n",
    "    spectrogram_db = librosa.power_to_db(spectrogram, ref=np.max)  #converts from power (energy) scale to decibel scale\n",
    "    spectrograms.append(spectrogram_db)\n",
    "\n",
    "# Convert the list of spectrograms to a NumPy array\n",
    "spectrograms_nparray = np.array(spectrograms)"
   ]
  },
  {
   "cell_type": "markdown",
   "id": "faffdaf3",
   "metadata": {},
   "source": [
    "# Text Classifer"
   ]
  },
  {
   "cell_type": "code",
   "execution_count": null,
   "id": "afc63e52",
   "metadata": {},
   "outputs": [],
   "source": []
  },
  {
   "cell_type": "markdown",
   "id": "558f7670",
   "metadata": {},
   "source": [
    "# Sarcasm Detection Model Using Late Fusion"
   ]
  },
  {
   "cell_type": "code",
   "execution_count": null,
   "id": "881e88d2",
   "metadata": {},
   "outputs": [],
   "source": []
  }
 ],
 "metadata": {
  "kernelspec": {
   "display_name": "Python 3 (ipykernel)",
   "language": "python",
   "name": "python3"
  },
  "language_info": {
   "codemirror_mode": {
    "name": "ipython",
    "version": 3
   },
   "file_extension": ".py",
   "mimetype": "text/x-python",
   "name": "python",
   "nbconvert_exporter": "python",
   "pygments_lexer": "ipython3",
   "version": "3.8.7"
  }
 },
 "nbformat": 4,
 "nbformat_minor": 5
}
