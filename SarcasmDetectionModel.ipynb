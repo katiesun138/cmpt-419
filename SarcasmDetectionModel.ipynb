{
 "cells": [
  {
   "cell_type": "markdown",
   "id": "80d97467",
   "metadata": {},
   "source": [
    "# Load Data"
   ]
  },
  {
   "cell_type": "code",
   "execution_count": 173,
   "id": "f5df90e2",
   "metadata": {},
   "outputs": [],
   "source": [
    "# Libraries\n",
    "import pandas as pd\n",
    "import os\n",
    "import numpy as np\n",
    "import matplotlib.pyplot as plt\n",
    "from PIL import Image\n",
    "\n",
    "from transformers import TFAutoModelForSequenceClassification, AutoTokenizer, AutoConfig\n",
    "\n",
    "from sklearn.model_selection import train_test_split\n",
    "from sklearn.preprocessing import LabelEncoder\n",
    "from sklearn.feature_extraction.text import TfidfVectorizer\n",
    "from sklearn.metrics import accuracy_score, confusion_matrix, classification_report, ConfusionMatrixDisplay\n",
    "\n",
    "from scipy.special import softmax\n",
    "\n",
    "from tensorflow.keras.models import Sequential\n",
    "from tensorflow.keras.layers import Dense, Dropout\n",
    "from tensorflow.keras.applications import ResNet50\n",
    "from tensorflow.keras.applications.resnet50 import preprocess_input\n",
    "from tensorflow.keras.preprocessing.image import ImageDataGenerator"
   ]
  },
  {
   "cell_type": "code",
   "execution_count": 174,
   "id": "6e1d337b",
   "metadata": {},
   "outputs": [],
   "source": [
    "# Loading data from csv\n",
    "df = pd.read_csv('Sarcasm_Model_Dataset.csv')\n",
    "df.head()\n",
    "\n",
    "# Splitting data into test and train (80:20 split)\n",
    "train_df, test_df = train_test_split(df, test_size=0.2, random_state=0)\n",
    "# print(len(train_df))"
   ]
  },
  {
   "cell_type": "markdown",
   "id": "46404d4a-afe6-42fa-8b04-37912b914408",
   "metadata": {},
   "source": [
    "Visual Classifier\n",
    "--"
   ]
  },
  {
   "cell_type": "code",
   "execution_count": 175,
   "id": "696be068-4444-455e-8cc1-22bcdeafead6",
   "metadata": {},
   "outputs": [],
   "source": [
    "\n",
    "\n",
    "train_df.reset_index(drop=True, inplace=True)\n",
    "test_df.reset_index(drop=True, inplace=True)\n",
    "\n",
    "#Create Directories for training images\n",
    "output_dir = 'train_images'\n",
    "\n",
    "# Create the output directory if it doesn't exist\n",
    "if not os.path.exists(output_dir):\n",
    "    os.makedirs(output_dir)\n",
    "\n",
    "columns_to_iterate = ['frame_1', 'frame_2', 'frame_3']\n",
    "\n",
    "# Iterate through each column\n",
    "for column in columns_to_iterate:\n",
    "    # Create a directory for the current column if it doesn't exist\n",
    "    column_dir = os.path.join(output_dir, column)\n",
    "    if not os.path.exists(column_dir):\n",
    "        os.makedirs(column_dir)\n",
    "        \n",
    "    sarcastic = os.path.join(column_dir, 'sarcastic')    \n",
    "    not_sarcastic = os.path.join(column_dir, 'not_sarcastic')\n",
    "    if not os.path.exists(sarcastic):\n",
    "        os.makedirs(sarcastic)\n",
    "    if not os.path.exists(not_sarcastic):\n",
    "        os.makedirs(not_sarcastic)\n",
    "        \n",
    "    for i in range(len(train_df)): \n",
    "        pixel_values = np.array(train_df[column][i].split(), dtype=np.uint8)\n",
    "        \n",
    "        # Reshape pixel values into image dimensions\n",
    "        image_array = pixel_values.reshape((48,48,1))\n",
    "        image_array = np.repeat(image_array, 3, axis=2)\n",
    "        # Create a PIL Image object\n",
    "        image = Image.fromarray(image_array)\n",
    "        \n",
    "        if train_df['sarcasm'][i] == True:\n",
    "            save_dir = sarcastic\n",
    "        else:\n",
    "            save_dir = not_sarcastic\n",
    "        image.save(os.path.join(save_dir, f'image_{i}.png'))  # Assuming you want to save images as PNG files"
   ]
  },
  {
   "cell_type": "code",
   "execution_count": 176,
   "id": "8abdfa65-350b-4b4e-8920-fdee5969ee18",
   "metadata": {},
   "outputs": [],
   "source": [
    "#Create Directories for test images\n",
    "output_dir = 'test_images'\n",
    "\n",
    "# Create the output directory if it doesn't exist\n",
    "if not os.path.exists(output_dir):\n",
    "    os.makedirs(output_dir)\n",
    "\n",
    "columns_to_iterate = ['frame_1', 'frame_2', 'frame_3']\n",
    "\n",
    "# Iterate through each column\n",
    "for column in columns_to_iterate:\n",
    "    # Create a directory for the current column if it doesn't exist\n",
    "    column_dir = os.path.join(output_dir, column)\n",
    "    if not os.path.exists(column_dir):\n",
    "        os.makedirs(column_dir)\n",
    "    \n",
    "    sarcastic = os.path.join(column_dir, 'sarcastic')    \n",
    "    not_sarcastic = os.path.join(column_dir, 'not_sarcastic')\n",
    "    if not os.path.exists(sarcastic):\n",
    "        os.makedirs(sarcastic)\n",
    "    if not os.path.exists(not_sarcastic):\n",
    "        os.makedirs(not_sarcastic)\n",
    "\n",
    "    for i in range(len(test_df)): \n",
    "        pixel_values = np.array(test_df[column][i].split(), dtype=np.uint8)\n",
    "        \n",
    "        # Reshape pixel values into image dimensions\n",
    "        image_array = pixel_values.reshape((48,48,1))\n",
    "        image_array = np.repeat(image_array, 3, axis=2)\n",
    "        \n",
    "        # Create a PIL Image object\n",
    "        image = Image.fromarray(image_array)\n",
    "\n",
    "        if train_df['sarcasm'][i] == True:\n",
    "            save_dir = sarcastic\n",
    "        else:\n",
    "            save_dir = not_sarcastic\n",
    "            \n",
    "        image.save(os.path.join(save_dir, f'image_{i}.png'))  # Assuming you want to save images as PNG files"
   ]
  },
  {
   "cell_type": "code",
   "execution_count": 177,
   "id": "b3daba0d-5f3f-4183-9978-29c3da92533e",
   "metadata": {},
   "outputs": [
    {
     "name": "stdout",
     "output_type": "stream",
     "text": [
      "Found 168 images belonging to 2 classes.\n",
      "Found 42 images belonging to 2 classes.\n"
     ]
    }
   ],
   "source": [
    "#Create generators\n",
    "train_datagen = ImageDataGenerator(\n",
    "    rescale=1./255,\n",
    "    rotation_range=20,\n",
    "    width_shift_range=0.2,\n",
    "    height_shift_range=0.2,\n",
    "    shear_range=0.2,\n",
    "    zoom_range=0.2,\n",
    "    horizontal_flip=True,\n",
    "    fill_mode='nearest'\n",
    ")\n",
    "\n",
    "train_generator_f1 = train_datagen.flow_from_directory(\n",
    "    'train_images/frame_1/',\n",
    "    target_size=(48,48),\n",
    "    batch_size=32,\n",
    "    class_mode='binary',\n",
    "    classes=['sarcastic', 'not_sarcastic']\n",
    ")\n",
    "\n",
    "test_datagen = ImageDataGenerator(rescale=1./255)\n",
    "\n",
    "test_generator_f1 = test_datagen.flow_from_directory(\n",
    "    'test_images/frame_1/',\n",
    "    target_size=(48, 48),\n",
    "    batch_size=32,\n",
    "    class_mode='binary',\n",
    "    classes=['sarcastic', 'not_sarcastic'],\n",
    "    shuffle=False\n",
    ")"
   ]
  },
  {
   "cell_type": "code",
   "execution_count": 268,
   "id": "c00c1d6f-e85c-413a-b295-c0a7c0ab9da4",
   "metadata": {
    "scrolled": false
   },
   "outputs": [
    {
     "name": "stdout",
     "output_type": "stream",
     "text": [
      "Epoch 1/15\n",
      "\u001b[1m6/6\u001b[0m \u001b[32m━━━━━━━━━━━━━━━━━━━━\u001b[0m\u001b[37m\u001b[0m \u001b[1m11s\u001b[0m 116ms/step - accuracy: 0.4989 - loss: 1.1558\n",
      "Epoch 2/15\n",
      "\u001b[1m6/6\u001b[0m \u001b[32m━━━━━━━━━━━━━━━━━━━━\u001b[0m\u001b[37m\u001b[0m \u001b[1m1s\u001b[0m 113ms/step - accuracy: 0.5221 - loss: 0.8462\n",
      "Epoch 3/15\n",
      "\u001b[1m6/6\u001b[0m \u001b[32m━━━━━━━━━━━━━━━━━━━━\u001b[0m\u001b[37m\u001b[0m \u001b[1m1s\u001b[0m 113ms/step - accuracy: 0.5011 - loss: 0.8439\n",
      "Epoch 4/15\n",
      "\u001b[1m6/6\u001b[0m \u001b[32m━━━━━━━━━━━━━━━━━━━━\u001b[0m\u001b[37m\u001b[0m \u001b[1m1s\u001b[0m 110ms/step - accuracy: 0.4555 - loss: 0.7578\n",
      "Epoch 5/15\n",
      "\u001b[1m6/6\u001b[0m \u001b[32m━━━━━━━━━━━━━━━━━━━━\u001b[0m\u001b[37m\u001b[0m \u001b[1m1s\u001b[0m 112ms/step - accuracy: 0.4903 - loss: 0.7074\n",
      "Epoch 6/15\n",
      "\u001b[1m6/6\u001b[0m \u001b[32m━━━━━━━━━━━━━━━━━━━━\u001b[0m\u001b[37m\u001b[0m \u001b[1m1s\u001b[0m 111ms/step - accuracy: 0.5268 - loss: 0.6932\n",
      "Epoch 7/15\n",
      "\u001b[1m6/6\u001b[0m \u001b[32m━━━━━━━━━━━━━━━━━━━━\u001b[0m\u001b[37m\u001b[0m \u001b[1m1s\u001b[0m 111ms/step - accuracy: 0.4149 - loss: 0.7419\n",
      "Epoch 8/15\n",
      "\u001b[1m6/6\u001b[0m \u001b[32m━━━━━━━━━━━━━━━━━━━━\u001b[0m\u001b[37m\u001b[0m \u001b[1m1s\u001b[0m 126ms/step - accuracy: 0.4613 - loss: 0.7065\n",
      "Epoch 9/15\n",
      "\u001b[1m6/6\u001b[0m \u001b[32m━━━━━━━━━━━━━━━━━━━━\u001b[0m\u001b[37m\u001b[0m \u001b[1m1s\u001b[0m 112ms/step - accuracy: 0.4780 - loss: 0.7108\n",
      "Epoch 10/15\n",
      "\u001b[1m6/6\u001b[0m \u001b[32m━━━━━━━━━━━━━━━━━━━━\u001b[0m\u001b[37m\u001b[0m \u001b[1m1s\u001b[0m 112ms/step - accuracy: 0.5049 - loss: 0.6928\n",
      "Epoch 11/15\n",
      "\u001b[1m6/6\u001b[0m \u001b[32m━━━━━━━━━━━━━━━━━━━━\u001b[0m\u001b[37m\u001b[0m \u001b[1m1s\u001b[0m 113ms/step - accuracy: 0.5539 - loss: 0.6805\n",
      "Epoch 12/15\n",
      "\u001b[1m6/6\u001b[0m \u001b[32m━━━━━━━━━━━━━━━━━━━━\u001b[0m\u001b[37m\u001b[0m \u001b[1m1s\u001b[0m 112ms/step - accuracy: 0.5509 - loss: 0.6912\n",
      "Epoch 13/15\n",
      "\u001b[1m6/6\u001b[0m \u001b[32m━━━━━━━━━━━━━━━━━━━━\u001b[0m\u001b[37m\u001b[0m \u001b[1m1s\u001b[0m 115ms/step - accuracy: 0.5044 - loss: 0.6998\n",
      "Epoch 14/15\n",
      "\u001b[1m6/6\u001b[0m \u001b[32m━━━━━━━━━━━━━━━━━━━━\u001b[0m\u001b[37m\u001b[0m \u001b[1m1s\u001b[0m 116ms/step - accuracy: 0.5535 - loss: 0.6761\n",
      "Epoch 15/15\n",
      "\u001b[1m6/6\u001b[0m \u001b[32m━━━━━━━━━━━━━━━━━━━━\u001b[0m\u001b[37m\u001b[0m \u001b[1m1s\u001b[0m 116ms/step - accuracy: 0.5042 - loss: 0.7516\n"
     ]
    }
   ],
   "source": [
    "# Training parameters\n",
    "n_epochs = 15\n",
    "\n",
    "# Load pre-trained ResNet50 model\n",
    "base_model = ResNet50(weights='imagenet', include_top=False, input_shape=(48,48, 3))\n",
    "\n",
    "# Add custom classifier layers on top of ResNet50\n",
    "x = base_model.output\n",
    "#x = GlobalAveragePooling2D()(x)\n",
    "x = Dense(128, activation='relu')(x)\n",
    "x = Flatten()(x)\n",
    "output = Dense(1, activation='sigmoid')(x)\n",
    "\n",
    "# Create the full model\n",
    "resnet_model = Model(inputs=base_model.input, outputs=output)\n",
    "\n",
    "# Freeze layers of the base model\n",
    "for layer in base_model.layers:\n",
    "    layer.trainable = False\n",
    "\n",
    "# Compile the model\n",
    "resnet_model.compile(optimizer='adam', loss='binary_crossentropy', metrics=['accuracy'])\n",
    "\n",
    "# Train the model (assumes you have train and validation generators)\n",
    "history = resnet_model.fit(train_generator_f1, epochs=n_epochs)"
   ]
  },
  {
   "cell_type": "code",
   "execution_count": 269,
   "id": "15823c77",
   "metadata": {},
   "outputs": [
    {
     "name": "stdout",
     "output_type": "stream",
     "text": [
      "\u001b[1m2/2\u001b[0m \u001b[32m━━━━━━━━━━━━━━━━━━━━\u001b[0m\u001b[37m\u001b[0m \u001b[1m2s\u001b[0m 54ms/step - accuracy: 0.5521 - loss: 0.7444\n",
      "Test Accuracy: 0.5\n"
     ]
    }
   ],
   "source": [
    "# Output the accuracy\n",
    "visual_loss, visual_accuracy = resnet_model.evaluate(test_generator_f1)\n",
    "\n",
    "print(\"Test Accuracy:\", visual_accuracy)"
   ]
  },
  {
   "cell_type": "code",
   "execution_count": 270,
   "id": "7e311a6f-e4f6-4f03-8c95-1b050623d0fe",
   "metadata": {},
   "outputs": [
    {
     "name": "stdout",
     "output_type": "stream",
     "text": [
      "\u001b[1m2/2\u001b[0m \u001b[32m━━━━━━━━━━━━━━━━━━━━\u001b[0m\u001b[37m\u001b[0m \u001b[1m3s\u001b[0m 1s/step\n",
      "[[0.4330354 ]\n",
      " [0.39406276]\n",
      " [0.4163922 ]\n",
      " [0.3912657 ]\n",
      " [0.28867936]\n",
      " [0.3317804 ]\n",
      " [0.2952386 ]\n",
      " [0.3811614 ]\n",
      " [0.41290456]\n",
      " [0.33862105]\n",
      " [0.37192866]\n",
      " [0.36472595]\n",
      " [0.3435161 ]\n",
      " [0.3008189 ]\n",
      " [0.38849577]\n",
      " [0.34688875]\n",
      " [0.39285776]\n",
      " [0.42293432]\n",
      " [0.3170371 ]\n",
      " [0.3956113 ]\n",
      " [0.41765776]\n",
      " [0.4394223 ]\n",
      " [0.39964882]\n",
      " [0.43145522]\n",
      " [0.30962002]\n",
      " [0.48261902]\n",
      " [0.37765548]\n",
      " [0.3308644 ]\n",
      " [0.37709007]\n",
      " [0.3381486 ]\n",
      " [0.34634233]\n",
      " [0.34898517]\n",
      " [0.44326177]\n",
      " [0.4152893 ]\n",
      " [0.39782146]\n",
      " [0.34124085]\n",
      " [0.37105373]\n",
      " [0.35397214]\n",
      " [0.44517228]\n",
      " [0.32544282]\n",
      " [0.3936471 ]\n",
      " [0.379196  ]]\n"
     ]
    }
   ],
   "source": [
    "# Perform inference on test images\n",
    "visual_predictions = resnet_model.predict(test_generator_f1)\n",
    "\n",
    "# Output the percentage that each image is sarcastic\n",
    "print(visual_predictions)"
   ]
  },
  {
   "cell_type": "markdown",
   "id": "2636b8c8",
   "metadata": {},
   "source": [
    "# Audio Classifier"
   ]
  },
  {
   "cell_type": "code",
   "execution_count": 180,
   "id": "85cd0606",
   "metadata": {},
   "outputs": [],
   "source": [
    "import os\n",
    "import numpy as np\n",
    "import librosa\n",
    "import librosa.display\n",
    "import matplotlib.pyplot as plt\n",
    "from tensorflow.keras.utils import to_categorical\n",
    "from IPython.display import Audio\n",
    "from skimage import color"
   ]
  },
  {
   "cell_type": "code",
   "execution_count": 181,
   "id": "2d953c3e-7a67-4b93-a48f-acf5498d2e8d",
   "metadata": {},
   "outputs": [],
   "source": [
    "#Sources: https://medium.com/@hasithsura/audio-classification-d37a82d6715\n",
    "         #https://github.com/jeffprosise/Deep-Learning/blob/master/Audio%20Classification%20(CNN).ipynb\n",
    "\n",
    "#Define helper functions\n",
    "max_audio_length = 10 #seconds\n",
    "\n",
    "def get_melspectrogram_db(file_path, sr=None, n_fft=2048, hop_length=512, n_mels=128, fmin=20, fmax=8300, top_db=80):\n",
    "  wav,sr = librosa.load(file_path,sr=sr)\n",
    "  if wav.shape[0]<max_audio_length*sr:\n",
    "    wav=np.pad(wav,int(np.ceil((max_audio_length*sr-wav.shape[0])/2)),mode='reflect') #pad audio by reflecting\n",
    "  else:\n",
    "    wav=wav[:max_audio_length*sr]\n",
    "  spec=librosa.feature.melspectrogram(y=wav, sr=sr, n_fft=n_fft, hop_length=hop_length,n_mels=n_mels,fmin=fmin,fmax=fmax)\n",
    "  spec_db=librosa.power_to_db(spec,top_db=top_db)\n",
    "  return spec_db\n",
    "\n",
    "def spec_to_image(spec, eps=1e-6):\n",
    "  mean = spec.mean()\n",
    "  std = spec.std()\n",
    "  spec_norm = (spec - mean) / (std + eps) #z score normalization\n",
    "  spec_min, spec_max = spec_norm.min(), spec_norm.max()\n",
    "  spec_scaled = 255 * (spec_norm - spec_min) / (spec_max - spec_min)\n",
    "  spec_scaled = spec_scaled.astype(np.uint8)\n",
    "  return spec_scaled"
   ]
  },
  {
   "cell_type": "code",
   "execution_count": 182,
   "id": "32638f14-7355-4a1e-8afa-a237313fd5d3",
   "metadata": {},
   "outputs": [],
   "source": [
    "#Convert .wav files to spectrogram images\n",
    "audio_dir = 'audio_data'\n",
    "\n",
    "def get_spec_images(filenames, directory):\n",
    "    spec_images = []\n",
    "    for filename in filenames:\n",
    "        if filename.endswith(\".wav\"):\n",
    "            file_path = os.path.join(directory, filename)\n",
    "            spectrogram = get_melspectrogram_db(file_path)\n",
    "            spec_image = spec_to_image(spectrogram)\n",
    "            spec_images.append(spec_image)\n",
    "    return spec_images\n",
    "\n",
    "train_spec_images = get_spec_images(train_df['tone'], audio_dir)\n",
    "train_spec_labels = train_df['sarcasm']\n",
    "\n",
    "test_spec_images = get_spec_images(test_df['tone'], audio_dir)\n",
    "test_spec_labels = test_df['sarcasm']"
   ]
  },
  {
   "cell_type": "code",
   "execution_count": 183,
   "id": "657a2f8c-46f5-4ae2-800b-f42f9046b62e",
   "metadata": {},
   "outputs": [],
   "source": [
    "#divide the pixel values by 255\n",
    "tone_train_norm = np.array(train_spec_images) \n",
    "tone_test_norm = np.array(test_spec_images)\n",
    "\n",
    "#one-hot-encode the labels\n",
    "tone_train_encoded = to_categorical(train_spec_labels)\n",
    "tone_test_encoded = to_categorical(test_spec_labels)"
   ]
  },
  {
   "cell_type": "code",
   "execution_count": 256,
   "id": "0c5fe4fc-d7e1-419d-8a36-e49f8c496e35",
   "metadata": {
    "scrolled": true
   },
   "outputs": [
    {
     "name": "stderr",
     "output_type": "stream",
     "text": [
      "/Users/alyssarusk/anaconda3/lib/python3.11/site-packages/keras/src/layers/convolutional/base_conv.py:99: UserWarning: Do not pass an `input_shape`/`input_dim` argument to a layer. When using Sequential models, prefer using an `Input(shape)` object as the first layer in the model instead.\n",
      "  super().__init__(\n"
     ]
    }
   ],
   "source": [
    "from keras.models import Sequential\n",
    "from keras.layers import Conv2D, MaxPooling2D\n",
    "from keras.layers import Flatten, Dense, BatchNormalization, Dropout\n",
    "\n",
    "#Build Model\n",
    "model = Sequential()\n",
    "model.add(Conv2D(32, (3, 3), activation='relu', input_shape=(128, 862, 1)))\n",
    "model.add(BatchNormalization())\n",
    "model.add(MaxPooling2D(2, 2))\n",
    "model.add(Conv2D(128, (3, 3), activation='relu'))\n",
    "model.add(BatchNormalization())\n",
    "model.add(MaxPooling2D(2, 2))\n",
    "model.add(Flatten())\n",
    "model.add(Dropout(0.25))\n",
    "model.add(Dense(64, activation='relu'))\n",
    "model.add(Dense(2, activation='sigmoid'))  # Output layer with 1 unit for binary classification\n",
    "\n",
    "model.compile(optimizer='adam', loss='binary_crossentropy', metrics=['accuracy'])\n",
    "#model.summary()"
   ]
  },
  {
   "cell_type": "code",
   "execution_count": 280,
   "id": "84c51f24-f206-47eb-88ee-5cd546883365",
   "metadata": {},
   "outputs": [
    {
     "name": "stdout",
     "output_type": "stream",
     "text": [
      "Epoch 1/10\n",
      "\u001b[1m14/14\u001b[0m \u001b[32m━━━━━━━━━━━━━━━━━━━━\u001b[0m\u001b[37m\u001b[0m \u001b[1m26s\u001b[0m 2s/step - accuracy: 0.9682 - loss: 0.0397 - val_accuracy: 0.5000 - val_loss: 84.5373\n",
      "Epoch 2/10\n",
      "\u001b[1m14/14\u001b[0m \u001b[32m━━━━━━━━━━━━━━━━━━━━\u001b[0m\u001b[37m\u001b[0m \u001b[1m25s\u001b[0m 2s/step - accuracy: 0.9872 - loss: 0.0292 - val_accuracy: 0.5882 - val_loss: 85.6781\n",
      "Epoch 3/10\n",
      "\u001b[1m14/14\u001b[0m \u001b[32m━━━━━━━━━━━━━━━━━━━━\u001b[0m\u001b[37m\u001b[0m \u001b[1m26s\u001b[0m 2s/step - accuracy: 0.9464 - loss: 0.0748 - val_accuracy: 0.5000 - val_loss: 85.4954\n",
      "Epoch 4/10\n",
      "\u001b[1m14/14\u001b[0m \u001b[32m━━━━━━━━━━━━━━━━━━━━\u001b[0m\u001b[37m\u001b[0m \u001b[1m26s\u001b[0m 2s/step - accuracy: 0.9671 - loss: 0.0839 - val_accuracy: 0.5588 - val_loss: 71.3670\n",
      "Epoch 5/10\n",
      "\u001b[1m14/14\u001b[0m \u001b[32m━━━━━━━━━━━━━━━━━━━━\u001b[0m\u001b[37m\u001b[0m \u001b[1m26s\u001b[0m 2s/step - accuracy: 0.9936 - loss: 0.0204 - val_accuracy: 0.5588 - val_loss: 70.4026\n",
      "Epoch 6/10\n",
      "\u001b[1m14/14\u001b[0m \u001b[32m━━━━━━━━━━━━━━━━━━━━\u001b[0m\u001b[37m\u001b[0m \u001b[1m26s\u001b[0m 2s/step - accuracy: 0.9674 - loss: 0.0297 - val_accuracy: 0.5588 - val_loss: 68.9232\n",
      "Epoch 7/10\n",
      "\u001b[1m14/14\u001b[0m \u001b[32m━━━━━━━━━━━━━━━━━━━━\u001b[0m\u001b[37m\u001b[0m \u001b[1m25s\u001b[0m 2s/step - accuracy: 0.9791 - loss: 0.0253 - val_accuracy: 0.5882 - val_loss: 67.7849\n",
      "Epoch 8/10\n",
      "\u001b[1m14/14\u001b[0m \u001b[32m━━━━━━━━━━━━━━━━━━━━\u001b[0m\u001b[37m\u001b[0m \u001b[1m25s\u001b[0m 2s/step - accuracy: 0.9659 - loss: 0.0306 - val_accuracy: 0.5882 - val_loss: 66.9324\n",
      "Epoch 9/10\n",
      "\u001b[1m14/14\u001b[0m \u001b[32m━━━━━━━━━━━━━━━━━━━━\u001b[0m\u001b[37m\u001b[0m \u001b[1m25s\u001b[0m 2s/step - accuracy: 0.9697 - loss: 0.0352 - val_accuracy: 0.5882 - val_loss: 66.6533\n",
      "Epoch 10/10\n",
      "\u001b[1m14/14\u001b[0m \u001b[32m━━━━━━━━━━━━━━━━━━━━\u001b[0m\u001b[37m\u001b[0m \u001b[1m25s\u001b[0m 2s/step - accuracy: 0.9783 - loss: 0.0245 - val_accuracy: 0.5882 - val_loss: 65.9346\n"
     ]
    }
   ],
   "source": [
    "batch = 10\n",
    "epochs = 10\n",
    "\n",
    "#Fit the model\n",
    "tone_model = model.fit(tone_train_norm, tone_train_encoded, batch_size=batch, epochs=epochs, validation_split = 0.2)"
   ]
  },
  {
   "cell_type": "code",
   "execution_count": 281,
   "id": "34c434ad-bdd8-42dd-a204-409b7ccbb298",
   "metadata": {},
   "outputs": [
    {
     "data": {
      "text/plain": [
       "[]"
      ]
     },
     "execution_count": 281,
     "metadata": {},
     "output_type": "execute_result"
    },
    {
     "data": {
      "image/png": "[encoded data removed]",
      "text/plain": [
       "<Figure size 640x480 with 1 Axes>"
      ]
     },
     "metadata": {},
     "output_type": "display_data"
    }
   ],
   "source": [
    "#Train and validation accuracy graph\n",
    "accuracy = tone_model.history['accuracy']\n",
    "validation_acc = tone_model.history['val_accuracy']\n",
    "epochs = range(1, len(accuracy) + 1)\n",
    "\n",
    "plt.plot(epochs, accuracy, '-', label='Training Accuracy')\n",
    "plt.plot(epochs, validation_acc, ':', label='Validation Accuracy')\n",
    "plt.title('Tone Model: Training and Validation Accuracy')\n",
    "plt.xlabel('Epoch')\n",
    "plt.ylabel('Accuracy')\n",
    "plt.legend(loc='lower right')\n",
    "plt.plot()"
   ]
  },
  {
   "cell_type": "code",
   "execution_count": 282,
   "id": "8e72fbff-66fd-44d4-b19b-9000dd9f6ac9",
   "metadata": {
    "scrolled": true
   },
   "outputs": [
    {
     "name": "stdout",
     "output_type": "stream",
     "text": [
      "\u001b[1m2/2\u001b[0m \u001b[32m━━━━━━━━━━━━━━━━━━━━\u001b[0m\u001b[37m\u001b[0m \u001b[1m1s\u001b[0m 275ms/step\n",
      "[0.         0.00000121 1.         0.         0.9996814  1.\n",
      " 0.9999993  0.5215616  0.7450821  0.97079015 1.         1.\n",
      " 1.         0.99999964 0.         1.         0.         0.99999976\n",
      " 0.         0.5215616  1.         0.5215616  0.00000253 0.\n",
      " 1.         0.30089545 0.00741203 0.         1.         0.994333\n",
      " 0.99999845 1.         1.         0.5215616  0.00025469 1.\n",
      " 0.00000811 0.5215616  0.5215616  0.9999954  1.         0.5215616 ]\n"
     ]
    }
   ],
   "source": [
    "#make predictions on test set\n",
    "tone_predictions = model.predict(tone_test_norm)\n",
    "\n",
    "#Filter to only positive class\n",
    "tone_predictions = tone_predictions[:, 1]\n",
    "print(tone_predictions)"
   ]
  },
  {
   "cell_type": "markdown",
   "id": "3dc3c534",
   "metadata": {},
   "source": [
    "# Text Classifer"
   ]
  },
  {
   "cell_type": "code",
   "execution_count": 189,
   "id": "4fcfd045",
   "metadata": {
    "scrolled": true
   },
   "outputs": [
    {
     "name": "stderr",
     "output_type": "stream",
     "text": [
      "All model checkpoint layers were used when initializing TFRobertaForSequenceClassification.\n",
      "\n",
      "Some layers of TFRobertaForSequenceClassification were not initialized from the model checkpoint at cardiffnlp/twitter-roberta-base-sentiment-latest and are newly initialized: ['classifier']\n",
      "You should probably TRAIN this model on a down-stream task to be able to use it for predictions and inference.\n"
     ]
    },
    {
     "name": "stdout",
     "output_type": "stream",
     "text": [
      "         video                                            frame_1  \\\n",
      "0    2_208.mp4  8 8 8 8 8 6 6 6 6 6 7 7 7 6 6 6 5 4 9 23 14 13...   \n",
      "1    2_575.mp4  8 8 6 3 8 12 14 33 44 58 54 24 37 29 35 38 38 ...   \n",
      "2    1_276.mp4  123 124 124 92 31 11 14 15 15 16 15 15 15 13 1...   \n",
      "3  1_10890.mp4  53 58 63 44 59 155 169 168 167 164 163 161 161...   \n",
      "4    2_514.mp4  72 97 132 169 162 136 81 155 191 175 194 195 2...   \n",
      "\n",
      "                                             frame_2  \\\n",
      "0  2 2 2 2 2 2 3 3 3 3 3 2 3 2 1 17 20 14 15 15 1...   \n",
      "1  2 1 5 15 20 19 13 30 49 33 23 32 33 29 24 29 2...   \n",
      "2  93 30 3 4 5 6 5 5 6 6 6 7 7 7 9 5 4 4 6 4 2 5 ...   \n",
      "3  59 57 33 59 70 39 40 46 148 166 161 163 164 16...   \n",
      "4  181 195 222 197 178 210 230 248 230 105 13 15 ...   \n",
      "\n",
      "                                             frame_3         tone  \\\n",
      "0  6 6 6 7 7 7 8 8 7 6 6 7 7 7 7 7 7 9 7 6 7 9 9 ...    2_208.wav   \n",
      "1  14 13 3 1 10 21 19 14 38 42 34 27 45 42 30 26 ...    2_575.wav   \n",
      "2  123 96 29 3 4 5 6 6 6 5 6 6 7 8 8 5 3 5 5 4 2 ...    1_276.wav   \n",
      "3  52 36 34 82 176 165 164 164 164 162 160 158 15...  1_10890.wav   \n",
      "4  40 40 40 40 40 41 41 41 41 40 40 41 40 40 38 3...    2_514.wav   \n",
      "\n",
      "                                                text  sarcasm sentiment  \\\n",
      "0                   It's that whole sensitive thing.    False  positive   \n",
      "1  Why? Because she can sing and play guitar and ...     True  positive   \n",
      "2  Yeah, my parents felt that naming me Leonard a...     True  positive   \n",
      "3  Boy, when you met Bernadette, the field of rob...     True   neutral   \n",
      "4        What's going on?!  That's what's going on!!    False  positive   \n",
      "\n",
      "   sentiment_score  \n",
      "0           0.3540  \n",
      "1           0.3927  \n",
      "2           0.3784  \n",
      "3           0.3688  \n",
      "4           0.3665  \n",
      "         video                                            frame_1  \\\n",
      "0   1_1001.mp4  125 126 126 126 126 126 126 126 126 127 126 12...   \n",
      "1  1_11699.mp4  66 80 78 77 73 34 25 51 66 61 71 77 60 63 59 4...   \n",
      "2   1_2216.mp4  32 29 23 18 20 21 21 19 19 20 22 23 22 19 14 1...   \n",
      "3    1_410.mp4  179 180 178 177 177 168 111 82 86 95 98 84 76 ...   \n",
      "4     2_53.mp4  11 5 12 23 22 21 21 23 24 29 31 29 27 27 23 20...   \n",
      "\n",
      "                                             frame_2  \\\n",
      "0  125 126 126 126 126 126 126 127 127 126 126 12...   \n",
      "1  32 52 74 78 78 74 64 25 29 42 63 64 68 68 53 6...   \n",
      "2  17 17 17 16 15 16 17 19 19 16 13 11 9 8 7 7 8 ...   \n",
      "3  179 178 177 176 143 86 84 90 99 91 79 76 75 75...   \n",
      "4  29 25 16 16 8 14 70 82 25 9 11 13 16 21 27 28 ...   \n",
      "\n",
      "                                             frame_3         tone  \\\n",
      "0  125 126 126 126 126 125 124 124 124 125 125 12...   1_1001.wav   \n",
      "1  77 74 75 76 85 43 20 27 45 48 55 57 56 61 61 5...  1_11699.wav   \n",
      "2  125 122 122 126 129 129 124 78 44 35 33 34 34 ...   1_2216.wav   \n",
      "3  83 86 93 97 85 78 76 76 76 75 76 76 80 88 100 ...    1_410.wav   \n",
      "4  8 53 92 52 9 17 20 20 24 27 30 32 32 32 32 31 ...     2_53.wav   \n",
      "\n",
      "                                                text  sarcasm sentiment  \\\n",
      "0     What else? Sell it on eBay as \"slightly used.\"    False  positive   \n",
      "1  No, Stuart picked out those throw pillows all ...     True  positive   \n",
      "2  Excuse me, but what about me? Why don't I get ...    False  positive   \n",
      "3  Leonard, may I present, live from New Delhi, D...    False  positive   \n",
      "4     You're gonna have to tell me how you did that.    False  positive   \n",
      "\n",
      "   sentiment_score  \n",
      "0           0.4103  \n",
      "1           0.3844  \n",
      "2           0.3750  \n",
      "3           0.4488  \n",
      "4           0.3663  \n"
     ]
    }
   ],
   "source": [
    "# Load sentiment classifier\n",
    "MODEL = \"cardiffnlp/twitter-roberta-base-sentiment-latest\"\n",
    "tokenizer = AutoTokenizer.from_pretrained(MODEL)\n",
    "config = AutoConfig.from_pretrained(MODEL)\n",
    "model = TFAutoModelForSequenceClassification.from_pretrained(MODEL)\n",
    "\n",
    "# Classify text and add sentiment and score columns to DataFrame\n",
    "def classify_text(row):\n",
    "    text = row['text']\n",
    "    encoded_input = tokenizer(text, return_tensors='tf')\n",
    "    output = model(**encoded_input)\n",
    "    scores = output[0][0].numpy()  # Convert TensorFlow tensor to NumPy array\n",
    "    scores = softmax(scores)\n",
    "    ranking = np.argsort(scores)[::-1]\n",
    "    l = config.id2label[ranking[0]]  # Take the label with highest score\n",
    "    s = np.round(float(scores[ranking[0]]), 4)\n",
    "    return pd.Series({'sentiment': l, 'score': s})\n",
    "\n",
    "# Apply classifier to each row in the DataFrame\n",
    "train_df[['sentiment', 'sentiment_score']] = train_df.apply(classify_text, axis=1)\n",
    "test_df[['sentiment', 'sentiment_score']] = test_df.apply(classify_text, axis=1)\n",
    "\n",
    "# Display the DataFrame with new columns\n",
    "print(train_df.head())\n",
    "print(test_df.head())"
   ]
  },
  {
   "cell_type": "code",
   "execution_count": 190,
   "id": "3c44c85d",
   "metadata": {},
   "outputs": [],
   "source": [
    "# Encode labels\n",
    "label_encoder = LabelEncoder()\n",
    "train_df['sarcasm_encoded'] = label_encoder.fit_transform(train_df['sarcasm'])\n",
    "test_df['sarcasm_encoded'] = label_encoder.fit_transform(test_df['sarcasm'])\n",
    "\n",
    "# Text preprocessing\n",
    "tfidf_vectorizer = TfidfVectorizer(max_features=1000)\n",
    "X_text_train = tfidf_vectorizer.fit_transform(train_df['text']).toarray()\n",
    "X_text_test = tfidf_vectorizer.transform(test_df['text']).toarray()\n",
    "\n",
    "# Convert sentiment labels to numerical values\n",
    "sentiment_mapping = {'positive': 2, 'neutral': 1, 'negative': 0}\n",
    "train_df['sentiment_encoded'] = train_df['sentiment'].map(sentiment_mapping)\n",
    "test_df['sentiment_encoded'] = test_df['sentiment'].map(sentiment_mapping)\n",
    "\n",
    "# Combine text features with sentiment scores\n",
    "X_train = np.concatenate((X_text_train, train_df[['sentiment_encoded', 'sentiment_score']].values), axis=1)\n",
    "y_train = train_df['sarcasm_encoded']\n",
    "X_test = np.concatenate((X_text_test, test_df[['sentiment_encoded', 'sentiment_score']].values), axis=1)\n",
    "y_test = test_df['sarcasm_encoded']"
   ]
  },
  {
   "cell_type": "code",
   "execution_count": 229,
   "id": "b4984999",
   "metadata": {
    "scrolled": true
   },
   "outputs": [
    {
     "name": "stdout",
     "output_type": "stream",
     "text": [
      "Epoch 1/12\n",
      "\u001b[1m9/9\u001b[0m \u001b[32m━━━━━━━━━━━━━━━━━━━━\u001b[0m\u001b[37m\u001b[0m \u001b[1m1s\u001b[0m 18ms/step - accuracy: 0.4333 - loss: 0.6971 - val_accuracy: 0.5000 - val_loss: 0.6921\n",
      "Epoch 2/12\n",
      "\u001b[1m9/9\u001b[0m \u001b[32m━━━━━━━━━━━━━━━━━━━━\u001b[0m\u001b[37m\u001b[0m \u001b[1m0s\u001b[0m 6ms/step - accuracy: 0.6590 - loss: 0.6826 - val_accuracy: 0.5000 - val_loss: 0.6923\n",
      "Epoch 3/12\n",
      "\u001b[1m9/9\u001b[0m \u001b[32m━━━━━━━━━━━━━━━━━━━━\u001b[0m\u001b[37m\u001b[0m \u001b[1m0s\u001b[0m 5ms/step - accuracy: 0.6610 - loss: 0.6722 - val_accuracy: 0.5000 - val_loss: 0.6900\n",
      "Epoch 4/12\n",
      "\u001b[1m9/9\u001b[0m \u001b[32m━━━━━━━━━━━━━━━━━━━━\u001b[0m\u001b[37m\u001b[0m \u001b[1m0s\u001b[0m 5ms/step - accuracy: 0.7188 - loss: 0.6584 - val_accuracy: 0.5000 - val_loss: 0.6882\n",
      "Epoch 5/12\n",
      "\u001b[1m9/9\u001b[0m \u001b[32m━━━━━━━━━━━━━━━━━━━━\u001b[0m\u001b[37m\u001b[0m \u001b[1m0s\u001b[0m 6ms/step - accuracy: 0.8258 - loss: 0.6318 - val_accuracy: 0.5000 - val_loss: 0.6850\n",
      "Epoch 6/12\n",
      "\u001b[1m9/9\u001b[0m \u001b[32m━━━━━━━━━━━━━━━━━━━━\u001b[0m\u001b[37m\u001b[0m \u001b[1m0s\u001b[0m 6ms/step - accuracy: 0.8342 - loss: 0.5838 - val_accuracy: 0.5588 - val_loss: 0.6799\n",
      "Epoch 7/12\n",
      "\u001b[1m9/9\u001b[0m \u001b[32m━━━━━━━━━━━━━━━━━━━━\u001b[0m\u001b[37m\u001b[0m \u001b[1m0s\u001b[0m 4ms/step - accuracy: 0.9210 - loss: 0.5386 - val_accuracy: 0.6471 - val_loss: 0.6682\n",
      "Epoch 8/12\n",
      "\u001b[1m9/9\u001b[0m \u001b[32m━━━━━━━━━━━━━━━━━━━━\u001b[0m\u001b[37m\u001b[0m \u001b[1m0s\u001b[0m 5ms/step - accuracy: 0.8936 - loss: 0.4962 - val_accuracy: 0.6471 - val_loss: 0.6537\n",
      "Epoch 9/12\n",
      "\u001b[1m9/9\u001b[0m \u001b[32m━━━━━━━━━━━━━━━━━━━━\u001b[0m\u001b[37m\u001b[0m \u001b[1m0s\u001b[0m 5ms/step - accuracy: 0.9882 - loss: 0.4086 - val_accuracy: 0.6176 - val_loss: 0.6607\n",
      "Epoch 10/12\n",
      "\u001b[1m9/9\u001b[0m \u001b[32m━━━━━━━━━━━━━━━━━━━━\u001b[0m\u001b[37m\u001b[0m \u001b[1m0s\u001b[0m 5ms/step - accuracy: 0.9392 - loss: 0.3587 - val_accuracy: 0.6471 - val_loss: 0.6339\n",
      "Epoch 11/12\n",
      "\u001b[1m9/9\u001b[0m \u001b[32m━━━━━━━━━━━━━━━━━━━━\u001b[0m\u001b[37m\u001b[0m \u001b[1m0s\u001b[0m 5ms/step - accuracy: 0.9977 - loss: 0.2231 - val_accuracy: 0.6765 - val_loss: 0.6211\n",
      "Epoch 12/12\n",
      "\u001b[1m9/9\u001b[0m \u001b[32m━━━━━━━━━━━━━━━━━━━━\u001b[0m\u001b[37m\u001b[0m \u001b[1m0s\u001b[0m 4ms/step - accuracy: 0.9956 - loss: 0.1686 - val_accuracy: 0.6471 - val_loss: 0.6249\n",
      "\u001b[1m2/2\u001b[0m \u001b[32m━━━━━━━━━━━━━━━━━━━━\u001b[0m\u001b[37m\u001b[0m \u001b[1m0s\u001b[0m 3ms/step - accuracy: 0.8209 - loss: 0.5470 \n",
      "Test Loss: 0.5860314965248108, Test Accuracy: 0.8095238208770752\n"
     ]
    }
   ],
   "source": [
    "# Training parameters\n",
    "n_epochs = 12\n",
    "n_batch = 15\n",
    "\n",
    "# Define neural network architecture\n",
    "text_model = Sequential([\n",
    "    Dense(128, input_dim=X_train.shape[1], activation='relu'),\n",
    "    Dropout(0.25),\n",
    "    Dense(64, activation='relu'),\n",
    "    Dense(1, activation='sigmoid')\n",
    "])\n",
    "\n",
    "# Compile the model\n",
    "text_model.compile(loss='binary_crossentropy', optimizer='adam', metrics=['accuracy'])\n",
    "\n",
    "# Train the model\n",
    "text_model.fit(X_train, y_train, batch_size=n_batch, epochs=n_epochs, validation_split=0.2)\n",
    "\n",
    "# Evaluate the model\n",
    "loss, accuracy = text_model.evaluate(X_test, y_test)\n",
    "print(f'Test Loss: {loss}, Test Accuracy: {accuracy}')"
   ]
  },
  {
   "cell_type": "code",
   "execution_count": 230,
   "id": "9c44a304",
   "metadata": {},
   "outputs": [
    {
     "name": "stdout",
     "output_type": "stream",
     "text": [
      "\u001b[1m2/2\u001b[0m \u001b[32m━━━━━━━━━━━━━━━━━━━━\u001b[0m\u001b[37m\u001b[0m \u001b[1m0s\u001b[0m 40ms/step\n",
      "Predicted Values:\n",
      "[[0.12423987]\n",
      " [0.55440605]\n",
      " [0.06213046]\n",
      " [0.44066164]\n",
      " [0.10083725]\n",
      " [0.14536971]\n",
      " [0.8453981 ]\n",
      " [0.7780986 ]\n",
      " [0.85866857]\n",
      " [0.644979  ]\n",
      " [0.7551504 ]\n",
      " [0.87612563]\n",
      " [0.11747026]\n",
      " [0.5832753 ]\n",
      " [0.40234897]\n",
      " [0.6941849 ]\n",
      " [0.08445968]\n",
      " [0.3551767 ]\n",
      " [0.8291593 ]\n",
      " [0.880513  ]\n",
      " [0.597042  ]\n",
      " [0.7924217 ]\n",
      " [0.17102493]\n",
      " [0.21549147]\n",
      " [0.4456974 ]\n",
      " [0.24408484]\n",
      " [0.18881975]\n",
      " [0.14323899]\n",
      " [0.6577657 ]\n",
      " [0.07146921]\n",
      " [0.10754871]\n",
      " [0.86518717]\n",
      " [0.87358457]\n",
      " [0.5205922 ]\n",
      " [0.16861333]\n",
      " [0.25353622]\n",
      " [0.5501936 ]\n",
      " [0.80802315]\n",
      " [0.876548  ]\n",
      " [0.11576378]\n",
      " [0.2976467 ]\n",
      " [0.27024826]]\n"
     ]
    }
   ],
   "source": [
    "# Predict values for the test set\n",
    "text_predictions = text_model.predict(X_test)\n",
    "\n",
    "# Predicted values are the percentage chance that the sample is sarcastic\n",
    "print(\"Predicted Values:\")\n",
    "print(text_predictions)"
   ]
  },
  {
   "cell_type": "markdown",
   "id": "2efe38f9",
   "metadata": {},
   "source": [
    "# Sarcasm Detection Model Using Late Fusion"
   ]
  },
  {
   "cell_type": "code",
   "execution_count": 308,
   "id": "c56caee8",
   "metadata": {},
   "outputs": [
    {
     "data": {
      "image/png": "[encoded data removed]",
      "text/plain": [
       "<Figure size 640x480 with 2 Axes>"
      ]
     },
     "metadata": {},
     "output_type": "display_data"
    },
    {
     "name": "stdout",
     "output_type": "stream",
     "text": [
      "Statistics:\n",
      "               precision    recall  f1-score   support\n",
      "\n",
      "Not Sarcastic       0.76      0.80      0.78        20\n",
      "    Sarcastic       0.81      0.77      0.79        22\n",
      "\n",
      "     accuracy                           0.79        42\n",
      "    macro avg       0.79      0.79      0.79        42\n",
      " weighted avg       0.79      0.79      0.79        42\n",
      "\n"
     ]
    }
   ],
   "source": [
    "# Weights\n",
    "w_visual = 0.30\n",
    "w_tone = 0.35\n",
    "w_text = 0.35\n",
    "\n",
    "# Value threshold - 50%\n",
    "threshold = 0.50\n",
    "\n",
    "num_rows = len(tone_predictions)\n",
    "\n",
    "# Initialize lists to store the combined scores and predicted values\n",
    "combined_scores = []\n",
    "predicted_values = []\n",
    "real_values = []\n",
    "\n",
    "# Calculate combined scores and predicted values\n",
    "for i in range(num_rows):\n",
    "    combined_score = (w_tone * tone_predictions[i]) + (w_text * text_predictions[i]) + (w_visual * visual_predictions[i])\n",
    "    combined_scores.append(combined_score)\n",
    "    \n",
    "    # Store the label value for that row, True if above the threshold\n",
    "    predicted_value = combined_score > threshold\n",
    "    predicted_values.append(predicted_value)\n",
    "    \n",
    "\n",
    "\n",
    "# Create a DataFrame to store the results\n",
    "results_df = pd.DataFrame({\n",
    "    'combined_score': combined_scores,\n",
    "    'predicted_value': [item for sublist in predicted_values for item in sublist],\n",
    "    'real_value': test_df['sarcasm']\n",
    "})\n",
    "\n",
    "# print(results_df)\n",
    "\n",
    "# Create and display confusion matrix\n",
    "cm = confusion_matrix(results_df['real_value'].astype(int), results_df['predicted_value'].astype(int))\n",
    "disp = ConfusionMatrixDisplay(confusion_matrix=cm, display_labels=['Not Sarcastic', 'Sarcastic'])\n",
    "disp.plot()\n",
    "plt.show()\n",
    "\n",
    "# Create and display statistics\n",
    "report = classification_report(results_df['real_value'].astype(int), results_df['predicted_value'].astype(int), target_names=['Not Sarcastic', 'Sarcastic'])\n",
    "\n",
    "print(\"Statistics:\")\n",
    "print(report)"
   ]
  },
  {
   "cell_type": "code",
   "execution_count": null,
   "id": "b466461f",
   "metadata": {},
   "outputs": [],
   "source": []
  }
 ],
 "metadata": {
  "kernelspec": {
   "display_name": "Python 3 (ipykernel)",
   "language": "python",
   "name": "python3"
  },
  "language_info": {
   "codemirror_mode": {
    "name": "ipython",
    "version": 3
   },
   "file_extension": ".py",
   "mimetype": "text/x-python",
   "name": "python",
   "nbconvert_exporter": "python",
   "pygments_lexer": "ipython3",
   "version": "3.11.5"
  }
 },
 "nbformat": 4,
 "nbformat_minor": 5
}
