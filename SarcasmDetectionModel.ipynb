{
 "cells": [
  {
   "cell_type": "markdown",
   "id": "69b07888",
   "metadata": {},
   "source": [
    "# Load Data"
   ]
  },
  {
   "cell_type": "code",
   "execution_count": 3,
   "id": "7dbf0ec1",
   "metadata": {},
   "outputs": [],
   "source": [
    "# Libraries\n",
    "import pandas as pd\n",
    "from sklearn.model_selection import train_test_split"
   ]
  },
  {
   "cell_type": "code",
   "execution_count": 4,
   "id": "ae89ce08",
   "metadata": {},
   "outputs": [],
   "source": [
    "# Loading data from csv\n",
    "df = pd.read_csv('Sarcasm_Model_Dataset.csv')\n",
    "df.head()\n",
    "\n",
    "# Splitting data into test and train (80:20 split)\n",
    "train_df, test_df = train_test_split(df, test_size=0.2, random_state=0)"
   ]
  },
  {
   "cell_type": "markdown",
   "id": "e565479f",
   "metadata": {},
   "source": [
    "# Frame Classifier"
   ]
  },
  {
   "cell_type": "code",
   "execution_count": null,
   "id": "400fbb0f",
   "metadata": {},
   "outputs": [],
   "source": []
  },
  {
   "cell_type": "markdown",
   "id": "aab045af",
   "metadata": {},
   "source": [
    "# Audio Classifier"
   ]
  },
  {
   "cell_type": "code",
   "execution_count": 60,
   "id": "b7d561d1",
   "metadata": {},
   "outputs": [
    {
     "data": {
      "text/html": [
       "<div>\n",
       "<style scoped>\n",
       "    .dataframe tbody tr th:only-of-type {\n",
       "        vertical-align: middle;\n",
       "    }\n",
       "\n",
       "    .dataframe tbody tr th {\n",
       "        vertical-align: top;\n",
       "    }\n",
       "\n",
       "    .dataframe thead th {\n",
       "        text-align: right;\n",
       "    }\n",
       "</style>\n",
       "<table border=\"1\" class=\"dataframe\">\n",
       "  <thead>\n",
       "    <tr style=\"text-align: right;\">\n",
       "      <th></th>\n",
       "      <th>tone</th>\n",
       "      <th>sarcasm</th>\n",
       "    </tr>\n",
       "  </thead>\n",
       "  <tbody>\n",
       "    <tr>\n",
       "      <th>12</th>\n",
       "      <td>1_1001.wav</td>\n",
       "      <td>False</td>\n",
       "    </tr>\n",
       "    <tr>\n",
       "      <th>80</th>\n",
       "      <td>1_11699.wav</td>\n",
       "      <td>True</td>\n",
       "    </tr>\n",
       "    <tr>\n",
       "      <th>33</th>\n",
       "      <td>1_2216.wav</td>\n",
       "      <td>False</td>\n",
       "    </tr>\n",
       "    <tr>\n",
       "      <th>5</th>\n",
       "      <td>1_410.wav</td>\n",
       "      <td>False</td>\n",
       "    </tr>\n",
       "    <tr>\n",
       "      <th>188</th>\n",
       "      <td>2_53.wav</td>\n",
       "      <td>False</td>\n",
       "    </tr>\n",
       "  </tbody>\n",
       "</table>\n",
       "</div>"
      ],
      "text/plain": [
       "            tone  sarcasm\n",
       "12    1_1001.wav    False\n",
       "80   1_11699.wav     True\n",
       "33    1_2216.wav    False\n",
       "5      1_410.wav    False\n",
       "188     2_53.wav    False"
      ]
     },
     "execution_count": 60,
     "metadata": {},
     "output_type": "execute_result"
    }
   ],
   "source": [
    "import os\n",
    "import numpy as np\n",
    "import librosa\n",
    "import librosa.display\n",
    "import matplotlib.pyplot as plt\n",
    "from tensorflow.keras.utils import to_categorical\n",
    "from IPython.display import Audio\n",
    "from skimage import color\n",
    "\n",
    "#Extract relevant columns\n",
    "train_tone_df = train_df[['tone', 'sarcasm']]\n",
    "train_tone_df.head()\n",
    "test_tone_df = test_df[['tone', 'sarcasm']]\n",
    "test_tone_df.head()"
   ]
  },
  {
   "cell_type": "code",
   "execution_count": 79,
   "id": "2d953c3e-7a67-4b93-a48f-acf5498d2e8d",
   "metadata": {},
   "outputs": [],
   "source": [
    "#Define helper functions\n",
    "#https://medium.com/@hasithsura/audio-classification-d37a82d6715\n",
    "#https://github.com/jeffprosise/Deep-Learning/blob/master/Audio%20Classification%20(CNN).ipynb\n",
    "def get_melspectrogram_db(file_path, sr=None, n_fft=2048, hop_length=512, n_mels=128, fmin=20, fmax=8300, top_db=80):\n",
    "  wav,sr = librosa.load(file_path,sr=sr)\n",
    "  if wav.shape[0]<10*sr:\n",
    "    wav=np.pad(wav,int(np.ceil((10*sr-wav.shape[0])/2)),mode='reflect')\n",
    "  else:\n",
    "    wav=wav[:10*sr]\n",
    "  spec=librosa.feature.melspectrogram(y=wav, sr=sr, n_fft=n_fft, hop_length=hop_length,n_mels=n_mels,fmin=fmin,fmax=fmax)\n",
    "  spec_db=librosa.power_to_db(spec,top_db=top_db)\n",
    "  return spec_db\n",
    "\n",
    "def spec_to_image(spec, eps=1e-6):\n",
    "  mean = spec.mean()\n",
    "  std = spec.std()\n",
    "  spec_norm = (spec - mean) / (std + eps) #z score normalization\n",
    "  spec_min, spec_max = spec_norm.min(), spec_norm.max()\n",
    "  spec_scaled = 255 * (spec_norm - spec_min) / (spec_max - spec_min)\n",
    "  spec_scaled = spec_scaled.astype(np.uint8)\n",
    "  return spec_scaled"
   ]
  },
  {
   "cell_type": "code",
   "execution_count": 80,
   "id": "32638f14-7355-4a1e-8afa-a237313fd5d3",
   "metadata": {},
   "outputs": [],
   "source": [
    "#Convert .wav files to spectrogram images\n",
    "audio_dir = 'audio_data'\n",
    "\n",
    "def get_spec_images(filenames, directory):\n",
    "    spec_images = []\n",
    "    for filename in filenames:\n",
    "        if filename.endswith(\".wav\"):\n",
    "            file_path = os.path.join(directory, filename)\n",
    "            spectrogram = get_melspectrogram_db(file_path)\n",
    "            spec_image = spec_to_image(spectrogram)\n",
    "            spec_images.append(spec_image)\n",
    "    return spec_images\n",
    "\n",
    "train_spec_images = get_spec_images(train_df['tone'], audio_dir)\n",
    "train_spec_labels = train_tone_df['sarcasm']\n",
    "\n",
    "test_spec_images = get_spec_images(test_df['tone'], audio_dir)\n",
    "test_spec_labels = test_tone_df['sarcasm']"
   ]
  },
  {
   "cell_type": "code",
   "execution_count": 120,
   "id": "657a2f8c-46f5-4ae2-800b-f42f9046b62e",
   "metadata": {},
   "outputs": [],
   "source": [
    "#divide the pixel values by 255\n",
    "tone_train_norm = np.array(train_spec_images) \n",
    "tone_test_norm = np.array(test_spec_images)\n",
    "\n",
    "#one-hot-encode the labels\n",
    "tone_train_encoded = to_categorical(train_spec_labels)\n",
    "tone_test_encoded = to_categorical(test_spec_labels)"
   ]
  },
  {
   "cell_type": "code",
   "execution_count": 146,
   "id": "0c5fe4fc-d7e1-419d-8a36-e49f8c496e35",
   "metadata": {
    "scrolled": true
   },
   "outputs": [],
   "source": [
    "from keras.models import Sequential\n",
    "from keras.layers import Conv2D, MaxPooling2D\n",
    "from keras.layers import Flatten, Dense, BatchNormalization, Dropout\n",
    "\n",
    "#Build Model\n",
    "model = Sequential()\n",
    "model.add(Conv2D(32, (3, 3), activation='relu', input_shape=(128, 862, 1)))\n",
    "model.add(BatchNormalization())\n",
    "model.add(MaxPooling2D(2, 2))\n",
    "model.add(Conv2D(128, (3, 3), activation='relu'))\n",
    "model.add(BatchNormalization())\n",
    "model.add(MaxPooling2D(2, 2))\n",
    "model.add(Flatten())\n",
    "model.add(Dropout(0.25))\n",
    "model.add(Dense(64, activation='relu'))\n",
    "model.add(Dense(2, activation='sigmoid'))  # Output layer with 1 unit for binary classification\n",
    "\n",
    "model.compile(optimizer='adam', loss='binary_crossentropy', metrics=['accuracy'])\n",
    "#model.summary()"
   ]
  },
  {
   "cell_type": "code",
   "execution_count": 150,
   "id": "84c51f24-f206-47eb-88ee-5cd546883365",
   "metadata": {},
   "outputs": [
    {
     "name": "stdout",
     "output_type": "stream",
     "text": [
      "Epoch 1/15\n",
      "27/27 [==============================] - 31s 1s/step - loss: 0.5155 - accuracy: 0.6642 - val_loss: 0.5693 - val_accuracy: 0.6176\n",
      "Epoch 2/15\n",
      "27/27 [==============================] - 31s 1s/step - loss: 0.5214 - accuracy: 0.6642 - val_loss: 0.5693 - val_accuracy: 0.6176\n",
      "Epoch 3/15\n",
      "27/27 [==============================] - 31s 1s/step - loss: 0.7340 - accuracy: 0.6418 - val_loss: 0.8504 - val_accuracy: 0.5882\n",
      "Epoch 4/15\n",
      "27/27 [==============================] - 31s 1s/step - loss: 0.5522 - accuracy: 0.6269 - val_loss: 1.2833 - val_accuracy: 0.5882\n",
      "Epoch 5/15\n",
      "27/27 [==============================] - 30s 1s/step - loss: 0.5533 - accuracy: 0.6194 - val_loss: 0.8744 - val_accuracy: 0.5882\n",
      "Epoch 6/15\n",
      "27/27 [==============================] - 30s 1s/step - loss: 0.5700 - accuracy: 0.5970 - val_loss: 0.8236 - val_accuracy: 0.5882\n",
      "Epoch 7/15\n",
      "27/27 [==============================] - 30s 1s/step - loss: 0.5509 - accuracy: 0.6269 - val_loss: 1.4978 - val_accuracy: 0.5588\n",
      "Epoch 8/15\n",
      "27/27 [==============================] - 31s 1s/step - loss: 0.5469 - accuracy: 0.6343 - val_loss: 1.3987 - val_accuracy: 0.5588\n",
      "Epoch 9/15\n",
      "27/27 [==============================] - 31s 1s/step - loss: 0.5473 - accuracy: 0.6269 - val_loss: 0.7786 - val_accuracy: 0.5882\n",
      "Epoch 10/15\n",
      "27/27 [==============================] - 30s 1s/step - loss: 0.5839 - accuracy: 0.6418 - val_loss: 0.6433 - val_accuracy: 0.5588\n",
      "Epoch 11/15\n",
      "27/27 [==============================] - 30s 1s/step - loss: 0.5480 - accuracy: 0.6269 - val_loss: 0.7052 - val_accuracy: 0.5588\n",
      "Epoch 12/15\n",
      "27/27 [==============================] - 30s 1s/step - loss: 0.5477 - accuracy: 0.6269 - val_loss: 0.7228 - val_accuracy: 0.5882\n",
      "Epoch 13/15\n",
      "27/27 [==============================] - 30s 1s/step - loss: 0.5471 - accuracy: 0.6269 - val_loss: 1.2176 - val_accuracy: 0.5588\n",
      "Epoch 14/15\n",
      "27/27 [==============================] - 30s 1s/step - loss: 0.5370 - accuracy: 0.6343 - val_loss: 0.9324 - val_accuracy: 0.5588\n",
      "Epoch 15/15\n",
      "27/27 [==============================] - 31s 1s/step - loss: 0.5376 - accuracy: 0.6418 - val_loss: 0.7478 - val_accuracy: 0.6176\n"
     ]
    }
   ],
   "source": [
    "batch = 5\n",
    "epochs = 15\n",
    "\n",
    "#Fit the model\n",
    "tone_model = model.fit(tone_train_norm, tone_train_encoded, batch_size=batch, epochs=epochs, validation_split = 0.2)"
   ]
  },
  {
   "cell_type": "code",
   "execution_count": 152,
   "id": "34c434ad-bdd8-42dd-a204-409b7ccbb298",
   "metadata": {},
   "outputs": [
    {
     "data": {
      "text/plain": [
       "[]"
      ]
     },
     "execution_count": 152,
     "metadata": {},
     "output_type": "execute_result"
    },
    {
     "data": {
      "image/png": "[encoded data removed]",
      "text/plain": [
       "<Figure size 640x480 with 1 Axes>"
      ]
     },
     "metadata": {},
     "output_type": "display_data"
    }
   ],
   "source": [
    "accuracy = tone_model.history['accuracy']\n",
    "validation_acc = tone_model.history['val_accuracy']\n",
    "epochs = range(1, len(accuracy) + 1)\n",
    "\n",
    "plt.plot(epochs, accuracy, '-', label='Training Accuracy')\n",
    "plt.plot(epochs, validation_acc, ':', label='Validation Accuracy')\n",
    "plt.title('Tone Model: Training and Validation Accuracy')\n",
    "plt.xlabel('Epoch')\n",
    "plt.ylabel('Accuracy')\n",
    "plt.legend(loc='lower right')\n",
    "plt.plot()"
   ]
  },
  {
   "cell_type": "code",
   "execution_count": 175,
   "id": "8e72fbff-66fd-44d4-b19b-9000dd9f6ac9",
   "metadata": {},
   "outputs": [
    {
     "name": "stdout",
     "output_type": "stream",
     "text": [
      "2/2 [==============================] - 1s 281ms/step\n"
     ]
    }
   ],
   "source": [
    "predictions = model.predict(tone_test_norm)\n",
    "\n",
    "#Filter to only positive class\n",
    "tone_predictions = predictions[:, 1]"
   ]
  },
  {
   "cell_type": "code",
   "execution_count": 170,
   "id": "9a2c9134-c413-4b6b-a6ad-cc780521e454",
   "metadata": {},
   "outputs": [
    {
     "name": "stdout",
     "output_type": "stream",
     "text": [
      "<class 'numpy.ndarray'>\n"
     ]
    }
   ],
   "source": []
  },
  {
   "cell_type": "markdown",
   "id": "faffdaf3",
   "metadata": {},
   "source": [
    "# Text Classifer"
   ]
  },
  {
   "cell_type": "code",
   "execution_count": null,
   "id": "afc63e52",
   "metadata": {},
   "outputs": [],
   "source": []
  },
  {
   "cell_type": "markdown",
   "id": "558f7670",
   "metadata": {},
   "source": [
    "# Sarcasm Detection Model Using Late Fusion"
   ]
  },
  {
   "cell_type": "code",
   "execution_count": null,
   "id": "881e88d2",
   "metadata": {},
   "outputs": [],
   "source": []
  }
 ],
 "metadata": {
  "kernelspec": {
   "display_name": "Python 3 (ipykernel)",
   "language": "python",
   "name": "python3"
  },
  "language_info": {
   "codemirror_mode": {
    "name": "ipython",
    "version": 3
   },
   "file_extension": ".py",
   "mimetype": "text/x-python",
   "name": "python",
   "nbconvert_exporter": "python",
   "pygments_lexer": "ipython3",
   "version": "3.8.7"
  }
 },
 "nbformat": 4,
 "nbformat_minor": 5
}
