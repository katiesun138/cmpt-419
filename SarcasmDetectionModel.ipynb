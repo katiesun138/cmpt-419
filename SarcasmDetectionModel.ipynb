{
 "cells": [
  {
   "cell_type": "markdown",
   "id": "17298c89",
   "metadata": {},
   "source": [
    "# Load Data"
   ]
  },
  {
   "cell_type": "code",
   "execution_count": 1,
   "id": "5a74ddff",
   "metadata": {},
   "outputs": [],
   "source": [
    "# Libraries\n",
    "import pandas as pd\n",
    "from sklearn.model_selection import train_test_split\n",
    "from transformers import TFAutoModelForSequenceClassification, AutoTokenizer, AutoConfig\n",
    "import numpy as np\n",
    "from scipy.special import softmax"
   ]
  },
  {
   "cell_type": "code",
   "execution_count": 2,
   "id": "623ae494",
   "metadata": {},
   "outputs": [],
   "source": [
    "# Loading data from csv\n",
    "df = pd.read_csv('Sarcasm_Model_Dataset.csv')\n",
    "df.head()\n",
    "\n",
    "# Splitting data into test and train (80:20 split)\n",
    "train_df, test_df = train_test_split(df, test_size=0.2, random_state=0)"
   ]
  },
  {
   "cell_type": "markdown",
   "id": "a49991e5",
   "metadata": {},
   "source": [
    "# Frame Classifier"
   ]
  },
  {
   "cell_type": "code",
   "execution_count": null,
   "id": "f3fc15e7",
   "metadata": {},
   "outputs": [],
   "source": []
  },
  {
   "cell_type": "markdown",
   "id": "a2f022a8",
   "metadata": {},
   "source": [
    "# Audio Classifier"
   ]
  },
  {
   "cell_type": "code",
   "execution_count": null,
   "id": "5f41668e",
   "metadata": {},
   "outputs": [],
   "source": []
  },
  {
   "cell_type": "markdown",
   "id": "1734060e",
   "metadata": {},
   "source": [
    "# Text Classifer"
   ]
  },
  {
   "cell_type": "code",
   "execution_count": 14,
   "id": "9684d73f",
   "metadata": {
    "scrolled": true
   },
   "outputs": [
    {
     "name": "stderr",
     "output_type": "stream",
     "text": [
      "All model checkpoint layers were used when initializing TFRobertaForSequenceClassification.\n",
      "\n",
      "Some layers of TFRobertaForSequenceClassification were not initialized from the model checkpoint at cardiffnlp/twitter-roberta-base-sentiment-latest and are newly initialized: ['classifier']\n",
      "You should probably TRAIN this model on a down-stream task to be able to use it for predictions and inference.\n"
     ]
    },
    {
     "name": "stdout",
     "output_type": "stream",
     "text": [
      "           video                                            frame_1  \\\n",
      "104    2_208.mp4  8 8 8 8 8 6 6 6 6 6 7 7 7 6 6 6 5 4 9 23 14 13...   \n",
      "141    2_575.mp4  8 8 6 3 8 12 14 33 44 58 54 24 37 29 35 38 38 ...   \n",
      "4      1_276.mp4  123 124 124 92 31 11 14 15 15 16 15 15 15 13 1...   \n",
      "74   1_10890.mp4  53 58 63 44 59 155 169 168 167 164 163 161 161...   \n",
      "136    2_514.mp4  72 97 132 169 162 136 81 155 191 175 194 195 2...   \n",
      "\n",
      "                                               frame_2  \\\n",
      "104  2 2 2 2 2 2 3 3 3 3 3 2 3 2 1 17 20 14 15 15 1...   \n",
      "141  2 1 5 15 20 19 13 30 49 33 23 32 33 29 24 29 2...   \n",
      "4    93 30 3 4 5 6 5 5 6 6 6 7 7 7 9 5 4 4 6 4 2 5 ...   \n",
      "74   59 57 33 59 70 39 40 46 148 166 161 163 164 16...   \n",
      "136  181 195 222 197 178 210 230 248 230 105 13 15 ...   \n",
      "\n",
      "                                               frame_3         tone  \\\n",
      "104  6 6 6 7 7 7 8 8 7 6 6 7 7 7 7 7 7 9 7 6 7 9 9 ...    2_208.wav   \n",
      "141  14 13 3 1 10 21 19 14 38 42 34 27 45 42 30 26 ...    2_575.wav   \n",
      "4    123 96 29 3 4 5 6 6 6 5 6 6 7 8 8 5 3 5 5 4 2 ...    1_276.wav   \n",
      "74   52 36 34 82 176 165 164 164 164 162 160 158 15...  1_10890.wav   \n",
      "136  40 40 40 40 40 41 41 41 41 40 40 41 40 40 38 3...    2_514.wav   \n",
      "\n",
      "                                                  text  sarcasm sentiment  \\\n",
      "104                   It's that whole sensitive thing.    False   neutral   \n",
      "141  Why? Because she can sing and play guitar and ...     True   neutral   \n",
      "4    Yeah, my parents felt that naming me Leonard a...     True  positive   \n",
      "74   Boy, when you met Bernadette, the field of rob...     True   neutral   \n",
      "136        What's going on?!  That's what's going on!!    False   neutral   \n",
      "\n",
      "      score  sentiment_score  \n",
      "104  0.3712           0.3581  \n",
      "141  0.4350           0.3827  \n",
      "4    0.4099           0.3552  \n",
      "74   0.3734           0.3831  \n",
      "136  0.4166           0.3721  \n",
      "           video                                            frame_1  \\\n",
      "12    1_1001.mp4  125 126 126 126 126 126 126 126 126 127 126 12...   \n",
      "80   1_11699.mp4  66 80 78 77 73 34 25 51 66 61 71 77 60 63 59 4...   \n",
      "33    1_2216.mp4  32 29 23 18 20 21 21 19 19 20 22 23 22 19 14 1...   \n",
      "5      1_410.mp4  179 180 178 177 177 168 111 82 86 95 98 84 76 ...   \n",
      "188     2_53.mp4  11 5 12 23 22 21 21 23 24 29 31 29 27 27 23 20...   \n",
      "\n",
      "                                               frame_2  \\\n",
      "12   125 126 126 126 126 126 126 127 127 126 126 12...   \n",
      "80   32 52 74 78 78 74 64 25 29 42 63 64 68 68 53 6...   \n",
      "33   17 17 17 16 15 16 17 19 19 16 13 11 9 8 7 7 8 ...   \n",
      "5    179 178 177 176 143 86 84 90 99 91 79 76 75 75...   \n",
      "188  29 25 16 16 8 14 70 82 25 9 11 13 16 21 27 28 ...   \n",
      "\n",
      "                                               frame_3         tone  \\\n",
      "12   125 126 126 126 126 125 124 124 124 125 125 12...   1_1001.wav   \n",
      "80   77 74 75 76 85 43 20 27 45 48 55 57 56 61 61 5...  1_11699.wav   \n",
      "33   125 122 122 126 129 129 124 78 44 35 33 34 34 ...   1_2216.wav   \n",
      "5    83 86 93 97 85 78 76 76 76 75 76 76 80 88 100 ...    1_410.wav   \n",
      "188  8 53 92 52 9 17 20 20 24 27 30 32 32 32 32 31 ...     2_53.wav   \n",
      "\n",
      "                                                  text  sarcasm sentiment  \\\n",
      "12      What else? Sell it on eBay as \"slightly used.\"    False  positive   \n",
      "80   No, Stuart picked out those throw pillows all ...     True  positive   \n",
      "33   Excuse me, but what about me? Why don't I get ...    False  positive   \n",
      "5    Leonard, may I present, live from New Delhi, D...    False   neutral   \n",
      "188     You're gonna have to tell me how you did that.    False   neutral   \n",
      "\n",
      "      score  sentiment_score  \n",
      "12   0.4163           0.3660  \n",
      "80   0.3796           0.3578  \n",
      "33   0.3867           0.3413  \n",
      "5    0.4676           0.3981  \n",
      "188  0.3874           0.3785  \n"
     ]
    }
   ],
   "source": [
    "# Load classifier\n",
    "MODEL = \"cardiffnlp/twitter-roberta-base-sentiment-latest\"\n",
    "tokenizer = AutoTokenizer.from_pretrained(MODEL)\n",
    "config = AutoConfig.from_pretrained(MODEL)\n",
    "model = TFAutoModelForSequenceClassification.from_pretrained(MODEL)\n",
    "\n",
    "# Classify text and add sentiment and score columns to DataFrame\n",
    "def classify_text(row):\n",
    "    text = row['text']\n",
    "    encoded_input = tokenizer(text, return_tensors='tf')\n",
    "    output = model(**encoded_input)\n",
    "    scores = output[0][0].numpy()  # Convert TensorFlow tensor to NumPy array\n",
    "    scores = softmax(scores)\n",
    "    ranking = np.argsort(scores)[::-1]\n",
    "    l = config.id2label[ranking[0]]  # Take the label with highest score\n",
    "    s = np.round(float(scores[ranking[0]]), 4)\n",
    "    return pd.Series({'sentiment': l, 'score': s})\n",
    "\n",
    "# Apply classifier to each row in the DataFrame\n",
    "train_df[['sentiment', 'sentiment_score']] = train_df.apply(classify_text, axis=1)\n",
    "test_df[['sentiment', 'sentiment_score']] = test_df.apply(classify_text, axis=1)\n",
    "\n",
    "# Display the DataFrame with new columns\n",
    "print(train_df.head())\n",
    "print(test_df.head())"
   ]
  },
  {
   "cell_type": "code",
   "execution_count": 13,
   "id": "9643d776",
   "metadata": {
    "scrolled": true
   },
   "outputs": [
    {
     "name": "stdout",
     "output_type": "stream",
     "text": [
      "           video                                            frame_1  \\\n",
      "166     2_34.mp4  51 52 51 52 61 60 59 56 60 69 56 45 47 50 55 6...   \n",
      "20    1_1470.mp4  9 17 46 69 68 101 27 11 16 19 13 14 9 4 18 31 ...   \n",
      "93     2_268.mp4  77 77 77 77 76 76 78 75 82 71 51 58 65 68 69 7...   \n",
      "6      1_427.mp4  40 79 77 71 80 92 95 94 96 97 97 99 104 110 11...   \n",
      "160    2_398.mp4  48 48 48 50 54 59 55 52 51 51 51 50 50 50 49 5...   \n",
      "81   1_11736.mp4  121 121 118 117 115 114 112 110 110 109 107 10...   \n",
      "199    2_302.mp4  45 47 46 42 43 43 42 40 45 50 49 47 42 39 42 4...   \n",
      "140     2_43.mp4  97 95 102 104 107 109 110 111 111 112 112 113 ...   \n",
      "67    1_7661.mp4  58 63 59 54 39 40 46 49 58 82 95 74 67 64 62 6...   \n",
      "117    2_345.mp4  89 93 91 91 85 73 74 82 88 89 89 88 88 87 87 8...   \n",
      "\n",
      "                                               frame_2  \\\n",
      "166  52 52 52 52 57 62 56 55 60 68 55 43 46 51 57 6...   \n",
      "20   23 20 19 21 23 25 23 8 9 35 30 15 17 38 123 12...   \n",
      "93   72 72 73 73 73 73 73 73 73 73 73 73 73 74 74 7...   \n",
      "6    49 79 76 70 80 93 94 94 97 97 96 99 104 109 11...   \n",
      "160  58 60 68 63 61 63 62 64 69 82 100 85 71 68 65 ...   \n",
      "81   118 116 115 114 113 113 112 111 110 109 108 10...   \n",
      "199  47 46 45 47 47 44 44 49 51 50 46 42 42 49 48 3...   \n",
      "140  74 81 93 94 94 97 98 99 100 101 101 103 104 10...   \n",
      "67   37 58 63 67 107 85 78 69 64 65 66 66 66 69 73 ...   \n",
      "117  82 74 78 79 86 88 88 88 87 87 86 86 86 86 86 8...   \n",
      "\n",
      "                                               frame_3         tone  \\\n",
      "166  52 52 52 51 61 59 56 56 64 66 50 43 47 52 58 6...     2_34.wav   \n",
      "20   6 7 7 7 19 34 10 8 10 11 15 18 21 24 30 47 109...   1_1470.wav   \n",
      "93   68 70 72 73 74 74 73 73 73 73 74 75 75 75 75 7...    2_268.wav   \n",
      "6    52 80 76 70 80 93 94 94 97 98 98 102 107 112 1...    1_427.wav   \n",
      "160  87 78 81 84 87 88 96 119 131 97 77 72 69 81 11...    2_398.wav   \n",
      "81   125 124 122 121 120 119 117 115 114 113 111 11...  1_11736.wav   \n",
      "199  47 47 44 47 47 47 43 44 50 50 49 48 43 43 43 4...    2_302.wav   \n",
      "140  97 98 101 102 104 105 104 105 105 105 106 106 ...     2_43.wav   \n",
      "67   75 78 60 68 68 42 46 47 38 57 65 74 97 81 89 8...   1_7661.wav   \n",
      "117  93 93 93 92 93 93 93 93 93 93 90 85 82 88 84 8...    2_345.wav   \n",
      "\n",
      "                                                  text  sarcasm sentiment  \\\n",
      "166  Is it me or the greetings gone downhill around...     True  negative   \n",
      "20   I don't know. It just died. I'm getting a bunc...    False  negative   \n",
      "93   A lonely grey couch. \" O look \" cried Ned. And...    False  negative   \n",
      "6    Well, I'm sorry, too, but there's just no room...     True  negative   \n",
      "160  Rose, you should sit here and watch her hack h...     True  negative   \n",
      "81   I don't know, perhaps somebody took it off the...    False  negative   \n",
      "199  I know but it's so hard! Nothing rhymes with y...    False  negative   \n",
      "140  Well, y'know I'm 29. I mean who needs a saving...     True  negative   \n",
      "67   Yeah, that was five weeks ago. How much longer...    False  negative   \n",
      "117  Oh I left them in my bulldozer .. I don't have...     True  negative   \n",
      "\n",
      "      score  \n",
      "166  0.3532  \n",
      "20   0.3849  \n",
      "93   0.3631  \n",
      "6    0.3498  \n",
      "160  0.3595  \n",
      "81   0.3590  \n",
      "199  0.3533  \n",
      "140  0.3770  \n",
      "67   0.3862  \n",
      "117  0.3572  \n"
     ]
    }
   ],
   "source": []
  },
  {
   "cell_type": "markdown",
   "id": "956980c6",
   "metadata": {},
   "source": [
    "# Sarcasm Detection Model Using Late Fusion"
   ]
  },
  {
   "cell_type": "code",
   "execution_count": null,
   "id": "4fc32aec",
   "metadata": {},
   "outputs": [],
   "source": []
  }
 ],
 "metadata": {
  "kernelspec": {
   "display_name": "Python 3 (ipykernel)",
   "language": "python",
   "name": "python3"
  },
  "language_info": {
   "codemirror_mode": {
    "name": "ipython",
    "version": 3
   },
   "file_extension": ".py",
   "mimetype": "text/x-python",
   "name": "python",
   "nbconvert_exporter": "python",
   "pygments_lexer": "ipython3",
   "version": "3.11.5"
  }
 },
 "nbformat": 4,
 "nbformat_minor": 5
}
